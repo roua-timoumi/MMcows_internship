{
 "cells": [
  {
   "cell_type": "code",
   "execution_count": 3,
   "id": "15e5e923-df32-48f5-bdb4-580d8b25a1f9",
   "metadata": {},
   "outputs": [],
   "source": [
    "import os\n",
    "import shutil\n",
    "\n",
    "\n",
    "dataset_splits = {\n",
    "    \"train\": {\n",
    "        \"images\": r\"C:\\Users\\rouat\\Desktop\\final\\train\\images\",\n",
    "        \"labels\": r\"C:\\Users\\rouat\\Desktop\\final\\train\\labels\"\n",
    "    },\n",
    "    \"val\": {\n",
    "        \"images\": r\"C:\\Users\\rouat\\Desktop\\final\\val\\images\",\n",
    "        \"labels\": r\"C:\\Users\\rouat\\Desktop\\final\\val\\labels\"\n",
    "    },\n",
    "    \"test\": {\n",
    "        \"images\": r\"C:\\Users\\rouat\\Desktop\\final\\test\\images\",\n",
    "        \"labels\": r\"C:\\Users\\rouat\\Desktop\\final\\test\\labels\"\n",
    "    }\n",
    "}\n",
    "\n",
    "\n",
    "yolo_dir = r\"C:\\Users\\rouat\\Desktop\\final\\yolo\"\n",
    "\n",
    "\n",
    "for split, paths in dataset_splits.items():\n",
    "    yolo_images_dir = os.path.join(yolo_dir, split, \"images\")\n",
    "    yolo_labels_dir = os.path.join(yolo_dir, split, \"labels\")\n",
    "    \n",
    "    os.makedirs(yolo_images_dir, exist_ok=True)\n",
    "    os.makedirs(yolo_labels_dir, exist_ok=True)\n",
    "    \n",
    "    image_files = [f for f in os.listdir(paths[\"images\"]) if f.endswith((\".jpg\", \".png\"))]\n",
    "    \n",
    "    for img_file in image_files:\n",
    "        shutil.copy(os.path.join(paths[\"images\"], img_file),\n",
    "                    os.path.join(yolo_images_dir, img_file))\n",
    "        \n",
    "        label_file = os.path.splitext(img_file)[0] + \".txt\"\n",
    "        src_label_path = os.path.join(paths[\"labels\"], label_file)\n",
    "        dst_label_path = os.path.join(yolo_labels_dir, label_file)\n",
    "        \n",
    "        if os.path.exists(src_label_path):\n",
    "            with open(src_label_path, \"r\") as f:\n",
    "                lines = f.readlines()\n",
    "            \n",
    "            new_lines = []\n",
    "            for line in lines:\n",
    "                parts = line.strip().split()\n",
    "                if len(parts) > 0:\n",
    "                    parts[0] = \"0\"\n",
    "                    new_lines.append(\" \".join(parts))\n",
    "            \n",
    "            with open(dst_label_path, \"w\") as f:\n",
    "                f.write(\"\\n\".join(new_lines))\n"
   ]
  },
  {
   "cell_type": "code",
   "execution_count": null,
   "id": "b33c3b25-a9e3-4e4d-a634-5bf3af881bf7",
   "metadata": {},
   "outputs": [],
   "source": []
  }
 ],
 "metadata": {
  "kernelspec": {
   "display_name": "Python [conda env:yolov8]",
   "language": "python",
   "name": "conda-env-yolov8-py"
  },
  "language_info": {
   "codemirror_mode": {
    "name": "ipython",
    "version": 3
   },
   "file_extension": ".py",
   "mimetype": "text/x-python",
   "name": "python",
   "nbconvert_exporter": "python",
   "pygments_lexer": "ipython3",
   "version": "3.10.18"
  }
 },
 "nbformat": 4,
 "nbformat_minor": 5
}
