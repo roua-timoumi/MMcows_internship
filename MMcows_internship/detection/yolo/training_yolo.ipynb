{
 "cells": [
  {
   "cell_type": "code",
   "execution_count": 1,
   "id": "7cd9bcc8-7d2a-4fae-b62a-96412306d612",
   "metadata": {},
   "outputs": [
    {
     "name": "stderr",
     "output_type": "stream",
     "text": [
      "C:\\Users\\rouat\\anaconda3\\envs\\yolov8\\lib\\site-packages\\requests\\__init__.py:86: RequestsDependencyWarning: Unable to find acceptable character detection dependency (chardet or charset_normalizer).\n",
      "  warnings.warn(\n"
     ]
    },
    {
     "name": "stdout",
     "output_type": "stream",
     "text": [
      "Downloading https://github.com/ultralytics/assets/releases/download/v8.3.0/yolov8n.pt to 'yolov8n.pt'...\n"
     ]
    },
    {
     "name": "stderr",
     "output_type": "stream",
     "text": [
      "100%|██████████| 6.25M/6.25M [00:07<00:00, 888kB/s] \n"
     ]
    },
    {
     "name": "stdout",
     "output_type": "stream",
     "text": [
      "New https://pypi.org/project/ultralytics/8.3.197 available  Update with 'pip install -U ultralytics'\n",
      "Ultralytics 8.3.167  Python-3.10.18 torch-2.5.1+cu121 CUDA:0 (NVIDIA GeForce RTX 4060 Laptop GPU, 8188MiB)\n",
      "\u001b[34m\u001b[1mengine\\trainer: \u001b[0magnostic_nms=False, amp=True, augment=False, auto_augment=randaugment, batch=16, bgr=0.0, box=7.5, cache=False, cfg=None, classes=None, close_mosaic=10, cls=0.5, conf=None, copy_paste=0.0, copy_paste_mode=flip, cos_lr=False, cutmix=0.0, data=data.yaml, degrees=0.0, deterministic=True, device=0, dfl=1.5, dnn=False, dropout=0.0, dynamic=False, embed=None, epochs=200, erasing=0.4, exist_ok=False, fliplr=0.5, flipud=0.0, format=torchscript, fraction=1.0, freeze=None, half=False, hsv_h=0.015, hsv_s=0.7, hsv_v=0.4, imgsz=640, int8=False, iou=0.7, keras=False, kobj=1.0, line_width=None, lr0=0.01, lrf=0.01, mask_ratio=4, max_det=300, mixup=0.0, mode=train, model=yolov8n.pt, momentum=0.937, mosaic=1.0, multi_scale=False, name=yolov8_training, nbs=64, nms=False, opset=None, optimize=False, optimizer=auto, overlap_mask=True, patience=20, perspective=0.0, plots=True, pose=12.0, pretrained=True, profile=False, project=None, rect=False, resume=False, retina_masks=False, save=True, save_conf=False, save_crop=False, save_dir=runs\\detect\\yolov8_training, save_frames=False, save_json=False, save_period=1, save_txt=False, scale=0.5, seed=0, shear=0.0, show=False, show_boxes=True, show_conf=True, show_labels=True, simplify=True, single_cls=False, source=None, split=val, stream_buffer=False, task=detect, time=None, tracker=botsort.yaml, translate=0.1, val=True, verbose=True, vid_stride=1, visualize=False, warmup_bias_lr=0.1, warmup_epochs=3.0, warmup_momentum=0.8, weight_decay=0.0005, workers=8, workspace=None\n",
      "Overriding model.yaml nc=80 with nc=1\n",
      "\n",
      "                   from  n    params  module                                       arguments                     \n",
      "  0                  -1  1       464  ultralytics.nn.modules.conv.Conv             [3, 16, 3, 2]                 \n",
      "  1                  -1  1      4672  ultralytics.nn.modules.conv.Conv             [16, 32, 3, 2]                \n",
      "  2                  -1  1      7360  ultralytics.nn.modules.block.C2f             [32, 32, 1, True]             \n",
      "  3                  -1  1     18560  ultralytics.nn.modules.conv.Conv             [32, 64, 3, 2]                \n",
      "  4                  -1  2     49664  ultralytics.nn.modules.block.C2f             [64, 64, 2, True]             \n",
      "  5                  -1  1     73984  ultralytics.nn.modules.conv.Conv             [64, 128, 3, 2]               \n",
      "  6                  -1  2    197632  ultralytics.nn.modules.block.C2f             [128, 128, 2, True]           \n",
      "  7                  -1  1    295424  ultralytics.nn.modules.conv.Conv             [128, 256, 3, 2]              \n",
      "  8                  -1  1    460288  ultralytics.nn.modules.block.C2f             [256, 256, 1, True]           \n",
      "  9                  -1  1    164608  ultralytics.nn.modules.block.SPPF            [256, 256, 5]                 \n",
      " 10                  -1  1         0  torch.nn.modules.upsampling.Upsample         [None, 2, 'nearest']          \n",
      " 11             [-1, 6]  1         0  ultralytics.nn.modules.conv.Concat           [1]                           \n",
      " 12                  -1  1    148224  ultralytics.nn.modules.block.C2f             [384, 128, 1]                 \n",
      " 13                  -1  1         0  torch.nn.modules.upsampling.Upsample         [None, 2, 'nearest']          \n",
      " 14             [-1, 4]  1         0  ultralytics.nn.modules.conv.Concat           [1]                           \n",
      " 15                  -1  1     37248  ultralytics.nn.modules.block.C2f             [192, 64, 1]                  \n",
      " 16                  -1  1     36992  ultralytics.nn.modules.conv.Conv             [64, 64, 3, 2]                \n",
      " 17            [-1, 12]  1         0  ultralytics.nn.modules.conv.Concat           [1]                           \n",
      " 18                  -1  1    123648  ultralytics.nn.modules.block.C2f             [192, 128, 1]                 \n",
      " 19                  -1  1    147712  ultralytics.nn.modules.conv.Conv             [128, 128, 3, 2]              \n",
      " 20             [-1, 9]  1         0  ultralytics.nn.modules.conv.Concat           [1]                           \n",
      " 21                  -1  1    493056  ultralytics.nn.modules.block.C2f             [384, 256, 1]                 \n",
      " 22        [15, 18, 21]  1    751507  ultralytics.nn.modules.head.Detect           [1, [64, 128, 256]]           \n",
      "Model summary: 129 layers, 3,011,043 parameters, 3,011,027 gradients, 8.2 GFLOPs\n",
      "\n",
      "Transferred 319/355 items from pretrained weights\n",
      "Freezing layer 'model.22.dfl.conv.weight'\n",
      "\u001b[34m\u001b[1mAMP: \u001b[0mrunning Automatic Mixed Precision (AMP) checks...\n",
      "Downloading https://github.com/ultralytics/assets/releases/download/v8.3.0/yolo11n.pt to 'yolo11n.pt'...\n"
     ]
    },
    {
     "name": "stderr",
     "output_type": "stream",
     "text": [
      "100%|██████████| 5.35M/5.35M [00:11<00:00, 476kB/s] \n"
     ]
    },
    {
     "name": "stdout",
     "output_type": "stream",
     "text": [
      "\u001b[34m\u001b[1mAMP: \u001b[0mchecks passed \n",
      "\u001b[34m\u001b[1mtrain: \u001b[0mFast image access  (ping: 0.30.2 ms, read: 1191.2749.1 MB/s, size: 957.9 KB)\n"
     ]
    },
    {
     "name": "stderr",
     "output_type": "stream",
     "text": [
      "\u001b[34m\u001b[1mtrain: \u001b[0mScanning C:\\Users\\rouat\\Desktop\\final\\yolo\\train\\labels.cache... 3528 images, 273 backgrounds, 0 corrupt: 100%|██████████| 3528/3528 [00:00<?, ?it/s]\n"
     ]
    },
    {
     "name": "stdout",
     "output_type": "stream",
     "text": [
      "\u001b[34m\u001b[1mval: \u001b[0mFast image access  (ping: 0.20.0 ms, read: 390.398.9 MB/s, size: 916.4 KB)\n"
     ]
    },
    {
     "name": "stderr",
     "output_type": "stream",
     "text": [
      "\u001b[34m\u001b[1mval: \u001b[0mScanning C:\\Users\\rouat\\Desktop\\final\\yolo\\val\\labels.cache... 504 images, 0 backgrounds, 0 corrupt: 100%|██████████| 504/504 [00:00<?, ?it/s]\n"
     ]
    },
    {
     "name": "stdout",
     "output_type": "stream",
     "text": [
      "Plotting labels to runs\\detect\\yolov8_training\\labels.jpg... \n",
      "\u001b[34m\u001b[1moptimizer:\u001b[0m 'optimizer=auto' found, ignoring 'lr0=0.01' and 'momentum=0.937' and determining best 'optimizer', 'lr0' and 'momentum' automatically... \n",
      "\u001b[34m\u001b[1moptimizer:\u001b[0m SGD(lr=0.01, momentum=0.9) with parameter groups 57 weight(decay=0.0), 64 weight(decay=0.0005), 63 bias(decay=0.0)\n",
      "Image sizes 640 train, 640 val\n",
      "Using 8 dataloader workers\n",
      "Logging results to \u001b[1mruns\\detect\\yolov8_training\u001b[0m\n",
      "Starting training for 200 epochs...\n",
      "\n",
      "      Epoch    GPU_mem   box_loss   cls_loss   dfl_loss  Instances       Size\n"
     ]
    },
    {
     "name": "stderr",
     "output_type": "stream",
     "text": [
      "      1/200      2.35G      1.671      1.649      1.305        133        640: 100%|██████████| 221/221 [00:47<00:00,  4.61it/s]\n",
      "                 Class     Images  Instances      Box(P          R      mAP50  mAP50-95): 100%|██████████| 16/16 [00:05<00:00,  3.06it/s]"
     ]
    },
    {
     "name": "stdout",
     "output_type": "stream",
     "text": [
      "                   all        504       5376      0.791      0.733      0.819      0.452\n"
     ]
    },
    {
     "name": "stderr",
     "output_type": "stream",
     "text": [
      "\n"
     ]
    },
    {
     "name": "stdout",
     "output_type": "stream",
     "text": [
      "\n",
      "      Epoch    GPU_mem   box_loss   cls_loss   dfl_loss  Instances       Size\n"
     ]
    },
    {
     "name": "stderr",
     "output_type": "stream",
     "text": [
      "      2/200      2.47G      1.363     0.9376      1.139        131        640: 100%|██████████| 221/221 [00:42<00:00,  5.19it/s]\n",
      "                 Class     Images  Instances      Box(P          R      mAP50  mAP50-95): 100%|██████████| 16/16 [00:05<00:00,  3.13it/s]"
     ]
    },
    {
     "name": "stdout",
     "output_type": "stream",
     "text": [
      "                   all        504       5376      0.815      0.752      0.847       0.43\n"
     ]
    },
    {
     "name": "stderr",
     "output_type": "stream",
     "text": [
      "\n"
     ]
    },
    {
     "name": "stdout",
     "output_type": "stream",
     "text": [
      "\n",
      "      Epoch    GPU_mem   box_loss   cls_loss   dfl_loss  Instances       Size\n"
     ]
    },
    {
     "name": "stderr",
     "output_type": "stream",
     "text": [
      "      3/200      2.47G      1.319     0.8643      1.124        164        640: 100%|██████████| 221/221 [00:41<00:00,  5.31it/s]\n",
      "                 Class     Images  Instances      Box(P          R      mAP50  mAP50-95): 100%|██████████| 16/16 [00:04<00:00,  3.40it/s]"
     ]
    },
    {
     "name": "stdout",
     "output_type": "stream",
     "text": [
      "                   all        504       5376      0.874      0.791      0.895      0.518\n"
     ]
    },
    {
     "name": "stderr",
     "output_type": "stream",
     "text": [
      "\n"
     ]
    },
    {
     "name": "stdout",
     "output_type": "stream",
     "text": [
      "\n",
      "      Epoch    GPU_mem   box_loss   cls_loss   dfl_loss  Instances       Size\n"
     ]
    },
    {
     "name": "stderr",
     "output_type": "stream",
     "text": [
      "      4/200      2.47G      1.278     0.8022      1.108        166        640: 100%|██████████| 221/221 [00:41<00:00,  5.34it/s]\n",
      "                 Class     Images  Instances      Box(P          R      mAP50  mAP50-95): 100%|██████████| 16/16 [00:04<00:00,  3.39it/s]\n"
     ]
    },
    {
     "name": "stdout",
     "output_type": "stream",
     "text": [
      "                   all        504       5376      0.896      0.872      0.935      0.564\n",
      "\n",
      "      Epoch    GPU_mem   box_loss   cls_loss   dfl_loss  Instances       Size\n"
     ]
    },
    {
     "name": "stderr",
     "output_type": "stream",
     "text": [
      "      5/200      2.47G      1.205     0.7297      1.082        182        640: 100%|██████████| 221/221 [00:41<00:00,  5.28it/s]\n",
      "                 Class     Images  Instances      Box(P          R      mAP50  mAP50-95): 100%|██████████| 16/16 [00:04<00:00,  3.40it/s]"
     ]
    },
    {
     "name": "stdout",
     "output_type": "stream",
     "text": [
      "                   all        504       5376      0.926       0.83      0.925      0.554\n"
     ]
    },
    {
     "name": "stderr",
     "output_type": "stream",
     "text": [
      "\n"
     ]
    },
    {
     "name": "stdout",
     "output_type": "stream",
     "text": [
      "\n",
      "      Epoch    GPU_mem   box_loss   cls_loss   dfl_loss  Instances       Size\n"
     ]
    },
    {
     "name": "stderr",
     "output_type": "stream",
     "text": [
      "      6/200      2.47G      1.166     0.6883       1.07        163        640: 100%|██████████| 221/221 [01:22<00:00,  2.69it/s]\n",
      "                 Class     Images  Instances      Box(P          R      mAP50  mAP50-95): 100%|██████████| 16/16 [00:04<00:00,  3.44it/s]"
     ]
    },
    {
     "name": "stdout",
     "output_type": "stream",
     "text": [
      "                   all        504       5376      0.922      0.811      0.919      0.574\n"
     ]
    },
    {
     "name": "stderr",
     "output_type": "stream",
     "text": [
      "\n"
     ]
    },
    {
     "name": "stdout",
     "output_type": "stream",
     "text": [
      "\n",
      "      Epoch    GPU_mem   box_loss   cls_loss   dfl_loss  Instances       Size\n"
     ]
    },
    {
     "name": "stderr",
     "output_type": "stream",
     "text": [
      "      7/200      2.47G      1.134     0.6524      1.058        199        640: 100%|██████████| 221/221 [00:45<00:00,  4.86it/s]\n",
      "                 Class     Images  Instances      Box(P          R      mAP50  mAP50-95): 100%|██████████| 16/16 [00:05<00:00,  3.12it/s]"
     ]
    },
    {
     "name": "stdout",
     "output_type": "stream",
     "text": [
      "                   all        504       5376      0.923      0.881       0.96      0.605\n"
     ]
    },
    {
     "name": "stderr",
     "output_type": "stream",
     "text": [
      "\n"
     ]
    },
    {
     "name": "stdout",
     "output_type": "stream",
     "text": [
      "\n",
      "      Epoch    GPU_mem   box_loss   cls_loss   dfl_loss  Instances       Size\n"
     ]
    },
    {
     "name": "stderr",
     "output_type": "stream",
     "text": [
      "      8/200      2.47G      1.111     0.6329       1.05        136        640: 100%|██████████| 221/221 [00:40<00:00,  5.44it/s]\n",
      "                 Class     Images  Instances      Box(P          R      mAP50  mAP50-95): 100%|██████████| 16/16 [00:04<00:00,  3.32it/s]"
     ]
    },
    {
     "name": "stdout",
     "output_type": "stream",
     "text": [
      "                   all        504       5376      0.929       0.88      0.955      0.595\n"
     ]
    },
    {
     "name": "stderr",
     "output_type": "stream",
     "text": [
      "\n"
     ]
    },
    {
     "name": "stdout",
     "output_type": "stream",
     "text": [
      "\n",
      "      Epoch    GPU_mem   box_loss   cls_loss   dfl_loss  Instances       Size\n"
     ]
    },
    {
     "name": "stderr",
     "output_type": "stream",
     "text": [
      "      9/200      2.47G      1.086     0.6097      1.039        174        640: 100%|██████████| 221/221 [00:38<00:00,  5.79it/s]\n",
      "                 Class     Images  Instances      Box(P          R      mAP50  mAP50-95): 100%|██████████| 16/16 [00:04<00:00,  3.74it/s]"
     ]
    },
    {
     "name": "stdout",
     "output_type": "stream",
     "text": [
      "                   all        504       5376      0.916      0.894      0.959      0.578\n"
     ]
    },
    {
     "name": "stderr",
     "output_type": "stream",
     "text": [
      "\n"
     ]
    },
    {
     "name": "stdout",
     "output_type": "stream",
     "text": [
      "\n",
      "      Epoch    GPU_mem   box_loss   cls_loss   dfl_loss  Instances       Size\n"
     ]
    },
    {
     "name": "stderr",
     "output_type": "stream",
     "text": [
      "     10/200      2.47G      1.071     0.5976      1.034        171        640: 100%|██████████| 221/221 [00:35<00:00,  6.17it/s]\n",
      "                 Class     Images  Instances      Box(P          R      mAP50  mAP50-95): 100%|██████████| 16/16 [00:04<00:00,  3.62it/s]"
     ]
    },
    {
     "name": "stdout",
     "output_type": "stream",
     "text": [
      "                   all        504       5376      0.931      0.854      0.952      0.581\n"
     ]
    },
    {
     "name": "stderr",
     "output_type": "stream",
     "text": [
      "\n"
     ]
    },
    {
     "name": "stdout",
     "output_type": "stream",
     "text": [
      "\n",
      "      Epoch    GPU_mem   box_loss   cls_loss   dfl_loss  Instances       Size\n"
     ]
    },
    {
     "name": "stderr",
     "output_type": "stream",
     "text": [
      "     11/200      2.47G      1.054     0.5808      1.026        136        640: 100%|██████████| 221/221 [00:36<00:00,  6.03it/s]\n",
      "                 Class     Images  Instances      Box(P          R      mAP50  mAP50-95): 100%|██████████| 16/16 [00:04<00:00,  3.74it/s]"
     ]
    },
    {
     "name": "stdout",
     "output_type": "stream",
     "text": [
      "                   all        504       5376      0.898      0.882      0.952      0.586\n"
     ]
    },
    {
     "name": "stderr",
     "output_type": "stream",
     "text": [
      "\n"
     ]
    },
    {
     "name": "stdout",
     "output_type": "stream",
     "text": [
      "\n",
      "      Epoch    GPU_mem   box_loss   cls_loss   dfl_loss  Instances       Size\n"
     ]
    },
    {
     "name": "stderr",
     "output_type": "stream",
     "text": [
      "     12/200      2.47G      1.036     0.5727       1.02        113        640: 100%|██████████| 221/221 [00:39<00:00,  5.63it/s]\n",
      "                 Class     Images  Instances      Box(P          R      mAP50  mAP50-95): 100%|██████████| 16/16 [00:04<00:00,  3.88it/s]"
     ]
    },
    {
     "name": "stdout",
     "output_type": "stream",
     "text": [
      "                   all        504       5376      0.931      0.901      0.969      0.629\n"
     ]
    },
    {
     "name": "stderr",
     "output_type": "stream",
     "text": [
      "\n"
     ]
    },
    {
     "name": "stdout",
     "output_type": "stream",
     "text": [
      "\n",
      "      Epoch    GPU_mem   box_loss   cls_loss   dfl_loss  Instances       Size\n"
     ]
    },
    {
     "name": "stderr",
     "output_type": "stream",
     "text": [
      "     13/200      2.47G      1.027     0.5616      1.015        194        640: 100%|██████████| 221/221 [00:39<00:00,  5.60it/s]\n",
      "                 Class     Images  Instances      Box(P          R      mAP50  mAP50-95): 100%|██████████| 16/16 [00:04<00:00,  3.62it/s]"
     ]
    },
    {
     "name": "stdout",
     "output_type": "stream",
     "text": [
      "                   all        504       5376      0.936        0.9      0.964      0.612\n"
     ]
    },
    {
     "name": "stderr",
     "output_type": "stream",
     "text": [
      "\n"
     ]
    },
    {
     "name": "stdout",
     "output_type": "stream",
     "text": [
      "\n",
      "      Epoch    GPU_mem   box_loss   cls_loss   dfl_loss  Instances       Size\n"
     ]
    },
    {
     "name": "stderr",
     "output_type": "stream",
     "text": [
      "     14/200      2.47G      1.018     0.5553      1.013        195        640: 100%|██████████| 221/221 [00:40<00:00,  5.48it/s]\n",
      "                 Class     Images  Instances      Box(P          R      mAP50  mAP50-95): 100%|██████████| 16/16 [00:04<00:00,  3.60it/s]"
     ]
    },
    {
     "name": "stdout",
     "output_type": "stream",
     "text": [
      "                   all        504       5376      0.955      0.883      0.962      0.622\n"
     ]
    },
    {
     "name": "stderr",
     "output_type": "stream",
     "text": [
      "\n"
     ]
    },
    {
     "name": "stdout",
     "output_type": "stream",
     "text": [
      "\n",
      "      Epoch    GPU_mem   box_loss   cls_loss   dfl_loss  Instances       Size\n"
     ]
    },
    {
     "name": "stderr",
     "output_type": "stream",
     "text": [
      "     15/200      2.47G      1.007     0.5474      1.009        157        640: 100%|██████████| 221/221 [00:39<00:00,  5.63it/s]\n",
      "                 Class     Images  Instances      Box(P          R      mAP50  mAP50-95): 100%|██████████| 16/16 [00:04<00:00,  3.92it/s]"
     ]
    },
    {
     "name": "stdout",
     "output_type": "stream",
     "text": [
      "                   all        504       5376      0.908      0.868       0.95       0.61\n"
     ]
    },
    {
     "name": "stderr",
     "output_type": "stream",
     "text": [
      "\n"
     ]
    },
    {
     "name": "stdout",
     "output_type": "stream",
     "text": [
      "\n",
      "      Epoch    GPU_mem   box_loss   cls_loss   dfl_loss  Instances       Size\n"
     ]
    },
    {
     "name": "stderr",
     "output_type": "stream",
     "text": [
      "     16/200      2.47G     0.9968     0.5419      1.007        159        640: 100%|██████████| 221/221 [00:38<00:00,  5.79it/s]\n",
      "                 Class     Images  Instances      Box(P          R      mAP50  mAP50-95): 100%|██████████| 16/16 [00:04<00:00,  3.94it/s]"
     ]
    },
    {
     "name": "stdout",
     "output_type": "stream",
     "text": [
      "                   all        504       5376      0.943      0.923      0.974      0.648\n"
     ]
    },
    {
     "name": "stderr",
     "output_type": "stream",
     "text": [
      "\n"
     ]
    },
    {
     "name": "stdout",
     "output_type": "stream",
     "text": [
      "\n",
      "      Epoch    GPU_mem   box_loss   cls_loss   dfl_loss  Instances       Size\n"
     ]
    },
    {
     "name": "stderr",
     "output_type": "stream",
     "text": [
      "     17/200      2.47G      0.989     0.5335      1.002        171        640: 100%|██████████| 221/221 [00:37<00:00,  5.92it/s]\n",
      "                 Class     Images  Instances      Box(P          R      mAP50  mAP50-95): 100%|██████████| 16/16 [00:04<00:00,  3.87it/s]"
     ]
    },
    {
     "name": "stdout",
     "output_type": "stream",
     "text": [
      "                   all        504       5376      0.926       0.89      0.964      0.631\n"
     ]
    },
    {
     "name": "stderr",
     "output_type": "stream",
     "text": [
      "\n"
     ]
    },
    {
     "name": "stdout",
     "output_type": "stream",
     "text": [
      "\n",
      "      Epoch    GPU_mem   box_loss   cls_loss   dfl_loss  Instances       Size\n"
     ]
    },
    {
     "name": "stderr",
     "output_type": "stream",
     "text": [
      "     18/200      2.47G     0.9745     0.5279     0.9974        180        640: 100%|██████████| 221/221 [00:37<00:00,  5.93it/s]\n",
      "                 Class     Images  Instances      Box(P          R      mAP50  mAP50-95): 100%|██████████| 16/16 [00:03<00:00,  4.06it/s]\n"
     ]
    },
    {
     "name": "stdout",
     "output_type": "stream",
     "text": [
      "                   all        504       5376      0.938      0.887      0.963      0.626\n",
      "\n",
      "      Epoch    GPU_mem   box_loss   cls_loss   dfl_loss  Instances       Size\n"
     ]
    },
    {
     "name": "stderr",
     "output_type": "stream",
     "text": [
      "     19/200      2.47G     0.9721     0.5233     0.9962        165        640: 100%|██████████| 221/221 [00:36<00:00,  6.04it/s]\n",
      "                 Class     Images  Instances      Box(P          R      mAP50  mAP50-95): 100%|██████████| 16/16 [00:04<00:00,  3.79it/s]"
     ]
    },
    {
     "name": "stdout",
     "output_type": "stream",
     "text": [
      "                   all        504       5376      0.928      0.906      0.965      0.627\n"
     ]
    },
    {
     "name": "stderr",
     "output_type": "stream",
     "text": [
      "\n"
     ]
    },
    {
     "name": "stdout",
     "output_type": "stream",
     "text": [
      "\n",
      "      Epoch    GPU_mem   box_loss   cls_loss   dfl_loss  Instances       Size\n"
     ]
    },
    {
     "name": "stderr",
     "output_type": "stream",
     "text": [
      "     20/200      2.47G     0.9601     0.5162     0.9926        152        640: 100%|██████████| 221/221 [00:36<00:00,  5.98it/s]\n",
      "                 Class     Images  Instances      Box(P          R      mAP50  mAP50-95): 100%|██████████| 16/16 [00:03<00:00,  4.26it/s]"
     ]
    },
    {
     "name": "stdout",
     "output_type": "stream",
     "text": [
      "                   all        504       5376      0.931      0.898      0.961      0.622\n"
     ]
    },
    {
     "name": "stderr",
     "output_type": "stream",
     "text": [
      "\n"
     ]
    },
    {
     "name": "stdout",
     "output_type": "stream",
     "text": [
      "\n",
      "      Epoch    GPU_mem   box_loss   cls_loss   dfl_loss  Instances       Size\n"
     ]
    },
    {
     "name": "stderr",
     "output_type": "stream",
     "text": [
      "     21/200      2.47G      0.958     0.5134     0.9929        170        640: 100%|██████████| 221/221 [00:38<00:00,  5.71it/s]\n",
      "                 Class     Images  Instances      Box(P          R      mAP50  mAP50-95): 100%|██████████| 16/16 [00:03<00:00,  4.08it/s]"
     ]
    },
    {
     "name": "stdout",
     "output_type": "stream",
     "text": [
      "                   all        504       5376      0.948      0.897       0.97      0.619\n"
     ]
    },
    {
     "name": "stderr",
     "output_type": "stream",
     "text": [
      "\n"
     ]
    },
    {
     "name": "stdout",
     "output_type": "stream",
     "text": [
      "\n",
      "      Epoch    GPU_mem   box_loss   cls_loss   dfl_loss  Instances       Size\n"
     ]
    },
    {
     "name": "stderr",
     "output_type": "stream",
     "text": [
      "     22/200      2.47G     0.9493     0.5075     0.9892        161        640: 100%|██████████| 221/221 [00:38<00:00,  5.80it/s]\n",
      "                 Class     Images  Instances      Box(P          R      mAP50  mAP50-95): 100%|██████████| 16/16 [00:04<00:00,  3.53it/s]"
     ]
    },
    {
     "name": "stdout",
     "output_type": "stream",
     "text": [
      "                   all        504       5376      0.924      0.899      0.961      0.621\n"
     ]
    },
    {
     "name": "stderr",
     "output_type": "stream",
     "text": [
      "\n"
     ]
    },
    {
     "name": "stdout",
     "output_type": "stream",
     "text": [
      "\n",
      "      Epoch    GPU_mem   box_loss   cls_loss   dfl_loss  Instances       Size\n"
     ]
    },
    {
     "name": "stderr",
     "output_type": "stream",
     "text": [
      "     23/200      2.47G     0.9384     0.5014     0.9813        129        640: 100%|██████████| 221/221 [00:36<00:00,  6.06it/s]\n",
      "                 Class     Images  Instances      Box(P          R      mAP50  mAP50-95): 100%|██████████| 16/16 [00:04<00:00,  3.94it/s]"
     ]
    },
    {
     "name": "stdout",
     "output_type": "stream",
     "text": [
      "                   all        504       5376      0.907        0.9      0.962      0.615\n"
     ]
    },
    {
     "name": "stderr",
     "output_type": "stream",
     "text": [
      "\n"
     ]
    },
    {
     "name": "stdout",
     "output_type": "stream",
     "text": [
      "\n",
      "      Epoch    GPU_mem   box_loss   cls_loss   dfl_loss  Instances       Size\n"
     ]
    },
    {
     "name": "stderr",
     "output_type": "stream",
     "text": [
      "     24/200      2.47G     0.9383     0.5003     0.9835        113        640: 100%|██████████| 221/221 [00:36<00:00,  6.06it/s]\n",
      "                 Class     Images  Instances      Box(P          R      mAP50  mAP50-95): 100%|██████████| 16/16 [00:03<00:00,  4.19it/s]"
     ]
    },
    {
     "name": "stdout",
     "output_type": "stream",
     "text": [
      "                   all        504       5376      0.951      0.903      0.973      0.648\n"
     ]
    },
    {
     "name": "stderr",
     "output_type": "stream",
     "text": [
      "\n"
     ]
    },
    {
     "name": "stdout",
     "output_type": "stream",
     "text": [
      "\n",
      "      Epoch    GPU_mem   box_loss   cls_loss   dfl_loss  Instances       Size\n"
     ]
    },
    {
     "name": "stderr",
     "output_type": "stream",
     "text": [
      "     25/200      2.47G     0.9272     0.4964     0.9791        145        640: 100%|██████████| 221/221 [00:35<00:00,  6.18it/s]\n",
      "                 Class     Images  Instances      Box(P          R      mAP50  mAP50-95): 100%|██████████| 16/16 [00:04<00:00,  3.75it/s]\n"
     ]
    },
    {
     "name": "stdout",
     "output_type": "stream",
     "text": [
      "                   all        504       5376      0.936      0.933      0.973      0.643\n",
      "\n",
      "      Epoch    GPU_mem   box_loss   cls_loss   dfl_loss  Instances       Size\n"
     ]
    },
    {
     "name": "stderr",
     "output_type": "stream",
     "text": [
      "     26/200      2.47G     0.9262     0.4938     0.9784        139        640: 100%|██████████| 221/221 [00:35<00:00,  6.20it/s]\n",
      "                 Class     Images  Instances      Box(P          R      mAP50  mAP50-95): 100%|██████████| 16/16 [00:04<00:00,  3.94it/s]"
     ]
    },
    {
     "name": "stdout",
     "output_type": "stream",
     "text": [
      "                   all        504       5376      0.935      0.907      0.968      0.631\n"
     ]
    },
    {
     "name": "stderr",
     "output_type": "stream",
     "text": [
      "\n"
     ]
    },
    {
     "name": "stdout",
     "output_type": "stream",
     "text": [
      "\n",
      "      Epoch    GPU_mem   box_loss   cls_loss   dfl_loss  Instances       Size\n"
     ]
    },
    {
     "name": "stderr",
     "output_type": "stream",
     "text": [
      "     27/200      2.47G     0.9201     0.4891     0.9736        157        640: 100%|██████████| 221/221 [00:37<00:00,  5.91it/s]\n",
      "                 Class     Images  Instances      Box(P          R      mAP50  mAP50-95): 100%|██████████| 16/16 [00:04<00:00,  3.96it/s]"
     ]
    },
    {
     "name": "stdout",
     "output_type": "stream",
     "text": [
      "                   all        504       5376      0.931      0.899      0.967      0.643\n"
     ]
    },
    {
     "name": "stderr",
     "output_type": "stream",
     "text": [
      "\n"
     ]
    },
    {
     "name": "stdout",
     "output_type": "stream",
     "text": [
      "\n",
      "      Epoch    GPU_mem   box_loss   cls_loss   dfl_loss  Instances       Size\n"
     ]
    },
    {
     "name": "stderr",
     "output_type": "stream",
     "text": [
      "     28/200      2.47G     0.9146     0.4869     0.9746        194        640: 100%|██████████| 221/221 [00:36<00:00,  6.04it/s]\n",
      "                 Class     Images  Instances      Box(P          R      mAP50  mAP50-95): 100%|██████████| 16/16 [00:03<00:00,  4.09it/s]"
     ]
    },
    {
     "name": "stdout",
     "output_type": "stream",
     "text": [
      "                   all        504       5376      0.942       0.91      0.974      0.633\n"
     ]
    },
    {
     "name": "stderr",
     "output_type": "stream",
     "text": [
      "\n"
     ]
    },
    {
     "name": "stdout",
     "output_type": "stream",
     "text": [
      "\n",
      "      Epoch    GPU_mem   box_loss   cls_loss   dfl_loss  Instances       Size\n"
     ]
    },
    {
     "name": "stderr",
     "output_type": "stream",
     "text": [
      "     29/200      2.47G     0.9079      0.486     0.9727        158        640: 100%|██████████| 221/221 [00:36<00:00,  6.11it/s]\n",
      "                 Class     Images  Instances      Box(P          R      mAP50  mAP50-95): 100%|██████████| 16/16 [00:04<00:00,  3.90it/s]"
     ]
    },
    {
     "name": "stdout",
     "output_type": "stream",
     "text": [
      "                   all        504       5376      0.939       0.92      0.972      0.637\n"
     ]
    },
    {
     "name": "stderr",
     "output_type": "stream",
     "text": [
      "\n"
     ]
    },
    {
     "name": "stdout",
     "output_type": "stream",
     "text": [
      "\n",
      "      Epoch    GPU_mem   box_loss   cls_loss   dfl_loss  Instances       Size\n"
     ]
    },
    {
     "name": "stderr",
     "output_type": "stream",
     "text": [
      "     30/200      2.47G     0.9088     0.4807     0.9721        171        640: 100%|██████████| 221/221 [00:35<00:00,  6.16it/s]\n",
      "                 Class     Images  Instances      Box(P          R      mAP50  mAP50-95): 100%|██████████| 16/16 [00:03<00:00,  4.01it/s]"
     ]
    },
    {
     "name": "stdout",
     "output_type": "stream",
     "text": [
      "                   all        504       5376      0.946      0.919      0.974      0.653\n"
     ]
    },
    {
     "name": "stderr",
     "output_type": "stream",
     "text": [
      "\n"
     ]
    },
    {
     "name": "stdout",
     "output_type": "stream",
     "text": [
      "\n",
      "      Epoch    GPU_mem   box_loss   cls_loss   dfl_loss  Instances       Size\n"
     ]
    },
    {
     "name": "stderr",
     "output_type": "stream",
     "text": [
      "     31/200      2.47G     0.9048     0.4782     0.9699        104        640: 100%|██████████| 221/221 [00:35<00:00,  6.19it/s]\n",
      "                 Class     Images  Instances      Box(P          R      mAP50  mAP50-95): 100%|██████████| 16/16 [00:04<00:00,  3.80it/s]"
     ]
    },
    {
     "name": "stdout",
     "output_type": "stream",
     "text": [
      "                   all        504       5376      0.947      0.906      0.969       0.63\n"
     ]
    },
    {
     "name": "stderr",
     "output_type": "stream",
     "text": [
      "\n"
     ]
    },
    {
     "name": "stdout",
     "output_type": "stream",
     "text": [
      "\n",
      "      Epoch    GPU_mem   box_loss   cls_loss   dfl_loss  Instances       Size\n"
     ]
    },
    {
     "name": "stderr",
     "output_type": "stream",
     "text": [
      "     32/200      2.47G     0.8997     0.4771     0.9677        198        640: 100%|██████████| 221/221 [00:35<00:00,  6.24it/s]\n",
      "                 Class     Images  Instances      Box(P          R      mAP50  mAP50-95): 100%|██████████| 16/16 [00:04<00:00,  3.95it/s]"
     ]
    },
    {
     "name": "stdout",
     "output_type": "stream",
     "text": [
      "                   all        504       5376      0.937      0.921      0.971      0.628\n"
     ]
    },
    {
     "name": "stderr",
     "output_type": "stream",
     "text": [
      "\n"
     ]
    },
    {
     "name": "stdout",
     "output_type": "stream",
     "text": [
      "\n",
      "      Epoch    GPU_mem   box_loss   cls_loss   dfl_loss  Instances       Size\n"
     ]
    },
    {
     "name": "stderr",
     "output_type": "stream",
     "text": [
      "     33/200      2.47G     0.8955     0.4736     0.9678        170        640: 100%|██████████| 221/221 [00:35<00:00,  6.22it/s]\n",
      "                 Class     Images  Instances      Box(P          R      mAP50  mAP50-95): 100%|██████████| 16/16 [00:04<00:00,  3.87it/s]"
     ]
    },
    {
     "name": "stdout",
     "output_type": "stream",
     "text": [
      "                   all        504       5376      0.937      0.909      0.972      0.622\n"
     ]
    },
    {
     "name": "stderr",
     "output_type": "stream",
     "text": [
      "\n"
     ]
    },
    {
     "name": "stdout",
     "output_type": "stream",
     "text": [
      "\n",
      "      Epoch    GPU_mem   box_loss   cls_loss   dfl_loss  Instances       Size\n"
     ]
    },
    {
     "name": "stderr",
     "output_type": "stream",
     "text": [
      "     34/200      2.47G     0.8886     0.4696     0.9677        216        640: 100%|██████████| 221/221 [00:35<00:00,  6.29it/s]\n",
      "                 Class     Images  Instances      Box(P          R      mAP50  mAP50-95): 100%|██████████| 16/16 [00:04<00:00,  3.88it/s]"
     ]
    },
    {
     "name": "stdout",
     "output_type": "stream",
     "text": [
      "                   all        504       5376      0.948      0.929      0.976      0.649\n"
     ]
    },
    {
     "name": "stderr",
     "output_type": "stream",
     "text": [
      "\n"
     ]
    },
    {
     "name": "stdout",
     "output_type": "stream",
     "text": [
      "\n",
      "      Epoch    GPU_mem   box_loss   cls_loss   dfl_loss  Instances       Size\n"
     ]
    },
    {
     "name": "stderr",
     "output_type": "stream",
     "text": [
      "     35/200      2.47G      0.884     0.4676     0.9633        121        640: 100%|██████████| 221/221 [00:36<00:00,  6.05it/s]\n",
      "                 Class     Images  Instances      Box(P          R      mAP50  mAP50-95): 100%|██████████| 16/16 [00:04<00:00,  3.67it/s]"
     ]
    },
    {
     "name": "stdout",
     "output_type": "stream",
     "text": [
      "                   all        504       5376      0.948      0.924      0.977      0.651\n"
     ]
    },
    {
     "name": "stderr",
     "output_type": "stream",
     "text": [
      "\n"
     ]
    },
    {
     "name": "stdout",
     "output_type": "stream",
     "text": [
      "\n",
      "      Epoch    GPU_mem   box_loss   cls_loss   dfl_loss  Instances       Size\n"
     ]
    },
    {
     "name": "stderr",
     "output_type": "stream",
     "text": [
      "     36/200      2.47G     0.8853     0.4668     0.9629        129        640: 100%|██████████| 221/221 [00:38<00:00,  5.76it/s]\n",
      "                 Class     Images  Instances      Box(P          R      mAP50  mAP50-95): 100%|██████████| 16/16 [00:03<00:00,  4.05it/s]"
     ]
    },
    {
     "name": "stdout",
     "output_type": "stream",
     "text": [
      "                   all        504       5376      0.944       0.92      0.972      0.655\n"
     ]
    },
    {
     "name": "stderr",
     "output_type": "stream",
     "text": [
      "\n"
     ]
    },
    {
     "name": "stdout",
     "output_type": "stream",
     "text": [
      "\n",
      "      Epoch    GPU_mem   box_loss   cls_loss   dfl_loss  Instances       Size\n"
     ]
    },
    {
     "name": "stderr",
     "output_type": "stream",
     "text": [
      "     37/200      2.47G     0.8805     0.4654     0.9632        183        640: 100%|██████████| 221/221 [00:37<00:00,  5.82it/s]\n",
      "                 Class     Images  Instances      Box(P          R      mAP50  mAP50-95): 100%|██████████| 16/16 [00:04<00:00,  3.70it/s]"
     ]
    },
    {
     "name": "stdout",
     "output_type": "stream",
     "text": [
      "                   all        504       5376      0.913      0.914      0.969       0.64\n"
     ]
    },
    {
     "name": "stderr",
     "output_type": "stream",
     "text": [
      "\n"
     ]
    },
    {
     "name": "stdout",
     "output_type": "stream",
     "text": [
      "\n",
      "      Epoch    GPU_mem   box_loss   cls_loss   dfl_loss  Instances       Size\n"
     ]
    },
    {
     "name": "stderr",
     "output_type": "stream",
     "text": [
      "     38/200      2.47G     0.8739     0.4599     0.9603        106        640: 100%|██████████| 221/221 [00:38<00:00,  5.74it/s]\n",
      "                 Class     Images  Instances      Box(P          R      mAP50  mAP50-95): 100%|██████████| 16/16 [00:04<00:00,  3.84it/s]"
     ]
    },
    {
     "name": "stdout",
     "output_type": "stream",
     "text": [
      "                   all        504       5376       0.94      0.898      0.964      0.629\n"
     ]
    },
    {
     "name": "stderr",
     "output_type": "stream",
     "text": [
      "\n"
     ]
    },
    {
     "name": "stdout",
     "output_type": "stream",
     "text": [
      "\n",
      "      Epoch    GPU_mem   box_loss   cls_loss   dfl_loss  Instances       Size\n"
     ]
    },
    {
     "name": "stderr",
     "output_type": "stream",
     "text": [
      "     39/200      2.47G     0.8716     0.4607     0.9593        162        640: 100%|██████████| 221/221 [00:37<00:00,  5.92it/s]\n",
      "                 Class     Images  Instances      Box(P          R      mAP50  mAP50-95): 100%|██████████| 16/16 [00:04<00:00,  3.78it/s]"
     ]
    },
    {
     "name": "stdout",
     "output_type": "stream",
     "text": [
      "                   all        504       5376      0.934      0.908      0.964      0.631\n"
     ]
    },
    {
     "name": "stderr",
     "output_type": "stream",
     "text": [
      "\n"
     ]
    },
    {
     "name": "stdout",
     "output_type": "stream",
     "text": [
      "\n",
      "      Epoch    GPU_mem   box_loss   cls_loss   dfl_loss  Instances       Size\n"
     ]
    },
    {
     "name": "stderr",
     "output_type": "stream",
     "text": [
      "     40/200      2.47G     0.8659     0.4593     0.9543        138        640: 100%|██████████| 221/221 [00:37<00:00,  5.92it/s]\n",
      "                 Class     Images  Instances      Box(P          R      mAP50  mAP50-95): 100%|██████████| 16/16 [00:03<00:00,  4.02it/s]"
     ]
    },
    {
     "name": "stdout",
     "output_type": "stream",
     "text": [
      "                   all        504       5376      0.939      0.917       0.97      0.642\n"
     ]
    },
    {
     "name": "stderr",
     "output_type": "stream",
     "text": [
      "\n"
     ]
    },
    {
     "name": "stdout",
     "output_type": "stream",
     "text": [
      "\n",
      "      Epoch    GPU_mem   box_loss   cls_loss   dfl_loss  Instances       Size\n"
     ]
    },
    {
     "name": "stderr",
     "output_type": "stream",
     "text": [
      "     41/200      2.47G     0.8603     0.4552     0.9561        180        640: 100%|██████████| 221/221 [00:37<00:00,  5.96it/s]\n",
      "                 Class     Images  Instances      Box(P          R      mAP50  mAP50-95): 100%|██████████| 16/16 [00:04<00:00,  3.78it/s]"
     ]
    },
    {
     "name": "stdout",
     "output_type": "stream",
     "text": [
      "                   all        504       5376      0.923      0.913      0.968      0.634\n"
     ]
    },
    {
     "name": "stderr",
     "output_type": "stream",
     "text": [
      "\n"
     ]
    },
    {
     "name": "stdout",
     "output_type": "stream",
     "text": [
      "\n",
      "      Epoch    GPU_mem   box_loss   cls_loss   dfl_loss  Instances       Size\n"
     ]
    },
    {
     "name": "stderr",
     "output_type": "stream",
     "text": [
      "     42/200      2.47G      0.858     0.4552     0.9558        170        640: 100%|██████████| 221/221 [00:38<00:00,  5.80it/s]\n",
      "                 Class     Images  Instances      Box(P          R      mAP50  mAP50-95): 100%|██████████| 16/16 [00:04<00:00,  3.91it/s]"
     ]
    },
    {
     "name": "stdout",
     "output_type": "stream",
     "text": [
      "                   all        504       5376      0.921      0.916       0.97      0.632\n"
     ]
    },
    {
     "name": "stderr",
     "output_type": "stream",
     "text": [
      "\n"
     ]
    },
    {
     "name": "stdout",
     "output_type": "stream",
     "text": [
      "\n",
      "      Epoch    GPU_mem   box_loss   cls_loss   dfl_loss  Instances       Size\n"
     ]
    },
    {
     "name": "stderr",
     "output_type": "stream",
     "text": [
      "     43/200      2.47G     0.8612     0.4526     0.9553        138        640: 100%|██████████| 221/221 [00:39<00:00,  5.61it/s]\n",
      "                 Class     Images  Instances      Box(P          R      mAP50  mAP50-95): 100%|██████████| 16/16 [00:04<00:00,  3.92it/s]"
     ]
    },
    {
     "name": "stdout",
     "output_type": "stream",
     "text": [
      "                   all        504       5376      0.916      0.927      0.969      0.637\n"
     ]
    },
    {
     "name": "stderr",
     "output_type": "stream",
     "text": [
      "\n"
     ]
    },
    {
     "name": "stdout",
     "output_type": "stream",
     "text": [
      "\n",
      "      Epoch    GPU_mem   box_loss   cls_loss   dfl_loss  Instances       Size\n"
     ]
    },
    {
     "name": "stderr",
     "output_type": "stream",
     "text": [
      "     44/200      2.47G     0.8577     0.4521     0.9551        220        640: 100%|██████████| 221/221 [00:37<00:00,  5.82it/s]\n",
      "                 Class     Images  Instances      Box(P          R      mAP50  mAP50-95): 100%|██████████| 16/16 [00:04<00:00,  3.82it/s]"
     ]
    },
    {
     "name": "stdout",
     "output_type": "stream",
     "text": [
      "                   all        504       5376      0.939      0.931      0.973      0.643\n"
     ]
    },
    {
     "name": "stderr",
     "output_type": "stream",
     "text": [
      "\n"
     ]
    },
    {
     "name": "stdout",
     "output_type": "stream",
     "text": [
      "\n",
      "      Epoch    GPU_mem   box_loss   cls_loss   dfl_loss  Instances       Size\n"
     ]
    },
    {
     "name": "stderr",
     "output_type": "stream",
     "text": [
      "     45/200      2.47G      0.852      0.449      0.953        159        640: 100%|██████████| 221/221 [00:36<00:00,  5.98it/s]\n",
      "                 Class     Images  Instances      Box(P          R      mAP50  mAP50-95): 100%|██████████| 16/16 [00:04<00:00,  3.93it/s]"
     ]
    },
    {
     "name": "stdout",
     "output_type": "stream",
     "text": [
      "                   all        504       5376      0.945      0.913      0.969      0.635\n"
     ]
    },
    {
     "name": "stderr",
     "output_type": "stream",
     "text": [
      "\n"
     ]
    },
    {
     "name": "stdout",
     "output_type": "stream",
     "text": [
      "\n",
      "      Epoch    GPU_mem   box_loss   cls_loss   dfl_loss  Instances       Size\n"
     ]
    },
    {
     "name": "stderr",
     "output_type": "stream",
     "text": [
      "     46/200      2.47G     0.8448      0.446      0.952        201        640: 100%|██████████| 221/221 [00:36<00:00,  6.01it/s]\n",
      "                 Class     Images  Instances      Box(P          R      mAP50  mAP50-95): 100%|██████████| 16/16 [00:04<00:00,  3.61it/s]"
     ]
    },
    {
     "name": "stdout",
     "output_type": "stream",
     "text": [
      "                   all        504       5376      0.938      0.914      0.973      0.644\n"
     ]
    },
    {
     "name": "stderr",
     "output_type": "stream",
     "text": [
      "\n"
     ]
    },
    {
     "name": "stdout",
     "output_type": "stream",
     "text": [
      "\n",
      "      Epoch    GPU_mem   box_loss   cls_loss   dfl_loss  Instances       Size\n"
     ]
    },
    {
     "name": "stderr",
     "output_type": "stream",
     "text": [
      "     47/200      2.47G      0.845      0.445     0.9486        175        640: 100%|██████████| 221/221 [00:37<00:00,  5.85it/s]\n",
      "                 Class     Images  Instances      Box(P          R      mAP50  mAP50-95): 100%|██████████| 16/16 [00:03<00:00,  4.00it/s]"
     ]
    },
    {
     "name": "stdout",
     "output_type": "stream",
     "text": [
      "                   all        504       5376      0.937      0.928      0.973       0.64\n"
     ]
    },
    {
     "name": "stderr",
     "output_type": "stream",
     "text": [
      "\n"
     ]
    },
    {
     "name": "stdout",
     "output_type": "stream",
     "text": [
      "\n",
      "      Epoch    GPU_mem   box_loss   cls_loss   dfl_loss  Instances       Size\n"
     ]
    },
    {
     "name": "stderr",
     "output_type": "stream",
     "text": [
      "     48/200      2.47G     0.8491     0.4464     0.9515        213        640: 100%|██████████| 221/221 [00:36<00:00,  5.99it/s]\n",
      "                 Class     Images  Instances      Box(P          R      mAP50  mAP50-95): 100%|██████████| 16/16 [00:04<00:00,  3.83it/s]"
     ]
    },
    {
     "name": "stdout",
     "output_type": "stream",
     "text": [
      "                   all        504       5376      0.929      0.915      0.963      0.625\n"
     ]
    },
    {
     "name": "stderr",
     "output_type": "stream",
     "text": [
      "\n"
     ]
    },
    {
     "name": "stdout",
     "output_type": "stream",
     "text": [
      "\n",
      "      Epoch    GPU_mem   box_loss   cls_loss   dfl_loss  Instances       Size\n"
     ]
    },
    {
     "name": "stderr",
     "output_type": "stream",
     "text": [
      "     49/200      2.47G     0.8432     0.4442     0.9498        161        640: 100%|██████████| 221/221 [00:36<00:00,  5.99it/s]\n",
      "                 Class     Images  Instances      Box(P          R      mAP50  mAP50-95): 100%|██████████| 16/16 [00:04<00:00,  3.78it/s]"
     ]
    },
    {
     "name": "stdout",
     "output_type": "stream",
     "text": [
      "                   all        504       5376      0.935      0.915      0.969      0.645\n"
     ]
    },
    {
     "name": "stderr",
     "output_type": "stream",
     "text": [
      "\n"
     ]
    },
    {
     "name": "stdout",
     "output_type": "stream",
     "text": [
      "\n",
      "      Epoch    GPU_mem   box_loss   cls_loss   dfl_loss  Instances       Size\n"
     ]
    },
    {
     "name": "stderr",
     "output_type": "stream",
     "text": [
      "     50/200      2.47G     0.8428     0.4428     0.9491        192        640: 100%|██████████| 221/221 [00:36<00:00,  5.99it/s]\n",
      "                 Class     Images  Instances      Box(P          R      mAP50  mAP50-95): 100%|██████████| 16/16 [00:04<00:00,  3.85it/s]"
     ]
    },
    {
     "name": "stdout",
     "output_type": "stream",
     "text": [
      "                   all        504       5376      0.946      0.923      0.974      0.649\n"
     ]
    },
    {
     "name": "stderr",
     "output_type": "stream",
     "text": [
      "\n"
     ]
    },
    {
     "name": "stdout",
     "output_type": "stream",
     "text": [
      "\n",
      "      Epoch    GPU_mem   box_loss   cls_loss   dfl_loss  Instances       Size\n"
     ]
    },
    {
     "name": "stderr",
     "output_type": "stream",
     "text": [
      "     51/200      2.47G     0.8354     0.4394     0.9466        102        640: 100%|██████████| 221/221 [00:37<00:00,  5.91it/s]\n",
      "                 Class     Images  Instances      Box(P          R      mAP50  mAP50-95): 100%|██████████| 16/16 [00:04<00:00,  3.79it/s]"
     ]
    },
    {
     "name": "stdout",
     "output_type": "stream",
     "text": [
      "                   all        504       5376      0.948      0.905      0.963       0.64\n"
     ]
    },
    {
     "name": "stderr",
     "output_type": "stream",
     "text": [
      "\n"
     ]
    },
    {
     "name": "stdout",
     "output_type": "stream",
     "text": [
      "\n",
      "      Epoch    GPU_mem   box_loss   cls_loss   dfl_loss  Instances       Size\n"
     ]
    },
    {
     "name": "stderr",
     "output_type": "stream",
     "text": [
      "     52/200      2.47G     0.8277     0.4374     0.9424        141        640: 100%|██████████| 221/221 [00:37<00:00,  5.92it/s]\n",
      "                 Class     Images  Instances      Box(P          R      mAP50  mAP50-95): 100%|██████████| 16/16 [00:04<00:00,  3.80it/s]"
     ]
    },
    {
     "name": "stdout",
     "output_type": "stream",
     "text": [
      "                   all        504       5376      0.937      0.916       0.97      0.647\n"
     ]
    },
    {
     "name": "stderr",
     "output_type": "stream",
     "text": [
      "\n"
     ]
    },
    {
     "name": "stdout",
     "output_type": "stream",
     "text": [
      "\n",
      "      Epoch    GPU_mem   box_loss   cls_loss   dfl_loss  Instances       Size\n"
     ]
    },
    {
     "name": "stderr",
     "output_type": "stream",
     "text": [
      "     53/200      2.47G     0.8269     0.4352      0.944        178        640: 100%|██████████| 221/221 [00:38<00:00,  5.70it/s]\n",
      "                 Class     Images  Instances      Box(P          R      mAP50  mAP50-95): 100%|██████████| 16/16 [00:03<00:00,  4.01it/s]"
     ]
    },
    {
     "name": "stdout",
     "output_type": "stream",
     "text": [
      "                   all        504       5376       0.96      0.901      0.971      0.648\n"
     ]
    },
    {
     "name": "stderr",
     "output_type": "stream",
     "text": [
      "\n"
     ]
    },
    {
     "name": "stdout",
     "output_type": "stream",
     "text": [
      "\n",
      "      Epoch    GPU_mem   box_loss   cls_loss   dfl_loss  Instances       Size\n"
     ]
    },
    {
     "name": "stderr",
     "output_type": "stream",
     "text": [
      "     54/200      2.47G     0.8297     0.4373     0.9454        168        640: 100%|██████████| 221/221 [00:36<00:00,  6.03it/s]\n",
      "                 Class     Images  Instances      Box(P          R      mAP50  mAP50-95): 100%|██████████| 16/16 [00:04<00:00,  3.68it/s]"
     ]
    },
    {
     "name": "stdout",
     "output_type": "stream",
     "text": [
      "                   all        504       5376      0.939      0.889      0.969      0.639\n"
     ]
    },
    {
     "name": "stderr",
     "output_type": "stream",
     "text": [
      "\n"
     ]
    },
    {
     "name": "stdout",
     "output_type": "stream",
     "text": [
      "\n",
      "      Epoch    GPU_mem   box_loss   cls_loss   dfl_loss  Instances       Size\n"
     ]
    },
    {
     "name": "stderr",
     "output_type": "stream",
     "text": [
      "     55/200      2.47G     0.8304     0.4373     0.9409        218        640: 100%|██████████| 221/221 [00:35<00:00,  6.24it/s]\n",
      "                 Class     Images  Instances      Box(P          R      mAP50  mAP50-95): 100%|██████████| 16/16 [00:04<00:00,  3.99it/s]"
     ]
    },
    {
     "name": "stdout",
     "output_type": "stream",
     "text": [
      "                   all        504       5376      0.938      0.924      0.973       0.64\n"
     ]
    },
    {
     "name": "stderr",
     "output_type": "stream",
     "text": [
      "\n"
     ]
    },
    {
     "name": "stdout",
     "output_type": "stream",
     "text": [
      "\n",
      "      Epoch    GPU_mem   box_loss   cls_loss   dfl_loss  Instances       Size\n"
     ]
    },
    {
     "name": "stderr",
     "output_type": "stream",
     "text": [
      "     56/200      2.47G     0.8275     0.4327     0.9409        205        640: 100%|██████████| 221/221 [00:35<00:00,  6.20it/s]\n",
      "                 Class     Images  Instances      Box(P          R      mAP50  mAP50-95): 100%|██████████| 16/16 [00:04<00:00,  3.89it/s]"
     ]
    },
    {
     "name": "stdout",
     "output_type": "stream",
     "text": [
      "                   all        504       5376      0.952      0.914      0.973      0.645\n"
     ]
    },
    {
     "name": "stderr",
     "output_type": "stream",
     "text": [
      "\n"
     ]
    },
    {
     "name": "stdout",
     "output_type": "stream",
     "text": [
      "\u001b[34m\u001b[1mEarlyStopping: \u001b[0mTraining stopped early as no improvement observed in last 20 epochs. Best results observed at epoch 36, best model saved as best.pt.\n",
      "To update EarlyStopping(patience=20) pass a new patience value, i.e. `patience=300` or use `patience=0` to disable EarlyStopping.\n",
      "\n",
      "56 epochs completed in 0.676 hours.\n",
      "Optimizer stripped from runs\\detect\\yolov8_training\\weights\\last.pt, 6.2MB\n",
      "Optimizer stripped from runs\\detect\\yolov8_training\\weights\\best.pt, 6.2MB\n",
      "\n",
      "Validating runs\\detect\\yolov8_training\\weights\\best.pt...\n",
      "Ultralytics 8.3.167  Python-3.10.18 torch-2.5.1+cu121 CUDA:0 (NVIDIA GeForce RTX 4060 Laptop GPU, 8188MiB)\n",
      "Model summary (fused): 72 layers, 3,005,843 parameters, 0 gradients, 8.1 GFLOPs\n"
     ]
    },
    {
     "name": "stderr",
     "output_type": "stream",
     "text": [
      "                 Class     Images  Instances      Box(P          R      mAP50  mAP50-95): 100%|██████████| 16/16 [00:04<00:00,  3.76it/s]\n"
     ]
    },
    {
     "name": "stdout",
     "output_type": "stream",
     "text": [
      "                   all        504       5376      0.944       0.92      0.972      0.655\n",
      "Speed: 0.2ms preprocess, 1.7ms inference, 0.0ms loss, 2.0ms postprocess per image\n",
      "Results saved to \u001b[1mruns\\detect\\yolov8_training\u001b[0m\n"
     ]
    },
    {
     "data": {
      "text/plain": [
       "ultralytics.utils.metrics.DetMetrics object with attributes:\n",
       "\n",
       "ap_class_index: array([0])\n",
       "box: ultralytics.utils.metrics.Metric object\n",
       "confusion_matrix: <ultralytics.utils.metrics.ConfusionMatrix object at 0x0000023E909F5C90>\n",
       "curves: ['Precision-Recall(B)', 'F1-Confidence(B)', 'Precision-Confidence(B)', 'Recall-Confidence(B)']\n",
       "curves_results: [[array([          0,    0.001001,    0.002002,    0.003003,    0.004004,    0.005005,    0.006006,    0.007007,    0.008008,    0.009009,     0.01001,    0.011011,    0.012012,    0.013013,    0.014014,    0.015015,    0.016016,    0.017017,    0.018018,    0.019019,     0.02002,    0.021021,    0.022022,    0.023023,\n",
       "          0.024024,    0.025025,    0.026026,    0.027027,    0.028028,    0.029029,     0.03003,    0.031031,    0.032032,    0.033033,    0.034034,    0.035035,    0.036036,    0.037037,    0.038038,    0.039039,     0.04004,    0.041041,    0.042042,    0.043043,    0.044044,    0.045045,    0.046046,    0.047047,\n",
       "          0.048048,    0.049049,     0.05005,    0.051051,    0.052052,    0.053053,    0.054054,    0.055055,    0.056056,    0.057057,    0.058058,    0.059059,     0.06006,    0.061061,    0.062062,    0.063063,    0.064064,    0.065065,    0.066066,    0.067067,    0.068068,    0.069069,     0.07007,    0.071071,\n",
       "          0.072072,    0.073073,    0.074074,    0.075075,    0.076076,    0.077077,    0.078078,    0.079079,     0.08008,    0.081081,    0.082082,    0.083083,    0.084084,    0.085085,    0.086086,    0.087087,    0.088088,    0.089089,     0.09009,    0.091091,    0.092092,    0.093093,    0.094094,    0.095095,\n",
       "          0.096096,    0.097097,    0.098098,    0.099099,      0.1001,      0.1011,      0.1021,      0.1031,      0.1041,     0.10511,     0.10611,     0.10711,     0.10811,     0.10911,     0.11011,     0.11111,     0.11211,     0.11311,     0.11411,     0.11512,     0.11612,     0.11712,     0.11812,     0.11912,\n",
       "           0.12012,     0.12112,     0.12212,     0.12312,     0.12412,     0.12513,     0.12613,     0.12713,     0.12813,     0.12913,     0.13013,     0.13113,     0.13213,     0.13313,     0.13413,     0.13514,     0.13614,     0.13714,     0.13814,     0.13914,     0.14014,     0.14114,     0.14214,     0.14314,\n",
       "           0.14414,     0.14515,     0.14615,     0.14715,     0.14815,     0.14915,     0.15015,     0.15115,     0.15215,     0.15315,     0.15415,     0.15516,     0.15616,     0.15716,     0.15816,     0.15916,     0.16016,     0.16116,     0.16216,     0.16316,     0.16416,     0.16517,     0.16617,     0.16717,\n",
       "           0.16817,     0.16917,     0.17017,     0.17117,     0.17217,     0.17317,     0.17417,     0.17518,     0.17618,     0.17718,     0.17818,     0.17918,     0.18018,     0.18118,     0.18218,     0.18318,     0.18418,     0.18519,     0.18619,     0.18719,     0.18819,     0.18919,     0.19019,     0.19119,\n",
       "           0.19219,     0.19319,     0.19419,      0.1952,      0.1962,      0.1972,      0.1982,      0.1992,      0.2002,      0.2012,      0.2022,      0.2032,      0.2042,     0.20521,     0.20621,     0.20721,     0.20821,     0.20921,     0.21021,     0.21121,     0.21221,     0.21321,     0.21421,     0.21522,\n",
       "           0.21622,     0.21722,     0.21822,     0.21922,     0.22022,     0.22122,     0.22222,     0.22322,     0.22422,     0.22523,     0.22623,     0.22723,     0.22823,     0.22923,     0.23023,     0.23123,     0.23223,     0.23323,     0.23423,     0.23524,     0.23624,     0.23724,     0.23824,     0.23924,\n",
       "           0.24024,     0.24124,     0.24224,     0.24324,     0.24424,     0.24525,     0.24625,     0.24725,     0.24825,     0.24925,     0.25025,     0.25125,     0.25225,     0.25325,     0.25425,     0.25526,     0.25626,     0.25726,     0.25826,     0.25926,     0.26026,     0.26126,     0.26226,     0.26326,\n",
       "           0.26426,     0.26527,     0.26627,     0.26727,     0.26827,     0.26927,     0.27027,     0.27127,     0.27227,     0.27327,     0.27427,     0.27528,     0.27628,     0.27728,     0.27828,     0.27928,     0.28028,     0.28128,     0.28228,     0.28328,     0.28428,     0.28529,     0.28629,     0.28729,\n",
       "           0.28829,     0.28929,     0.29029,     0.29129,     0.29229,     0.29329,     0.29429,      0.2953,      0.2963,      0.2973,      0.2983,      0.2993,      0.3003,      0.3013,      0.3023,      0.3033,      0.3043,     0.30531,     0.30631,     0.30731,     0.30831,     0.30931,     0.31031,     0.31131,\n",
       "           0.31231,     0.31331,     0.31431,     0.31532,     0.31632,     0.31732,     0.31832,     0.31932,     0.32032,     0.32132,     0.32232,     0.32332,     0.32432,     0.32533,     0.32633,     0.32733,     0.32833,     0.32933,     0.33033,     0.33133,     0.33233,     0.33333,     0.33433,     0.33534,\n",
       "           0.33634,     0.33734,     0.33834,     0.33934,     0.34034,     0.34134,     0.34234,     0.34334,     0.34434,     0.34535,     0.34635,     0.34735,     0.34835,     0.34935,     0.35035,     0.35135,     0.35235,     0.35335,     0.35435,     0.35536,     0.35636,     0.35736,     0.35836,     0.35936,\n",
       "           0.36036,     0.36136,     0.36236,     0.36336,     0.36436,     0.36537,     0.36637,     0.36737,     0.36837,     0.36937,     0.37037,     0.37137,     0.37237,     0.37337,     0.37437,     0.37538,     0.37638,     0.37738,     0.37838,     0.37938,     0.38038,     0.38138,     0.38238,     0.38338,\n",
       "           0.38438,     0.38539,     0.38639,     0.38739,     0.38839,     0.38939,     0.39039,     0.39139,     0.39239,     0.39339,     0.39439,      0.3954,      0.3964,      0.3974,      0.3984,      0.3994,      0.4004,      0.4014,      0.4024,      0.4034,      0.4044,     0.40541,     0.40641,     0.40741,\n",
       "           0.40841,     0.40941,     0.41041,     0.41141,     0.41241,     0.41341,     0.41441,     0.41542,     0.41642,     0.41742,     0.41842,     0.41942,     0.42042,     0.42142,     0.42242,     0.42342,     0.42442,     0.42543,     0.42643,     0.42743,     0.42843,     0.42943,     0.43043,     0.43143,\n",
       "           0.43243,     0.43343,     0.43443,     0.43544,     0.43644,     0.43744,     0.43844,     0.43944,     0.44044,     0.44144,     0.44244,     0.44344,     0.44444,     0.44545,     0.44645,     0.44745,     0.44845,     0.44945,     0.45045,     0.45145,     0.45245,     0.45345,     0.45445,     0.45546,\n",
       "           0.45646,     0.45746,     0.45846,     0.45946,     0.46046,     0.46146,     0.46246,     0.46346,     0.46446,     0.46547,     0.46647,     0.46747,     0.46847,     0.46947,     0.47047,     0.47147,     0.47247,     0.47347,     0.47447,     0.47548,     0.47648,     0.47748,     0.47848,     0.47948,\n",
       "           0.48048,     0.48148,     0.48248,     0.48348,     0.48448,     0.48549,     0.48649,     0.48749,     0.48849,     0.48949,     0.49049,     0.49149,     0.49249,     0.49349,     0.49449,      0.4955,      0.4965,      0.4975,      0.4985,      0.4995,      0.5005,      0.5015,      0.5025,      0.5035,\n",
       "            0.5045,     0.50551,     0.50651,     0.50751,     0.50851,     0.50951,     0.51051,     0.51151,     0.51251,     0.51351,     0.51451,     0.51552,     0.51652,     0.51752,     0.51852,     0.51952,     0.52052,     0.52152,     0.52252,     0.52352,     0.52452,     0.52553,     0.52653,     0.52753,\n",
       "           0.52853,     0.52953,     0.53053,     0.53153,     0.53253,     0.53353,     0.53453,     0.53554,     0.53654,     0.53754,     0.53854,     0.53954,     0.54054,     0.54154,     0.54254,     0.54354,     0.54454,     0.54555,     0.54655,     0.54755,     0.54855,     0.54955,     0.55055,     0.55155,\n",
       "           0.55255,     0.55355,     0.55455,     0.55556,     0.55656,     0.55756,     0.55856,     0.55956,     0.56056,     0.56156,     0.56256,     0.56356,     0.56456,     0.56557,     0.56657,     0.56757,     0.56857,     0.56957,     0.57057,     0.57157,     0.57257,     0.57357,     0.57457,     0.57558,\n",
       "           0.57658,     0.57758,     0.57858,     0.57958,     0.58058,     0.58158,     0.58258,     0.58358,     0.58458,     0.58559,     0.58659,     0.58759,     0.58859,     0.58959,     0.59059,     0.59159,     0.59259,     0.59359,     0.59459,      0.5956,      0.5966,      0.5976,      0.5986,      0.5996,\n",
       "            0.6006,      0.6016,      0.6026,      0.6036,      0.6046,     0.60561,     0.60661,     0.60761,     0.60861,     0.60961,     0.61061,     0.61161,     0.61261,     0.61361,     0.61461,     0.61562,     0.61662,     0.61762,     0.61862,     0.61962,     0.62062,     0.62162,     0.62262,     0.62362,\n",
       "           0.62462,     0.62563,     0.62663,     0.62763,     0.62863,     0.62963,     0.63063,     0.63163,     0.63263,     0.63363,     0.63463,     0.63564,     0.63664,     0.63764,     0.63864,     0.63964,     0.64064,     0.64164,     0.64264,     0.64364,     0.64464,     0.64565,     0.64665,     0.64765,\n",
       "           0.64865,     0.64965,     0.65065,     0.65165,     0.65265,     0.65365,     0.65465,     0.65566,     0.65666,     0.65766,     0.65866,     0.65966,     0.66066,     0.66166,     0.66266,     0.66366,     0.66466,     0.66567,     0.66667,     0.66767,     0.66867,     0.66967,     0.67067,     0.67167,\n",
       "           0.67267,     0.67367,     0.67467,     0.67568,     0.67668,     0.67768,     0.67868,     0.67968,     0.68068,     0.68168,     0.68268,     0.68368,     0.68468,     0.68569,     0.68669,     0.68769,     0.68869,     0.68969,     0.69069,     0.69169,     0.69269,     0.69369,     0.69469,      0.6957,\n",
       "            0.6967,      0.6977,      0.6987,      0.6997,      0.7007,      0.7017,      0.7027,      0.7037,      0.7047,     0.70571,     0.70671,     0.70771,     0.70871,     0.70971,     0.71071,     0.71171,     0.71271,     0.71371,     0.71471,     0.71572,     0.71672,     0.71772,     0.71872,     0.71972,\n",
       "           0.72072,     0.72172,     0.72272,     0.72372,     0.72472,     0.72573,     0.72673,     0.72773,     0.72873,     0.72973,     0.73073,     0.73173,     0.73273,     0.73373,     0.73473,     0.73574,     0.73674,     0.73774,     0.73874,     0.73974,     0.74074,     0.74174,     0.74274,     0.74374,\n",
       "           0.74474,     0.74575,     0.74675,     0.74775,     0.74875,     0.74975,     0.75075,     0.75175,     0.75275,     0.75375,     0.75475,     0.75576,     0.75676,     0.75776,     0.75876,     0.75976,     0.76076,     0.76176,     0.76276,     0.76376,     0.76476,     0.76577,     0.76677,     0.76777,\n",
       "           0.76877,     0.76977,     0.77077,     0.77177,     0.77277,     0.77377,     0.77477,     0.77578,     0.77678,     0.77778,     0.77878,     0.77978,     0.78078,     0.78178,     0.78278,     0.78378,     0.78478,     0.78579,     0.78679,     0.78779,     0.78879,     0.78979,     0.79079,     0.79179,\n",
       "           0.79279,     0.79379,     0.79479,      0.7958,      0.7968,      0.7978,      0.7988,      0.7998,      0.8008,      0.8018,      0.8028,      0.8038,      0.8048,     0.80581,     0.80681,     0.80781,     0.80881,     0.80981,     0.81081,     0.81181,     0.81281,     0.81381,     0.81481,     0.81582,\n",
       "           0.81682,     0.81782,     0.81882,     0.81982,     0.82082,     0.82182,     0.82282,     0.82382,     0.82482,     0.82583,     0.82683,     0.82783,     0.82883,     0.82983,     0.83083,     0.83183,     0.83283,     0.83383,     0.83483,     0.83584,     0.83684,     0.83784,     0.83884,     0.83984,\n",
       "           0.84084,     0.84184,     0.84284,     0.84384,     0.84484,     0.84585,     0.84685,     0.84785,     0.84885,     0.84985,     0.85085,     0.85185,     0.85285,     0.85385,     0.85485,     0.85586,     0.85686,     0.85786,     0.85886,     0.85986,     0.86086,     0.86186,     0.86286,     0.86386,\n",
       "           0.86486,     0.86587,     0.86687,     0.86787,     0.86887,     0.86987,     0.87087,     0.87187,     0.87287,     0.87387,     0.87487,     0.87588,     0.87688,     0.87788,     0.87888,     0.87988,     0.88088,     0.88188,     0.88288,     0.88388,     0.88488,     0.88589,     0.88689,     0.88789,\n",
       "           0.88889,     0.88989,     0.89089,     0.89189,     0.89289,     0.89389,     0.89489,      0.8959,      0.8969,      0.8979,      0.8989,      0.8999,      0.9009,      0.9019,      0.9029,      0.9039,      0.9049,     0.90591,     0.90691,     0.90791,     0.90891,     0.90991,     0.91091,     0.91191,\n",
       "           0.91291,     0.91391,     0.91491,     0.91592,     0.91692,     0.91792,     0.91892,     0.91992,     0.92092,     0.92192,     0.92292,     0.92392,     0.92492,     0.92593,     0.92693,     0.92793,     0.92893,     0.92993,     0.93093,     0.93193,     0.93293,     0.93393,     0.93493,     0.93594,\n",
       "           0.93694,     0.93794,     0.93894,     0.93994,     0.94094,     0.94194,     0.94294,     0.94394,     0.94494,     0.94595,     0.94695,     0.94795,     0.94895,     0.94995,     0.95095,     0.95195,     0.95295,     0.95395,     0.95495,     0.95596,     0.95696,     0.95796,     0.95896,     0.95996,\n",
       "           0.96096,     0.96196,     0.96296,     0.96396,     0.96496,     0.96597,     0.96697,     0.96797,     0.96897,     0.96997,     0.97097,     0.97197,     0.97297,     0.97397,     0.97497,     0.97598,     0.97698,     0.97798,     0.97898,     0.97998,     0.98098,     0.98198,     0.98298,     0.98398,\n",
       "           0.98498,     0.98599,     0.98699,     0.98799,     0.98899,     0.98999,     0.99099,     0.99199,     0.99299,     0.99399,     0.99499,       0.996,       0.997,       0.998,       0.999,           1]), array([[          1,           1,           1,           1,           1,           1,           1,           1,           1,           1,           1,           1,           1,           1,           1,           1,           1,           1,           1,           1,           1,           1,           1,\n",
       "                  1,           1,           1,           1,           1,           1,           1,           1,           1,           1,           1,           1,           1,           1,           1,           1,           1,           1,           1,           1,           1,           1,           1,\n",
       "                  1,           1,           1,           1,           1,           1,           1,           1,           1,           1,           1,           1,           1,           1,           1,           1,           1,           1,           1,           1,           1,           1,           1,\n",
       "                  1,           1,           1,           1,           1,           1,           1,           1,           1,           1,           1,           1,           1,           1,           1,           1,           1,           1,           1,           1,           1,           1,           1,\n",
       "                  1,           1,           1,           1,           1,           1,           1,           1,           1,           1,           1,           1,           1,           1,           1,           1,           1,           1,           1,           1,           1,           1,           1,\n",
       "                  1,           1,           1,           1,           1,           1,           1,           1,           1,           1,           1,           1,           1,           1,           1,           1,           1,           1,           1,           1,           1,           1,           1,\n",
       "                  1,           1,           1,           1,           1,           1,           1,           1,           1,           1,           1,           1,           1,           1,           1,           1,           1,           1,           1,           1,           1,           1,           1,\n",
       "                  1,           1,           1,           1,           1,           1,           1,           1,           1,           1,           1,           1,           1,           1,           1,           1,           1,           1,           1,           1,           1,           1,           1,\n",
       "                  1,           1,           1,           1,           1,           1,           1,           1,           1,           1,           1,           1,           1,           1,           1,           1,           1,           1,           1,           1,           1,           1,           1,\n",
       "                  1,           1,           1,           1,           1,           1,           1,           1,           1,           1,           1,           1,           1,           1,           1,           1,           1,           1,           1,           1,           1,           1,           1,\n",
       "                  1,           1,           1,           1,           1,           1,           1,           1,           1,           1,           1,           1,           1,           1,           1,           1,           1,           1,           1,           1,           1,           1,           1,\n",
       "                  1,           1,           1,           1,           1,           1,           1,           1,           1,           1,           1,           1,           1,           1,           1,           1,           1,           1,           1,           1,           1,           1,           1,\n",
       "                  1,           1,           1,           1,           1,           1,           1,           1,           1,           1,           1,           1,           1,           1,           1,           1,           1,           1,           1,           1,           1,           1,           1,\n",
       "                  1,           1,           1,           1,           1,           1,           1,           1,           1,           1,           1,           1,           1,           1,           1,           1,           1,           1,           1,           1,           1,           1,           1,\n",
       "                  1,           1,           1,           1,           1,           1,           1,           1,           1,           1,           1,           1,           1,           1,           1,           1,           1,           1,           1,           1,           1,           1,           1,\n",
       "                  1,           1,           1,           1,           1,           1,           1,           1,           1,           1,           1,           1,           1,           1,           1,           1,           1,           1,           1,           1,           1,           1,           1,\n",
       "                  1,           1,           1,           1,           1,           1,           1,           1,           1,           1,           1,           1,           1,           1,           1,     0.99954,     0.99954,     0.99954,     0.99954,     0.99954,     0.99954,     0.99954,     0.99954,\n",
       "            0.99954,     0.99954,     0.99954,     0.99954,     0.99954,     0.99954,     0.99954,     0.99954,     0.99954,     0.99954,     0.99913,     0.99913,     0.99913,     0.99913,     0.99913,     0.99913,     0.99913,     0.99913,     0.99913,     0.99913,     0.99913,     0.99913,     0.99913,\n",
       "            0.99913,     0.99913,     0.99913,     0.99913,     0.99913,     0.99913,     0.99913,     0.99913,     0.99913,     0.99913,     0.99913,     0.99913,     0.99872,     0.99872,     0.99872,     0.99872,     0.99872,     0.99872,     0.99872,     0.99872,     0.99872,     0.99843,     0.99843,\n",
       "            0.99843,     0.99843,     0.99843,     0.99843,     0.99843,     0.99843,     0.99843,     0.99843,     0.99843,     0.99843,     0.99843,     0.99843,     0.99843,     0.99843,     0.99843,     0.99843,     0.99843,     0.99843,     0.99843,     0.99843,     0.99843,     0.99843,     0.99843,\n",
       "            0.99843,     0.99843,     0.99843,     0.99843,     0.99843,     0.99843,     0.99843,     0.99843,     0.99843,     0.99843,     0.99843,     0.99843,     0.99805,     0.99805,     0.99805,     0.99805,     0.99805,     0.99767,      0.9973,      0.9973,      0.9973,     0.99655,     0.99655,\n",
       "             0.9963,      0.9963,      0.9963,      0.9963,      0.9963,      0.9963,      0.9963,      0.9963,      0.9963,      0.9963,      0.9963,      0.9963,      0.9963,      0.9963,      0.9963,      0.9963,      0.9963,      0.9963,     0.99575,     0.99575,     0.99575,     0.99575,     0.99575,\n",
       "            0.99575,     0.99575,     0.99575,     0.99575,     0.99575,     0.99575,     0.99575,     0.99575,     0.99575,     0.99575,     0.99575,     0.99575,     0.99575,     0.99575,     0.99575,     0.99575,     0.99575,     0.99541,     0.99507,     0.99507,     0.99492,     0.99492,     0.99492,\n",
       "            0.99492,     0.99492,     0.99492,     0.99492,     0.99492,     0.99492,     0.99492,     0.99492,     0.99492,     0.99492,     0.99492,     0.99492,     0.99492,     0.99492,     0.99492,     0.99492,     0.99492,     0.99435,     0.99435,     0.99435,     0.99435,     0.99435,     0.99435,\n",
       "            0.99435,     0.99435,     0.99435,     0.99435,     0.99427,     0.99427,     0.99427,     0.99427,     0.99427,     0.99427,     0.99427,     0.99427,     0.99427,     0.99427,     0.99427,     0.99427,     0.99427,     0.99427,     0.99427,     0.99427,     0.99427,     0.99427,     0.99427,\n",
       "            0.99427,     0.99427,     0.99427,     0.99427,     0.99427,     0.99427,     0.99405,     0.99405,     0.99405,     0.99405,     0.99405,     0.99405,     0.99405,     0.99405,     0.99405,     0.99405,     0.99384,     0.99384,     0.99384,     0.99384,     0.99384,     0.99384,     0.99384,\n",
       "            0.99384,     0.99384,     0.99375,     0.99375,     0.99375,     0.99375,     0.99375,     0.99375,     0.99375,     0.99375,     0.99375,     0.99375,     0.99375,     0.99375,     0.99375,     0.99375,     0.99375,     0.99375,     0.99375,     0.99375,     0.99375,     0.99375,     0.99375,\n",
       "            0.99366,     0.99366,     0.99366,     0.99366,     0.99366,     0.99366,     0.99366,     0.99366,     0.99366,     0.99366,     0.99366,     0.99366,     0.99366,     0.99366,     0.99366,     0.99366,     0.99366,     0.99366,     0.99366,     0.99366,     0.99353,     0.99353,     0.99353,\n",
       "            0.99353,     0.99353,     0.99353,     0.99353,     0.99353,     0.99353,     0.99353,     0.99353,     0.99353,     0.99353,     0.99353,     0.99353,     0.99333,     0.99333,     0.99333,     0.99333,     0.99333,     0.99333,     0.99333,     0.99333,     0.99333,     0.99309,     0.99309,\n",
       "            0.99309,     0.99284,     0.99284,     0.99284,     0.99254,     0.99254,     0.99254,     0.99254,     0.99254,     0.99254,     0.99254,     0.99254,     0.99254,     0.99254,     0.99254,     0.99254,     0.99254,     0.99254,     0.99254,     0.99254,     0.99254,     0.99254,     0.99254,\n",
       "            0.99254,     0.99254,     0.99254,     0.99233,     0.99233,     0.99233,     0.99233,     0.99233,     0.99213,     0.99213,     0.99213,     0.99213,     0.99213,     0.99188,     0.99188,     0.99139,     0.99131,     0.99131,     0.99131,     0.99131,     0.99131,     0.99131,     0.99131,\n",
       "            0.99131,     0.99131,     0.99131,     0.99131,     0.99131,     0.99131,     0.99131,     0.99131,     0.99116,     0.99116,     0.99116,     0.99116,     0.99116,     0.99116,     0.99116,     0.99116,     0.99116,     0.99104,     0.99104,     0.99104,     0.99104,     0.99104,     0.99104,\n",
       "            0.99104,     0.99104,     0.99104,     0.99104,     0.99104,     0.99081,     0.99062,     0.99062,     0.99062,     0.99062,     0.99016,     0.99016,     0.99016,     0.99002,     0.99002,     0.99002,     0.99002,     0.99002,     0.99002,     0.99002,     0.98979,     0.98957,     0.98935,\n",
       "            0.98935,     0.98912,     0.98899,     0.98899,     0.98899,     0.98899,     0.98899,     0.98899,     0.98899,     0.98857,     0.98857,     0.98857,     0.98857,     0.98838,     0.98838,     0.98838,     0.98793,      0.9877,     0.98727,     0.98727,     0.98705,     0.98685,     0.98685,\n",
       "            0.98668,     0.98668,     0.98668,     0.98653,     0.98653,     0.98653,     0.98653,     0.98653,     0.98642,     0.98642,     0.98642,     0.98642,     0.98642,     0.98642,     0.98642,     0.98598,     0.98558,     0.98558,     0.98558,     0.98495,     0.98495,     0.98451,      0.9839,\n",
       "             0.9839,      0.9839,      0.9838,      0.9838,      0.9838,      0.9838,      0.9838,      0.9838,     0.98359,     0.98342,     0.98342,     0.98327,     0.98327,     0.98327,     0.98327,     0.98308,     0.98289,     0.98272,     0.98272,     0.98272,     0.98252,     0.98195,     0.98195,\n",
       "            0.98195,     0.98175,     0.98155,     0.98135,     0.98074,     0.98059,     0.98059,     0.98059,     0.98039,      0.9802,     0.98003,     0.97964,     0.97964,     0.97946,     0.97926,      0.9791,      0.9791,     0.97871,      0.9783,     0.97792,     0.97775,     0.97775,     0.97757,\n",
       "             0.9774,     0.97723,     0.97723,     0.97708,     0.97708,      0.9769,     0.97653,     0.97653,     0.97614,     0.97515,     0.97476,     0.97443,     0.97443,     0.97425,     0.97407,     0.97394,     0.97394,     0.97394,     0.97339,     0.97339,     0.97324,     0.97305,     0.97267,\n",
       "            0.97192,     0.97175,     0.97159,     0.97141,     0.97123,     0.97106,     0.97029,      0.9696,      0.9696,      0.9696,     0.96944,     0.96888,     0.96852,     0.96802,     0.96802,     0.96708,     0.96651,      0.9662,      0.9662,     0.96548,     0.96548,     0.96399,     0.96345,\n",
       "            0.96156,     0.96007,     0.95974,     0.95771,     0.95663,     0.95647,     0.95579,     0.95545,     0.95529,     0.95462,     0.95407,     0.95356,     0.95323,     0.95278,     0.95278,     0.95116,     0.94938,     0.94854,     0.94747,     0.94701,     0.94685,     0.94528,     0.94479,\n",
       "            0.94359,     0.94043,     0.93942,     0.93824,     0.93655,     0.93433,     0.93352,     0.93341,     0.93143,     0.93093,     0.92995,     0.92865,     0.92683,       0.924,     0.91987,     0.91925,     0.91582,     0.91491,      0.9135,     0.91178,     0.91038,     0.90753,     0.90342,\n",
       "            0.89918,     0.89693,     0.89212,     0.89113,      0.8826,      0.8762,     0.87329,     0.86838,      0.8654,     0.85643,     0.85327,     0.83957,     0.83455,     0.83051,     0.82111,     0.81582,     0.81135,     0.79725,     0.78494,     0.78297,      0.7722,     0.76339,      0.7556,\n",
       "            0.74388,     0.72641,     0.71517,     0.70991,     0.70455,     0.69979,     0.69175,     0.67934,     0.67395,     0.66764,     0.65271,     0.64365,     0.63624,     0.62674,     0.61205,     0.60578,     0.59209,     0.57865,     0.56263,     0.54853,     0.52932,      0.5189,     0.48433,\n",
       "            0.45947,     0.44197,     0.41216,     0.37258,     0.32526,     0.30043,     0.24686,     0.18514,     0.12343,    0.061714,           0]]), 'Recall', 'Precision'], [array([          0,    0.001001,    0.002002,    0.003003,    0.004004,    0.005005,    0.006006,    0.007007,    0.008008,    0.009009,     0.01001,    0.011011,    0.012012,    0.013013,    0.014014,    0.015015,    0.016016,    0.017017,    0.018018,    0.019019,     0.02002,    0.021021,    0.022022,    0.023023,\n",
       "          0.024024,    0.025025,    0.026026,    0.027027,    0.028028,    0.029029,     0.03003,    0.031031,    0.032032,    0.033033,    0.034034,    0.035035,    0.036036,    0.037037,    0.038038,    0.039039,     0.04004,    0.041041,    0.042042,    0.043043,    0.044044,    0.045045,    0.046046,    0.047047,\n",
       "          0.048048,    0.049049,     0.05005,    0.051051,    0.052052,    0.053053,    0.054054,    0.055055,    0.056056,    0.057057,    0.058058,    0.059059,     0.06006,    0.061061,    0.062062,    0.063063,    0.064064,    0.065065,    0.066066,    0.067067,    0.068068,    0.069069,     0.07007,    0.071071,\n",
       "          0.072072,    0.073073,    0.074074,    0.075075,    0.076076,    0.077077,    0.078078,    0.079079,     0.08008,    0.081081,    0.082082,    0.083083,    0.084084,    0.085085,    0.086086,    0.087087,    0.088088,    0.089089,     0.09009,    0.091091,    0.092092,    0.093093,    0.094094,    0.095095,\n",
       "          0.096096,    0.097097,    0.098098,    0.099099,      0.1001,      0.1011,      0.1021,      0.1031,      0.1041,     0.10511,     0.10611,     0.10711,     0.10811,     0.10911,     0.11011,     0.11111,     0.11211,     0.11311,     0.11411,     0.11512,     0.11612,     0.11712,     0.11812,     0.11912,\n",
       "           0.12012,     0.12112,     0.12212,     0.12312,     0.12412,     0.12513,     0.12613,     0.12713,     0.12813,     0.12913,     0.13013,     0.13113,     0.13213,     0.13313,     0.13413,     0.13514,     0.13614,     0.13714,     0.13814,     0.13914,     0.14014,     0.14114,     0.14214,     0.14314,\n",
       "           0.14414,     0.14515,     0.14615,     0.14715,     0.14815,     0.14915,     0.15015,     0.15115,     0.15215,     0.15315,     0.15415,     0.15516,     0.15616,     0.15716,     0.15816,     0.15916,     0.16016,     0.16116,     0.16216,     0.16316,     0.16416,     0.16517,     0.16617,     0.16717,\n",
       "           0.16817,     0.16917,     0.17017,     0.17117,     0.17217,     0.17317,     0.17417,     0.17518,     0.17618,     0.17718,     0.17818,     0.17918,     0.18018,     0.18118,     0.18218,     0.18318,     0.18418,     0.18519,     0.18619,     0.18719,     0.18819,     0.18919,     0.19019,     0.19119,\n",
       "           0.19219,     0.19319,     0.19419,      0.1952,      0.1962,      0.1972,      0.1982,      0.1992,      0.2002,      0.2012,      0.2022,      0.2032,      0.2042,     0.20521,     0.20621,     0.20721,     0.20821,     0.20921,     0.21021,     0.21121,     0.21221,     0.21321,     0.21421,     0.21522,\n",
       "           0.21622,     0.21722,     0.21822,     0.21922,     0.22022,     0.22122,     0.22222,     0.22322,     0.22422,     0.22523,     0.22623,     0.22723,     0.22823,     0.22923,     0.23023,     0.23123,     0.23223,     0.23323,     0.23423,     0.23524,     0.23624,     0.23724,     0.23824,     0.23924,\n",
       "           0.24024,     0.24124,     0.24224,     0.24324,     0.24424,     0.24525,     0.24625,     0.24725,     0.24825,     0.24925,     0.25025,     0.25125,     0.25225,     0.25325,     0.25425,     0.25526,     0.25626,     0.25726,     0.25826,     0.25926,     0.26026,     0.26126,     0.26226,     0.26326,\n",
       "           0.26426,     0.26527,     0.26627,     0.26727,     0.26827,     0.26927,     0.27027,     0.27127,     0.27227,     0.27327,     0.27427,     0.27528,     0.27628,     0.27728,     0.27828,     0.27928,     0.28028,     0.28128,     0.28228,     0.28328,     0.28428,     0.28529,     0.28629,     0.28729,\n",
       "           0.28829,     0.28929,     0.29029,     0.29129,     0.29229,     0.29329,     0.29429,      0.2953,      0.2963,      0.2973,      0.2983,      0.2993,      0.3003,      0.3013,      0.3023,      0.3033,      0.3043,     0.30531,     0.30631,     0.30731,     0.30831,     0.30931,     0.31031,     0.31131,\n",
       "           0.31231,     0.31331,     0.31431,     0.31532,     0.31632,     0.31732,     0.31832,     0.31932,     0.32032,     0.32132,     0.32232,     0.32332,     0.32432,     0.32533,     0.32633,     0.32733,     0.32833,     0.32933,     0.33033,     0.33133,     0.33233,     0.33333,     0.33433,     0.33534,\n",
       "           0.33634,     0.33734,     0.33834,     0.33934,     0.34034,     0.34134,     0.34234,     0.34334,     0.34434,     0.34535,     0.34635,     0.34735,     0.34835,     0.34935,     0.35035,     0.35135,     0.35235,     0.35335,     0.35435,     0.35536,     0.35636,     0.35736,     0.35836,     0.35936,\n",
       "           0.36036,     0.36136,     0.36236,     0.36336,     0.36436,     0.36537,     0.36637,     0.36737,     0.36837,     0.36937,     0.37037,     0.37137,     0.37237,     0.37337,     0.37437,     0.37538,     0.37638,     0.37738,     0.37838,     0.37938,     0.38038,     0.38138,     0.38238,     0.38338,\n",
       "           0.38438,     0.38539,     0.38639,     0.38739,     0.38839,     0.38939,     0.39039,     0.39139,     0.39239,     0.39339,     0.39439,      0.3954,      0.3964,      0.3974,      0.3984,      0.3994,      0.4004,      0.4014,      0.4024,      0.4034,      0.4044,     0.40541,     0.40641,     0.40741,\n",
       "           0.40841,     0.40941,     0.41041,     0.41141,     0.41241,     0.41341,     0.41441,     0.41542,     0.41642,     0.41742,     0.41842,     0.41942,     0.42042,     0.42142,     0.42242,     0.42342,     0.42442,     0.42543,     0.42643,     0.42743,     0.42843,     0.42943,     0.43043,     0.43143,\n",
       "           0.43243,     0.43343,     0.43443,     0.43544,     0.43644,     0.43744,     0.43844,     0.43944,     0.44044,     0.44144,     0.44244,     0.44344,     0.44444,     0.44545,     0.44645,     0.44745,     0.44845,     0.44945,     0.45045,     0.45145,     0.45245,     0.45345,     0.45445,     0.45546,\n",
       "           0.45646,     0.45746,     0.45846,     0.45946,     0.46046,     0.46146,     0.46246,     0.46346,     0.46446,     0.46547,     0.46647,     0.46747,     0.46847,     0.46947,     0.47047,     0.47147,     0.47247,     0.47347,     0.47447,     0.47548,     0.47648,     0.47748,     0.47848,     0.47948,\n",
       "           0.48048,     0.48148,     0.48248,     0.48348,     0.48448,     0.48549,     0.48649,     0.48749,     0.48849,     0.48949,     0.49049,     0.49149,     0.49249,     0.49349,     0.49449,      0.4955,      0.4965,      0.4975,      0.4985,      0.4995,      0.5005,      0.5015,      0.5025,      0.5035,\n",
       "            0.5045,     0.50551,     0.50651,     0.50751,     0.50851,     0.50951,     0.51051,     0.51151,     0.51251,     0.51351,     0.51451,     0.51552,     0.51652,     0.51752,     0.51852,     0.51952,     0.52052,     0.52152,     0.52252,     0.52352,     0.52452,     0.52553,     0.52653,     0.52753,\n",
       "           0.52853,     0.52953,     0.53053,     0.53153,     0.53253,     0.53353,     0.53453,     0.53554,     0.53654,     0.53754,     0.53854,     0.53954,     0.54054,     0.54154,     0.54254,     0.54354,     0.54454,     0.54555,     0.54655,     0.54755,     0.54855,     0.54955,     0.55055,     0.55155,\n",
       "           0.55255,     0.55355,     0.55455,     0.55556,     0.55656,     0.55756,     0.55856,     0.55956,     0.56056,     0.56156,     0.56256,     0.56356,     0.56456,     0.56557,     0.56657,     0.56757,     0.56857,     0.56957,     0.57057,     0.57157,     0.57257,     0.57357,     0.57457,     0.57558,\n",
       "           0.57658,     0.57758,     0.57858,     0.57958,     0.58058,     0.58158,     0.58258,     0.58358,     0.58458,     0.58559,     0.58659,     0.58759,     0.58859,     0.58959,     0.59059,     0.59159,     0.59259,     0.59359,     0.59459,      0.5956,      0.5966,      0.5976,      0.5986,      0.5996,\n",
       "            0.6006,      0.6016,      0.6026,      0.6036,      0.6046,     0.60561,     0.60661,     0.60761,     0.60861,     0.60961,     0.61061,     0.61161,     0.61261,     0.61361,     0.61461,     0.61562,     0.61662,     0.61762,     0.61862,     0.61962,     0.62062,     0.62162,     0.62262,     0.62362,\n",
       "           0.62462,     0.62563,     0.62663,     0.62763,     0.62863,     0.62963,     0.63063,     0.63163,     0.63263,     0.63363,     0.63463,     0.63564,     0.63664,     0.63764,     0.63864,     0.63964,     0.64064,     0.64164,     0.64264,     0.64364,     0.64464,     0.64565,     0.64665,     0.64765,\n",
       "           0.64865,     0.64965,     0.65065,     0.65165,     0.65265,     0.65365,     0.65465,     0.65566,     0.65666,     0.65766,     0.65866,     0.65966,     0.66066,     0.66166,     0.66266,     0.66366,     0.66466,     0.66567,     0.66667,     0.66767,     0.66867,     0.66967,     0.67067,     0.67167,\n",
       "           0.67267,     0.67367,     0.67467,     0.67568,     0.67668,     0.67768,     0.67868,     0.67968,     0.68068,     0.68168,     0.68268,     0.68368,     0.68468,     0.68569,     0.68669,     0.68769,     0.68869,     0.68969,     0.69069,     0.69169,     0.69269,     0.69369,     0.69469,      0.6957,\n",
       "            0.6967,      0.6977,      0.6987,      0.6997,      0.7007,      0.7017,      0.7027,      0.7037,      0.7047,     0.70571,     0.70671,     0.70771,     0.70871,     0.70971,     0.71071,     0.71171,     0.71271,     0.71371,     0.71471,     0.71572,     0.71672,     0.71772,     0.71872,     0.71972,\n",
       "           0.72072,     0.72172,     0.72272,     0.72372,     0.72472,     0.72573,     0.72673,     0.72773,     0.72873,     0.72973,     0.73073,     0.73173,     0.73273,     0.73373,     0.73473,     0.73574,     0.73674,     0.73774,     0.73874,     0.73974,     0.74074,     0.74174,     0.74274,     0.74374,\n",
       "           0.74474,     0.74575,     0.74675,     0.74775,     0.74875,     0.74975,     0.75075,     0.75175,     0.75275,     0.75375,     0.75475,     0.75576,     0.75676,     0.75776,     0.75876,     0.75976,     0.76076,     0.76176,     0.76276,     0.76376,     0.76476,     0.76577,     0.76677,     0.76777,\n",
       "           0.76877,     0.76977,     0.77077,     0.77177,     0.77277,     0.77377,     0.77477,     0.77578,     0.77678,     0.77778,     0.77878,     0.77978,     0.78078,     0.78178,     0.78278,     0.78378,     0.78478,     0.78579,     0.78679,     0.78779,     0.78879,     0.78979,     0.79079,     0.79179,\n",
       "           0.79279,     0.79379,     0.79479,      0.7958,      0.7968,      0.7978,      0.7988,      0.7998,      0.8008,      0.8018,      0.8028,      0.8038,      0.8048,     0.80581,     0.80681,     0.80781,     0.80881,     0.80981,     0.81081,     0.81181,     0.81281,     0.81381,     0.81481,     0.81582,\n",
       "           0.81682,     0.81782,     0.81882,     0.81982,     0.82082,     0.82182,     0.82282,     0.82382,     0.82482,     0.82583,     0.82683,     0.82783,     0.82883,     0.82983,     0.83083,     0.83183,     0.83283,     0.83383,     0.83483,     0.83584,     0.83684,     0.83784,     0.83884,     0.83984,\n",
       "           0.84084,     0.84184,     0.84284,     0.84384,     0.84484,     0.84585,     0.84685,     0.84785,     0.84885,     0.84985,     0.85085,     0.85185,     0.85285,     0.85385,     0.85485,     0.85586,     0.85686,     0.85786,     0.85886,     0.85986,     0.86086,     0.86186,     0.86286,     0.86386,\n",
       "           0.86486,     0.86587,     0.86687,     0.86787,     0.86887,     0.86987,     0.87087,     0.87187,     0.87287,     0.87387,     0.87487,     0.87588,     0.87688,     0.87788,     0.87888,     0.87988,     0.88088,     0.88188,     0.88288,     0.88388,     0.88488,     0.88589,     0.88689,     0.88789,\n",
       "           0.88889,     0.88989,     0.89089,     0.89189,     0.89289,     0.89389,     0.89489,      0.8959,      0.8969,      0.8979,      0.8989,      0.8999,      0.9009,      0.9019,      0.9029,      0.9039,      0.9049,     0.90591,     0.90691,     0.90791,     0.90891,     0.90991,     0.91091,     0.91191,\n",
       "           0.91291,     0.91391,     0.91491,     0.91592,     0.91692,     0.91792,     0.91892,     0.91992,     0.92092,     0.92192,     0.92292,     0.92392,     0.92492,     0.92593,     0.92693,     0.92793,     0.92893,     0.92993,     0.93093,     0.93193,     0.93293,     0.93393,     0.93493,     0.93594,\n",
       "           0.93694,     0.93794,     0.93894,     0.93994,     0.94094,     0.94194,     0.94294,     0.94394,     0.94494,     0.94595,     0.94695,     0.94795,     0.94895,     0.94995,     0.95095,     0.95195,     0.95295,     0.95395,     0.95495,     0.95596,     0.95696,     0.95796,     0.95896,     0.95996,\n",
       "           0.96096,     0.96196,     0.96296,     0.96396,     0.96496,     0.96597,     0.96697,     0.96797,     0.96897,     0.96997,     0.97097,     0.97197,     0.97297,     0.97397,     0.97497,     0.97598,     0.97698,     0.97798,     0.97898,     0.97998,     0.98098,     0.98198,     0.98298,     0.98398,\n",
       "           0.98498,     0.98599,     0.98699,     0.98799,     0.98899,     0.98999,     0.99099,     0.99199,     0.99299,     0.99399,     0.99499,       0.996,       0.997,       0.998,       0.999,           1]), array([[    0.44517,     0.44517,     0.52563,      0.5748,     0.60743,     0.63278,     0.65287,     0.66935,     0.68301,     0.69477,     0.70564,     0.71299,     0.72096,     0.72838,      0.7342,     0.74073,     0.74553,     0.75024,     0.75551,     0.76061,     0.76464,     0.76848,     0.77155,\n",
       "            0.77464,     0.77744,     0.78052,     0.78345,     0.78623,       0.789,     0.79164,     0.79462,     0.79685,     0.79895,     0.80047,     0.80215,     0.80404,     0.80588,      0.8082,     0.81017,     0.81153,     0.81347,     0.81501,     0.81637,     0.81807,     0.81957,     0.82183,\n",
       "            0.82305,     0.82464,     0.82648,     0.82788,     0.82949,     0.83074,      0.8325,     0.83426,     0.83516,     0.83645,     0.83791,     0.83875,     0.83986,     0.84043,     0.84095,     0.84199,     0.84322,     0.84415,     0.84472,     0.84576,     0.84681,     0.84779,     0.84874,\n",
       "            0.84935,     0.85017,     0.85138,     0.85189,     0.85247,     0.85365,     0.85459,     0.85555,     0.85616,     0.85691,     0.85723,     0.85795,     0.85834,     0.85894,     0.85932,     0.86001,     0.86092,     0.86127,     0.86191,     0.86264,     0.86304,      0.8636,     0.86383,\n",
       "            0.86439,     0.86493,     0.86556,      0.8665,     0.86744,     0.86787,     0.86834,     0.86857,     0.86929,     0.86998,     0.87056,     0.87135,     0.87179,     0.87213,     0.87242,     0.87265,     0.87285,     0.87341,     0.87388,     0.87442,     0.87508,     0.87557,      0.8765,\n",
       "            0.87697,     0.87731,     0.87765,     0.87794,     0.87838,     0.87888,     0.87919,     0.87935,     0.87958,     0.87997,     0.88011,     0.88094,     0.88145,     0.88196,     0.88236,     0.88289,     0.88308,     0.88347,     0.88385,     0.88422,     0.88477,     0.88558,     0.88578,\n",
       "            0.88625,     0.88649,     0.88696,     0.88728,     0.88759,     0.88821,     0.88834,      0.8887,     0.88899,      0.8892,     0.88925,     0.88965,      0.8901,     0.89017,     0.89045,     0.89067,     0.89078,     0.89106,     0.89142,     0.89173,     0.89195,     0.89234,     0.89258,\n",
       "            0.89265,     0.89303,     0.89337,     0.89347,     0.89355,     0.89371,     0.89401,     0.89454,       0.895,     0.89514,     0.89552,      0.8959,      0.8961,     0.89648,     0.89693,     0.89711,     0.89741,     0.89774,     0.89814,     0.89844,     0.89861,     0.89871,     0.89906,\n",
       "            0.89923,     0.89941,      0.8997,      0.9007,     0.90078,       0.901,     0.90137,     0.90166,     0.90152,     0.90181,     0.90194,     0.90215,     0.90216,     0.90229,     0.90249,     0.90268,     0.90313,     0.90334,      0.9036,     0.90382,     0.90411,     0.90432,     0.90444,\n",
       "            0.90462,     0.90499,     0.90518,      0.9056,     0.90581,     0.90602,     0.90622,     0.90661,     0.90661,     0.90674,     0.90699,     0.90723,     0.90735,     0.90771,     0.90784,     0.90802,     0.90838,      0.9084,     0.90858,     0.90877,     0.90905,     0.90957,     0.90967,\n",
       "            0.90977,     0.90997,     0.91023,     0.91044,     0.91043,     0.91079,     0.91084,     0.91093,     0.91112,     0.91107,     0.91123,     0.91129,     0.91155,      0.9116,     0.91161,     0.91185,     0.91205,     0.91214,     0.91245,     0.91254,     0.91305,     0.91324,     0.91335,\n",
       "            0.91367,     0.91374,     0.91384,     0.91411,     0.91412,     0.91432,      0.9145,     0.91461,     0.91486,     0.91503,     0.91506,     0.91532,     0.91576,     0.91587,     0.91631,     0.91657,     0.91706,     0.91712,     0.91738,     0.91758,     0.91801,     0.91811,     0.91819,\n",
       "            0.91813,     0.91807,     0.91813,     0.91813,     0.91857,     0.91892,     0.91944,      0.9196,     0.91965,     0.91982,     0.92005,     0.92029,     0.92044,     0.92039,     0.92044,     0.92064,     0.92075,     0.92073,     0.92101,     0.92111,       0.921,     0.92103,      0.9211,\n",
       "            0.92154,     0.92181,     0.92207,     0.92217,     0.92227,     0.92246,     0.92246,     0.92254,     0.92282,     0.92291,     0.92309,     0.92327,     0.92336,     0.92338,     0.92372,     0.92408,     0.92398,     0.92414,     0.92439,     0.92438,     0.92453,     0.92448,     0.92467,\n",
       "            0.92477,     0.92486,     0.92529,     0.92542,     0.92553,      0.9258,     0.92577,     0.92572,     0.92578,     0.92589,     0.92591,     0.92578,     0.92575,     0.92577,     0.92581,     0.92605,      0.9261,     0.92607,     0.92622,     0.92627,     0.92616,      0.9263,     0.92625,\n",
       "            0.92618,     0.92602,     0.92607,     0.92609,     0.92611,     0.92612,     0.92629,     0.92638,     0.92649,       0.927,     0.92727,     0.92733,     0.92745,     0.92754,     0.92752,      0.9275,     0.92732,     0.92735,     0.92738,     0.92733,     0.92752,     0.92761,     0.92754,\n",
       "            0.92775,     0.92779,     0.92797,     0.92815,     0.92822,     0.92832,     0.92841,     0.92858,     0.92875,     0.92886,     0.92902,     0.92936,     0.92932,     0.92959,     0.92963,     0.92989,     0.92996,     0.92991,     0.92991,        0.93,     0.93009,     0.93018,     0.93028,\n",
       "            0.93036,     0.93026,     0.93016,     0.93005,     0.93008,     0.93036,     0.93042,     0.93042,     0.93041,     0.93039,     0.93041,     0.93029,     0.93024,     0.93045,      0.9304,     0.93047,     0.93063,     0.93043,     0.93013,     0.93008,     0.93033,     0.93043,     0.93064,\n",
       "            0.93069,     0.93073,     0.93053,     0.93032,     0.93021,     0.93014,     0.93026,     0.93014,     0.93009,     0.93008,     0.93035,     0.93053,     0.93069,     0.93056,      0.9306,     0.93059,     0.93062,     0.93088,     0.93097,     0.93109,     0.93105,     0.93122,     0.93109,\n",
       "            0.93109,     0.93098,     0.93096,     0.93105,     0.93108,     0.93118,     0.93122,     0.93123,      0.9312,     0.93143,     0.93152,      0.9317,     0.93188,     0.93195,     0.93213,     0.93209,     0.93206,     0.93191,     0.93195,     0.93213,     0.93212,     0.93219,     0.93209,\n",
       "            0.93198,     0.93195,     0.93195,      0.9321,     0.93218,     0.93209,     0.93207,     0.93212,       0.932,      0.9317,     0.93168,     0.93158,     0.93147,     0.93137,     0.93135,     0.93134,     0.93141,      0.9315,     0.93148,     0.93165,     0.93135,     0.93143,     0.93141,\n",
       "            0.93131,     0.93119,     0.93124,     0.93129,     0.93143,     0.93148,      0.9316,     0.93167,     0.93165,     0.93173,     0.93175,      0.9319,     0.93181,     0.93171,     0.93163,     0.93157,     0.93139,     0.93118,     0.93105,     0.93093,     0.93082,     0.93073,     0.93062,\n",
       "            0.93051,     0.93046,     0.93047,     0.93041,      0.9302,     0.93009,     0.92994,     0.92973,     0.92962,     0.92948,     0.92928,     0.92895,     0.92903,     0.92902,     0.92879,     0.92837,     0.92864,     0.92871,      0.9287,     0.92841,     0.92848,     0.92855,     0.92854,\n",
       "            0.92872,     0.92894,     0.92873,     0.92859,     0.92861,     0.92841,     0.92836,     0.92865,     0.92859,     0.92871,     0.92865,     0.92875,      0.9287,     0.92897,     0.92901,     0.92906,     0.92911,     0.92875,     0.92871,     0.92872,     0.92867,     0.92869,     0.92864,\n",
       "            0.92884,     0.92879,     0.92871,     0.92865,     0.92845,     0.92824,     0.92813,     0.92774,     0.92768,     0.92717,     0.92718,      0.9268,     0.92681,     0.92696,     0.92698,     0.92708,     0.92693,     0.92644,     0.92639,     0.92601,     0.92595,     0.92583,     0.92589,\n",
       "             0.9254,     0.92545,     0.92529,     0.92533,     0.92478,     0.92415,     0.92404,     0.92367,     0.92354,      0.9233,     0.92331,     0.92324,     0.92329,     0.92284,     0.92279,      0.9225,     0.92244,     0.92195,      0.9219,     0.92141,     0.92135,     0.92081,     0.92048,\n",
       "            0.92047,     0.92037,     0.92031,     0.91939,     0.91934,     0.91927,     0.91922,     0.91895,     0.91889,     0.91846,     0.91754,     0.91749,     0.91732,     0.91727,     0.91667,     0.91661,     0.91626,      0.9163,     0.91577,     0.91569,     0.91519,     0.91514,      0.9149,\n",
       "            0.91457,     0.91444,     0.91409,     0.91416,      0.9142,     0.91415,     0.91375,      0.9137,      0.9133,     0.91325,     0.91305,     0.91221,     0.91216,     0.91163,     0.91152,     0.91072,     0.91079,     0.91012,     0.91001,     0.90929,     0.90891,     0.90885,     0.90848,\n",
       "            0.90854,      0.9077,     0.90759,     0.90722,     0.90716,     0.90655,     0.90602,     0.90597,     0.90533,     0.90518,     0.90464,     0.90458,     0.90394,     0.90388,     0.90278,     0.90203,     0.90198,     0.90063,     0.89995,     0.89989,      0.8987,     0.89847,     0.89781,\n",
       "            0.89773,     0.89748,     0.89752,     0.89634,     0.89567,     0.89545,     0.89429,     0.89422,      0.8927,     0.89264,     0.89211,     0.89054,     0.89048,     0.88926,     0.88793,     0.88747,     0.88609,     0.88601,     0.88507,     0.88502,     0.88364,      0.8836,     0.88353,\n",
       "            0.88199,     0.88187,     0.88024,     0.87911,     0.87876,     0.87737,     0.87728,     0.87581,     0.87396,      0.8739,      0.8729,     0.87162,     0.87154,     0.86974,      0.8695,      0.8686,     0.86718,     0.86703,     0.86578,     0.86566,     0.86385,     0.86197,     0.86169,\n",
       "            0.86028,     0.86021,     0.85888,     0.85654,     0.85645,     0.85464,     0.85263,     0.85257,      0.8504,     0.84905,     0.84851,     0.84709,     0.84468,     0.84454,     0.84313,     0.84031,     0.83993,      0.8379,     0.83774,      0.8353,     0.83327,     0.83318,      0.8307,\n",
       "            0.82833,     0.82825,     0.82545,     0.82333,     0.82081,     0.82067,     0.81841,     0.81835,      0.8149,      0.8124,     0.81222,     0.80796,     0.80516,     0.80499,     0.80227,      0.7985,     0.79753,     0.79392,     0.79117,     0.79101,     0.78799,     0.78525,     0.78079,\n",
       "            0.78016,     0.77707,     0.77311,     0.76827,     0.76769,     0.76517,      0.7614,     0.76092,     0.75642,     0.75265,     0.74907,     0.74873,     0.74646,      0.7439,     0.74341,     0.74061,      0.7376,     0.73729,     0.73418,     0.73068,     0.72648,     0.72255,     0.72142,\n",
       "            0.71844,     0.71516,     0.71239,     0.71187,     0.70945,     0.70614,     0.70324,     0.70304,     0.69868,     0.69486,     0.69156,     0.69089,     0.68669,     0.68459,     0.67928,     0.67479,     0.67341,     0.66955,     0.66567,     0.66119,      0.6575,     0.65347,     0.65272,\n",
       "            0.64761,     0.64319,     0.64015,       0.636,     0.63508,     0.62973,     0.62522,     0.62164,     0.61844,     0.61298,     0.61219,     0.60859,     0.60423,     0.60105,     0.59721,     0.59011,     0.58621,     0.58191,     0.57495,      0.5743,     0.56875,     0.56435,     0.55667,\n",
       "            0.55281,     0.54595,     0.54081,     0.53503,     0.53259,     0.52658,     0.52069,     0.51434,     0.50836,     0.50095,     0.49897,     0.49095,     0.48242,     0.47401,     0.46638,      0.4622,     0.45312,     0.44283,     0.44008,     0.43165,     0.42428,     0.41404,     0.40415,\n",
       "            0.39628,     0.38785,     0.38177,     0.37761,     0.37022,     0.36376,     0.35725,     0.35093,     0.34483,     0.33198,     0.32599,     0.32154,     0.31521,     0.30884,     0.30375,     0.29783,     0.29323,     0.28778,     0.28421,     0.27953,     0.27261,     0.26339,     0.25774,\n",
       "             0.2515,     0.24578,     0.24031,     0.23393,     0.22722,     0.22105,     0.21542,     0.20887,     0.20467,     0.20044,     0.19256,     0.18767,     0.17968,     0.17534,     0.16817,      0.1619,     0.15304,     0.14506,     0.14055,     0.13214,     0.12724,     0.12199,     0.11307,\n",
       "            0.10674,     0.10238,    0.096656,    0.088858,     0.08031,    0.073759,    0.067857,    0.063664,    0.059102,     0.05698,    0.054502,    0.050957,    0.047133,    0.045608,    0.041318,    0.039514,    0.036274,    0.035492,    0.031564,    0.029381,    0.027194,    0.025364,    0.023348,\n",
       "           0.022058,    0.020219,    0.019107,    0.018577,    0.017304,    0.017054,    0.015743,    0.013892,     0.01167,   0.0097188,    0.007312,   0.0068231,   0.0053256,   0.0041963,   0.0037603,   0.0023051,   0.0017955,   0.0016432,   0.0014909,  0.00063771,  0.00052882,  0.00041992,           0,\n",
       "                  0,           0,           0,           0,           0,           0,           0,           0,           0,           0,           0,           0,           0,           0,           0,           0,           0,           0,           0,           0,           0,           0,           0,\n",
       "                  0,           0,           0,           0,           0,           0,           0,           0,           0,           0,           0,           0,           0,           0,           0,           0,           0,           0,           0,           0,           0,           0,           0,\n",
       "                  0,           0,           0,           0,           0,           0,           0,           0,           0,           0,           0]]), 'Confidence', 'F1'], [array([          0,    0.001001,    0.002002,    0.003003,    0.004004,    0.005005,    0.006006,    0.007007,    0.008008,    0.009009,     0.01001,    0.011011,    0.012012,    0.013013,    0.014014,    0.015015,    0.016016,    0.017017,    0.018018,    0.019019,     0.02002,    0.021021,    0.022022,    0.023023,\n",
       "          0.024024,    0.025025,    0.026026,    0.027027,    0.028028,    0.029029,     0.03003,    0.031031,    0.032032,    0.033033,    0.034034,    0.035035,    0.036036,    0.037037,    0.038038,    0.039039,     0.04004,    0.041041,    0.042042,    0.043043,    0.044044,    0.045045,    0.046046,    0.047047,\n",
       "          0.048048,    0.049049,     0.05005,    0.051051,    0.052052,    0.053053,    0.054054,    0.055055,    0.056056,    0.057057,    0.058058,    0.059059,     0.06006,    0.061061,    0.062062,    0.063063,    0.064064,    0.065065,    0.066066,    0.067067,    0.068068,    0.069069,     0.07007,    0.071071,\n",
       "          0.072072,    0.073073,    0.074074,    0.075075,    0.076076,    0.077077,    0.078078,    0.079079,     0.08008,    0.081081,    0.082082,    0.083083,    0.084084,    0.085085,    0.086086,    0.087087,    0.088088,    0.089089,     0.09009,    0.091091,    0.092092,    0.093093,    0.094094,    0.095095,\n",
       "          0.096096,    0.097097,    0.098098,    0.099099,      0.1001,      0.1011,      0.1021,      0.1031,      0.1041,     0.10511,     0.10611,     0.10711,     0.10811,     0.10911,     0.11011,     0.11111,     0.11211,     0.11311,     0.11411,     0.11512,     0.11612,     0.11712,     0.11812,     0.11912,\n",
       "           0.12012,     0.12112,     0.12212,     0.12312,     0.12412,     0.12513,     0.12613,     0.12713,     0.12813,     0.12913,     0.13013,     0.13113,     0.13213,     0.13313,     0.13413,     0.13514,     0.13614,     0.13714,     0.13814,     0.13914,     0.14014,     0.14114,     0.14214,     0.14314,\n",
       "           0.14414,     0.14515,     0.14615,     0.14715,     0.14815,     0.14915,     0.15015,     0.15115,     0.15215,     0.15315,     0.15415,     0.15516,     0.15616,     0.15716,     0.15816,     0.15916,     0.16016,     0.16116,     0.16216,     0.16316,     0.16416,     0.16517,     0.16617,     0.16717,\n",
       "           0.16817,     0.16917,     0.17017,     0.17117,     0.17217,     0.17317,     0.17417,     0.17518,     0.17618,     0.17718,     0.17818,     0.17918,     0.18018,     0.18118,     0.18218,     0.18318,     0.18418,     0.18519,     0.18619,     0.18719,     0.18819,     0.18919,     0.19019,     0.19119,\n",
       "           0.19219,     0.19319,     0.19419,      0.1952,      0.1962,      0.1972,      0.1982,      0.1992,      0.2002,      0.2012,      0.2022,      0.2032,      0.2042,     0.20521,     0.20621,     0.20721,     0.20821,     0.20921,     0.21021,     0.21121,     0.21221,     0.21321,     0.21421,     0.21522,\n",
       "           0.21622,     0.21722,     0.21822,     0.21922,     0.22022,     0.22122,     0.22222,     0.22322,     0.22422,     0.22523,     0.22623,     0.22723,     0.22823,     0.22923,     0.23023,     0.23123,     0.23223,     0.23323,     0.23423,     0.23524,     0.23624,     0.23724,     0.23824,     0.23924,\n",
       "           0.24024,     0.24124,     0.24224,     0.24324,     0.24424,     0.24525,     0.24625,     0.24725,     0.24825,     0.24925,     0.25025,     0.25125,     0.25225,     0.25325,     0.25425,     0.25526,     0.25626,     0.25726,     0.25826,     0.25926,     0.26026,     0.26126,     0.26226,     0.26326,\n",
       "           0.26426,     0.26527,     0.26627,     0.26727,     0.26827,     0.26927,     0.27027,     0.27127,     0.27227,     0.27327,     0.27427,     0.27528,     0.27628,     0.27728,     0.27828,     0.27928,     0.28028,     0.28128,     0.28228,     0.28328,     0.28428,     0.28529,     0.28629,     0.28729,\n",
       "           0.28829,     0.28929,     0.29029,     0.29129,     0.29229,     0.29329,     0.29429,      0.2953,      0.2963,      0.2973,      0.2983,      0.2993,      0.3003,      0.3013,      0.3023,      0.3033,      0.3043,     0.30531,     0.30631,     0.30731,     0.30831,     0.30931,     0.31031,     0.31131,\n",
       "           0.31231,     0.31331,     0.31431,     0.31532,     0.31632,     0.31732,     0.31832,     0.31932,     0.32032,     0.32132,     0.32232,     0.32332,     0.32432,     0.32533,     0.32633,     0.32733,     0.32833,     0.32933,     0.33033,     0.33133,     0.33233,     0.33333,     0.33433,     0.33534,\n",
       "           0.33634,     0.33734,     0.33834,     0.33934,     0.34034,     0.34134,     0.34234,     0.34334,     0.34434,     0.34535,     0.34635,     0.34735,     0.34835,     0.34935,     0.35035,     0.35135,     0.35235,     0.35335,     0.35435,     0.35536,     0.35636,     0.35736,     0.35836,     0.35936,\n",
       "           0.36036,     0.36136,     0.36236,     0.36336,     0.36436,     0.36537,     0.36637,     0.36737,     0.36837,     0.36937,     0.37037,     0.37137,     0.37237,     0.37337,     0.37437,     0.37538,     0.37638,     0.37738,     0.37838,     0.37938,     0.38038,     0.38138,     0.38238,     0.38338,\n",
       "           0.38438,     0.38539,     0.38639,     0.38739,     0.38839,     0.38939,     0.39039,     0.39139,     0.39239,     0.39339,     0.39439,      0.3954,      0.3964,      0.3974,      0.3984,      0.3994,      0.4004,      0.4014,      0.4024,      0.4034,      0.4044,     0.40541,     0.40641,     0.40741,\n",
       "           0.40841,     0.40941,     0.41041,     0.41141,     0.41241,     0.41341,     0.41441,     0.41542,     0.41642,     0.41742,     0.41842,     0.41942,     0.42042,     0.42142,     0.42242,     0.42342,     0.42442,     0.42543,     0.42643,     0.42743,     0.42843,     0.42943,     0.43043,     0.43143,\n",
       "           0.43243,     0.43343,     0.43443,     0.43544,     0.43644,     0.43744,     0.43844,     0.43944,     0.44044,     0.44144,     0.44244,     0.44344,     0.44444,     0.44545,     0.44645,     0.44745,     0.44845,     0.44945,     0.45045,     0.45145,     0.45245,     0.45345,     0.45445,     0.45546,\n",
       "           0.45646,     0.45746,     0.45846,     0.45946,     0.46046,     0.46146,     0.46246,     0.46346,     0.46446,     0.46547,     0.46647,     0.46747,     0.46847,     0.46947,     0.47047,     0.47147,     0.47247,     0.47347,     0.47447,     0.47548,     0.47648,     0.47748,     0.47848,     0.47948,\n",
       "           0.48048,     0.48148,     0.48248,     0.48348,     0.48448,     0.48549,     0.48649,     0.48749,     0.48849,     0.48949,     0.49049,     0.49149,     0.49249,     0.49349,     0.49449,      0.4955,      0.4965,      0.4975,      0.4985,      0.4995,      0.5005,      0.5015,      0.5025,      0.5035,\n",
       "            0.5045,     0.50551,     0.50651,     0.50751,     0.50851,     0.50951,     0.51051,     0.51151,     0.51251,     0.51351,     0.51451,     0.51552,     0.51652,     0.51752,     0.51852,     0.51952,     0.52052,     0.52152,     0.52252,     0.52352,     0.52452,     0.52553,     0.52653,     0.52753,\n",
       "           0.52853,     0.52953,     0.53053,     0.53153,     0.53253,     0.53353,     0.53453,     0.53554,     0.53654,     0.53754,     0.53854,     0.53954,     0.54054,     0.54154,     0.54254,     0.54354,     0.54454,     0.54555,     0.54655,     0.54755,     0.54855,     0.54955,     0.55055,     0.55155,\n",
       "           0.55255,     0.55355,     0.55455,     0.55556,     0.55656,     0.55756,     0.55856,     0.55956,     0.56056,     0.56156,     0.56256,     0.56356,     0.56456,     0.56557,     0.56657,     0.56757,     0.56857,     0.56957,     0.57057,     0.57157,     0.57257,     0.57357,     0.57457,     0.57558,\n",
       "           0.57658,     0.57758,     0.57858,     0.57958,     0.58058,     0.58158,     0.58258,     0.58358,     0.58458,     0.58559,     0.58659,     0.58759,     0.58859,     0.58959,     0.59059,     0.59159,     0.59259,     0.59359,     0.59459,      0.5956,      0.5966,      0.5976,      0.5986,      0.5996,\n",
       "            0.6006,      0.6016,      0.6026,      0.6036,      0.6046,     0.60561,     0.60661,     0.60761,     0.60861,     0.60961,     0.61061,     0.61161,     0.61261,     0.61361,     0.61461,     0.61562,     0.61662,     0.61762,     0.61862,     0.61962,     0.62062,     0.62162,     0.62262,     0.62362,\n",
       "           0.62462,     0.62563,     0.62663,     0.62763,     0.62863,     0.62963,     0.63063,     0.63163,     0.63263,     0.63363,     0.63463,     0.63564,     0.63664,     0.63764,     0.63864,     0.63964,     0.64064,     0.64164,     0.64264,     0.64364,     0.64464,     0.64565,     0.64665,     0.64765,\n",
       "           0.64865,     0.64965,     0.65065,     0.65165,     0.65265,     0.65365,     0.65465,     0.65566,     0.65666,     0.65766,     0.65866,     0.65966,     0.66066,     0.66166,     0.66266,     0.66366,     0.66466,     0.66567,     0.66667,     0.66767,     0.66867,     0.66967,     0.67067,     0.67167,\n",
       "           0.67267,     0.67367,     0.67467,     0.67568,     0.67668,     0.67768,     0.67868,     0.67968,     0.68068,     0.68168,     0.68268,     0.68368,     0.68468,     0.68569,     0.68669,     0.68769,     0.68869,     0.68969,     0.69069,     0.69169,     0.69269,     0.69369,     0.69469,      0.6957,\n",
       "            0.6967,      0.6977,      0.6987,      0.6997,      0.7007,      0.7017,      0.7027,      0.7037,      0.7047,     0.70571,     0.70671,     0.70771,     0.70871,     0.70971,     0.71071,     0.71171,     0.71271,     0.71371,     0.71471,     0.71572,     0.71672,     0.71772,     0.71872,     0.71972,\n",
       "           0.72072,     0.72172,     0.72272,     0.72372,     0.72472,     0.72573,     0.72673,     0.72773,     0.72873,     0.72973,     0.73073,     0.73173,     0.73273,     0.73373,     0.73473,     0.73574,     0.73674,     0.73774,     0.73874,     0.73974,     0.74074,     0.74174,     0.74274,     0.74374,\n",
       "           0.74474,     0.74575,     0.74675,     0.74775,     0.74875,     0.74975,     0.75075,     0.75175,     0.75275,     0.75375,     0.75475,     0.75576,     0.75676,     0.75776,     0.75876,     0.75976,     0.76076,     0.76176,     0.76276,     0.76376,     0.76476,     0.76577,     0.76677,     0.76777,\n",
       "           0.76877,     0.76977,     0.77077,     0.77177,     0.77277,     0.77377,     0.77477,     0.77578,     0.77678,     0.77778,     0.77878,     0.77978,     0.78078,     0.78178,     0.78278,     0.78378,     0.78478,     0.78579,     0.78679,     0.78779,     0.78879,     0.78979,     0.79079,     0.79179,\n",
       "           0.79279,     0.79379,     0.79479,      0.7958,      0.7968,      0.7978,      0.7988,      0.7998,      0.8008,      0.8018,      0.8028,      0.8038,      0.8048,     0.80581,     0.80681,     0.80781,     0.80881,     0.80981,     0.81081,     0.81181,     0.81281,     0.81381,     0.81481,     0.81582,\n",
       "           0.81682,     0.81782,     0.81882,     0.81982,     0.82082,     0.82182,     0.82282,     0.82382,     0.82482,     0.82583,     0.82683,     0.82783,     0.82883,     0.82983,     0.83083,     0.83183,     0.83283,     0.83383,     0.83483,     0.83584,     0.83684,     0.83784,     0.83884,     0.83984,\n",
       "           0.84084,     0.84184,     0.84284,     0.84384,     0.84484,     0.84585,     0.84685,     0.84785,     0.84885,     0.84985,     0.85085,     0.85185,     0.85285,     0.85385,     0.85485,     0.85586,     0.85686,     0.85786,     0.85886,     0.85986,     0.86086,     0.86186,     0.86286,     0.86386,\n",
       "           0.86486,     0.86587,     0.86687,     0.86787,     0.86887,     0.86987,     0.87087,     0.87187,     0.87287,     0.87387,     0.87487,     0.87588,     0.87688,     0.87788,     0.87888,     0.87988,     0.88088,     0.88188,     0.88288,     0.88388,     0.88488,     0.88589,     0.88689,     0.88789,\n",
       "           0.88889,     0.88989,     0.89089,     0.89189,     0.89289,     0.89389,     0.89489,      0.8959,      0.8969,      0.8979,      0.8989,      0.8999,      0.9009,      0.9019,      0.9029,      0.9039,      0.9049,     0.90591,     0.90691,     0.90791,     0.90891,     0.90991,     0.91091,     0.91191,\n",
       "           0.91291,     0.91391,     0.91491,     0.91592,     0.91692,     0.91792,     0.91892,     0.91992,     0.92092,     0.92192,     0.92292,     0.92392,     0.92492,     0.92593,     0.92693,     0.92793,     0.92893,     0.92993,     0.93093,     0.93193,     0.93293,     0.93393,     0.93493,     0.93594,\n",
       "           0.93694,     0.93794,     0.93894,     0.93994,     0.94094,     0.94194,     0.94294,     0.94394,     0.94494,     0.94595,     0.94695,     0.94795,     0.94895,     0.94995,     0.95095,     0.95195,     0.95295,     0.95395,     0.95495,     0.95596,     0.95696,     0.95796,     0.95896,     0.95996,\n",
       "           0.96096,     0.96196,     0.96296,     0.96396,     0.96496,     0.96597,     0.96697,     0.96797,     0.96897,     0.96997,     0.97097,     0.97197,     0.97297,     0.97397,     0.97497,     0.97598,     0.97698,     0.97798,     0.97898,     0.97998,     0.98098,     0.98198,     0.98298,     0.98398,\n",
       "           0.98498,     0.98599,     0.98699,     0.98799,     0.98899,     0.98999,     0.99099,     0.99199,     0.99299,     0.99399,     0.99499,       0.996,       0.997,       0.998,       0.999,           1]), array([[     0.2867,      0.2867,     0.35732,     0.40463,     0.43788,     0.46505,     0.48731,     0.50594,     0.52192,     0.53611,     0.54952,     0.55861,     0.56864,     0.57811,     0.58568,     0.59431,     0.60072,     0.60715,     0.61445,      0.6213,     0.62692,     0.63241,     0.63673,\n",
       "            0.64103,     0.64528,     0.64978,     0.65394,     0.65791,     0.66205,     0.66578,     0.67044,     0.67371,     0.67708,     0.67946,     0.68214,     0.68488,     0.68764,     0.69111,      0.6941,      0.6963,     0.69935,     0.70201,     0.70424,     0.70717,     0.70945,     0.71321,\n",
       "            0.71534,     0.71774,     0.72075,     0.72319,     0.72565,     0.72767,     0.73059,     0.73331,     0.73481,     0.73681,     0.73907,     0.74049,     0.74222,     0.74311,     0.74405,     0.74577,     0.74782,      0.7495,     0.75041,     0.75205,     0.75372,     0.75527,     0.75689,\n",
       "            0.75797,     0.75929,     0.76145,     0.76249,     0.76354,     0.76543,     0.76707,     0.76862,      0.7696,     0.77081,     0.77168,     0.77297,      0.7736,     0.77459,      0.7752,     0.77642,     0.77793,     0.77863,     0.77979,     0.78099,      0.7819,     0.78294,     0.78368,\n",
       "            0.78473,     0.78586,     0.78703,     0.78858,     0.79015,     0.79087,     0.79164,     0.79214,     0.79335,     0.79463,     0.79559,     0.79691,     0.79777,     0.79843,     0.79897,     0.79961,     0.79995,     0.80089,      0.8018,     0.80272,     0.80383,     0.80466,     0.80623,\n",
       "            0.80703,      0.8076,     0.80818,      0.8087,     0.80954,      0.8104,     0.81092,     0.81132,     0.81192,     0.81264,     0.81302,     0.81445,     0.81531,     0.81646,     0.81715,     0.81818,     0.81879,     0.81958,     0.82038,     0.82116,      0.8221,     0.82351,     0.82385,\n",
       "            0.82466,     0.82509,     0.82589,     0.82645,       0.827,     0.82807,     0.82856,     0.82933,     0.82998,      0.8305,     0.83085,     0.83156,     0.83234,     0.83267,     0.83324,     0.83362,     0.83382,     0.83431,     0.83507,     0.83562,     0.83601,     0.83669,     0.83722,\n",
       "            0.83766,     0.83834,     0.83908,     0.83932,     0.83957,     0.83997,      0.8405,     0.84144,     0.84224,      0.8425,     0.84317,     0.84384,     0.84421,     0.84488,     0.84588,     0.84629,     0.84682,     0.84755,     0.84827,      0.8488,     0.84912,     0.84928,     0.85006,\n",
       "            0.85037,     0.85069,     0.85121,       0.853,     0.85325,     0.85384,     0.85465,     0.85517,     0.85521,     0.85573,     0.85596,     0.85634,     0.85667,     0.85691,     0.85726,     0.85776,     0.85857,     0.85895,     0.85942,     0.85982,     0.86035,     0.86073,     0.86094,\n",
       "            0.86157,     0.86224,     0.86259,     0.86338,     0.86389,     0.86427,     0.86463,      0.8654,      0.8655,     0.86589,     0.86649,     0.86725,     0.86746,     0.86813,     0.86835,     0.86884,      0.8695,     0.86971,     0.87018,     0.87069,      0.8712,     0.87216,      0.8725,\n",
       "            0.87284,     0.87328,     0.87385,     0.87444,     0.87454,     0.87518,     0.87529,     0.87561,     0.87597,     0.87616,     0.87647,     0.87659,     0.87707,     0.87717,     0.87748,     0.87795,     0.87831,     0.87865,     0.87922,     0.87939,     0.88033,     0.88069,      0.8809,\n",
       "            0.88148,     0.88162,     0.88196,     0.88248,     0.88259,     0.88317,     0.88352,     0.88373,     0.88451,     0.88483,     0.88496,     0.88554,     0.88636,     0.88657,      0.8874,     0.88805,     0.88897,     0.88908,     0.88957,     0.88994,     0.89075,     0.89094,     0.89143,\n",
       "            0.89167,     0.89166,      0.8918,     0.89213,     0.89298,     0.89362,     0.89461,     0.89508,     0.89517,      0.8955,     0.89594,     0.89638,     0.89678,     0.89691,     0.89735,     0.89773,     0.89794,     0.89824,     0.89877,     0.89896,     0.89925,     0.89947,     0.89962,\n",
       "            0.90062,     0.90113,     0.90164,     0.90182,     0.90203,     0.90239,     0.90256,     0.90288,     0.90341,     0.90376,      0.9041,     0.90445,     0.90479,     0.90499,     0.90565,     0.90634,     0.90649,     0.90698,      0.9078,     0.90796,     0.90829,     0.90833,     0.90869,\n",
       "            0.90889,     0.90906,     0.91007,     0.91053,     0.91106,     0.91158,     0.91164,     0.91178,     0.91224,     0.91245,     0.91257,      0.9127,     0.91284,     0.91291,       0.913,      0.9135,     0.91396,     0.91403,     0.91459,      0.9149,     0.91488,     0.91536,     0.91536,\n",
       "            0.91535,     0.91536,     0.91546,     0.91579,     0.91606,     0.91626,      0.9166,     0.91677,     0.91698,     0.91799,     0.91852,     0.91876,     0.91903,      0.9194,     0.91971,     0.91987,     0.91986,     0.91992,     0.91998,        0.92,     0.92044,     0.92061,     0.92065,\n",
       "            0.92107,     0.92116,      0.9217,     0.92204,     0.92237,     0.92265,     0.92291,     0.92326,      0.9236,     0.92381,     0.92448,     0.92516,     0.92563,     0.92617,     0.92626,     0.92682,     0.92715,     0.92755,     0.92773,     0.92791,     0.92808,     0.92826,     0.92864,\n",
       "            0.92881,      0.9288,     0.92878,     0.92877,       0.929,     0.92961,     0.92985,     0.92995,     0.93002,      0.9301,     0.93039,     0.93041,     0.93041,     0.93092,     0.93091,     0.93107,     0.93143,      0.9314,     0.93137,      0.9314,     0.93209,     0.93254,     0.93309,\n",
       "            0.93319,      0.9334,     0.93337,     0.93351,      0.9335,     0.93377,     0.93416,     0.93431,     0.93444,     0.93463,     0.93535,      0.9357,     0.93622,     0.93653,     0.93662,     0.93701,     0.93723,     0.93776,     0.93794,     0.93824,      0.9383,     0.93892,     0.93908,\n",
       "            0.93953,     0.93969,     0.94003,     0.94021,     0.94042,     0.94067,     0.94076,     0.94094,     0.94128,     0.94197,     0.94215,     0.94251,     0.94288,     0.94323,     0.94359,     0.94358,     0.94358,     0.94356,      0.9438,     0.94417,     0.94434,      0.9447,     0.94478,\n",
       "            0.94486,     0.94528,     0.94538,     0.94581,     0.94616,     0.94626,     0.94661,     0.94685,     0.94701,     0.94698,     0.94715,     0.94714,     0.94713,     0.94712,     0.94729,     0.94746,     0.94763,     0.94781,     0.94817,     0.94853,     0.94851,     0.94887,     0.94903,\n",
       "            0.94921,     0.94938,     0.95008,     0.95017,     0.95047,     0.95062,     0.95102,     0.95139,     0.95174,     0.95211,     0.95223,     0.95266,     0.95277,     0.95276,     0.95275,     0.95274,     0.95281,     0.95289,     0.95323,      0.9534,     0.95339,     0.95349,     0.95366,\n",
       "            0.95383,     0.95407,     0.95438,      0.9546,     0.95458,     0.95475,     0.95528,     0.95526,     0.95543,     0.95558,     0.95576,     0.95591,      0.9561,     0.95628,     0.95662,     0.95678,     0.95735,     0.95753,     0.95771,     0.95771,     0.95827,     0.95864,     0.95883,\n",
       "            0.95921,     0.95974,     0.95972,     0.95977,     0.95989,     0.96006,     0.96006,       0.961,       0.961,     0.96156,     0.96156,      0.9623,      0.9623,     0.96293,     0.96303,     0.96313,     0.96322,     0.96354,      0.9636,     0.96398,     0.96397,     0.96435,     0.96434,\n",
       "            0.96511,      0.9651,     0.96547,     0.96547,     0.96546,     0.96619,     0.96619,     0.96616,     0.96616,     0.96631,     0.96642,     0.96705,     0.96716,     0.96763,     0.96775,     0.96796,     0.96801,     0.96797,     0.96797,     0.96814,     0.96814,     0.96851,     0.96868,\n",
       "            0.96895,     0.96905,     0.96914,     0.96924,      0.9696,     0.96956,     0.96955,     0.96983,     0.96991,     0.97028,     0.97041,     0.97093,     0.97103,     0.97103,     0.97103,      0.9714,      0.9714,     0.97157,     0.97156,     0.97173,     0.97173,     0.97229,     0.97266,\n",
       "            0.97275,     0.97305,     0.97305,      0.9732,     0.97319,     0.97339,     0.97338,     0.97337,     0.97337,     0.97383,     0.97389,     0.97389,     0.97388,     0.97388,     0.97405,     0.97404,     0.97426,     0.97437,      0.9744,      0.9744,     0.97457,     0.97457,     0.97476,\n",
       "            0.97495,     0.97514,     0.97553,     0.97568,     0.97633,     0.97633,     0.97652,     0.97651,      0.9767,      0.9767,     0.97689,     0.97705,     0.97705,     0.97723,     0.97723,     0.97725,     0.97739,     0.97757,     0.97757,     0.97774,     0.97773,     0.97772,     0.97772,\n",
       "            0.97786,     0.97829,     0.97829,      0.9791,      0.9791,     0.97907,     0.97926,     0.97925,     0.97944,     0.97943,     0.97962,     0.97961,     0.98001,        0.98,     0.98038,     0.98056,     0.98056,     0.98105,     0.98175,     0.98175,     0.98192,     0.98191,     0.98189,\n",
       "            0.98189,     0.98238,     0.98249,      0.9827,     0.98289,     0.98288,     0.98327,     0.98327,     0.98322,     0.98322,     0.98342,     0.98358,     0.98358,     0.98376,     0.98372,      0.9837,     0.98388,     0.98388,     0.98451,     0.98451,     0.98491,     0.98558,     0.98557,\n",
       "            0.98598,     0.98597,     0.98638,     0.98635,     0.98634,     0.98648,     0.98652,     0.98648,     0.98666,     0.98666,     0.98663,     0.98683,     0.98683,     0.98724,     0.98724,     0.98837,     0.98834,     0.98834,     0.98854,     0.98854,     0.98896,     0.98892,     0.98892,\n",
       "            0.98889,     0.98888,     0.98947,        0.99,        0.99,     0.98996,     0.99016,     0.99016,      0.9906,     0.99058,     0.99071,     0.99103,     0.99098,     0.99098,     0.99096,     0.99115,     0.99115,     0.99111,     0.99111,     0.99106,     0.99128,     0.99128,     0.99123,\n",
       "            0.99119,     0.99119,     0.99114,       0.992,     0.99209,     0.99209,     0.99231,     0.99231,     0.99252,     0.99248,     0.99248,     0.99241,     0.99237,     0.99237,     0.99232,     0.99308,     0.99307,     0.99329,     0.99326,     0.99325,     0.99349,     0.99345,     0.99339,\n",
       "            0.99338,     0.99363,     0.99357,     0.99351,      0.9935,     0.99347,     0.99371,      0.9937,     0.99364,     0.99359,     0.99354,     0.99354,     0.99381,     0.99378,     0.99377,     0.99405,     0.99401,       0.994,     0.99396,     0.99424,     0.99418,     0.99413,     0.99412,\n",
       "            0.99408,     0.99404,     0.99433,     0.99433,      0.9943,     0.99426,      0.9949,     0.99489,     0.99484,      0.9948,     0.99476,     0.99476,     0.99506,     0.99574,     0.99569,     0.99565,     0.99563,     0.99559,     0.99629,     0.99625,     0.99622,     0.99619,     0.99618,\n",
       "            0.99729,     0.99804,     0.99842,     0.99841,      0.9984,     0.99838,     0.99837,     0.99835,     0.99834,     0.99832,     0.99832,      0.9983,     0.99871,      0.9987,     0.99869,     0.99911,      0.9991,     0.99909,     0.99908,     0.99908,     0.99953,     0.99953,     0.99952,\n",
       "                  1,           1,           1,           1,           1,           1,           1,           1,           1,           1,           1,           1,           1,           1,           1,           1,           1,           1,           1,           1,           1,           1,           1,\n",
       "                  1,           1,           1,           1,           1,           1,           1,           1,           1,           1,           1,           1,           1,           1,           1,           1,           1,           1,           1,           1,           1,           1,           1,\n",
       "                  1,           1,           1,           1,           1,           1,           1,           1,           1,           1,           1,           1,           1,           1,           1,           1,           1,           1,           1,           1,           1,           1,           1,\n",
       "                  1,           1,           1,           1,           1,           1,           1,           1,           1,           1,           1,           1,           1,           1,           1,           1,           1,           1,           1,           1,           1,           1,           1,\n",
       "                  1,           1,           1,           1,           1,           1,           1,           1,           1,           1,           1,           1,           1,           1,           1,           1,           1,           1,           1,           1,           1,           1,           1,\n",
       "                  1,           1,           1,           1,           1,           1,           1,           1,           1,           1,           1,           1,           1,           1,           1,           1,           1,           1,           1,           1,           1,           1,           1,\n",
       "                  1,           1,           1,           1,           1,           1,           1,           1,           1,           1,           1,           1,           1,           1,           1,           1,           1,           1,           1,           1,           1,           1,           1,\n",
       "                  1,           1,           1,           1,           1,           1,           1,           1,           1,           1,           1]]), 'Confidence', 'Precision'], [array([          0,    0.001001,    0.002002,    0.003003,    0.004004,    0.005005,    0.006006,    0.007007,    0.008008,    0.009009,     0.01001,    0.011011,    0.012012,    0.013013,    0.014014,    0.015015,    0.016016,    0.017017,    0.018018,    0.019019,     0.02002,    0.021021,    0.022022,    0.023023,\n",
       "          0.024024,    0.025025,    0.026026,    0.027027,    0.028028,    0.029029,     0.03003,    0.031031,    0.032032,    0.033033,    0.034034,    0.035035,    0.036036,    0.037037,    0.038038,    0.039039,     0.04004,    0.041041,    0.042042,    0.043043,    0.044044,    0.045045,    0.046046,    0.047047,\n",
       "          0.048048,    0.049049,     0.05005,    0.051051,    0.052052,    0.053053,    0.054054,    0.055055,    0.056056,    0.057057,    0.058058,    0.059059,     0.06006,    0.061061,    0.062062,    0.063063,    0.064064,    0.065065,    0.066066,    0.067067,    0.068068,    0.069069,     0.07007,    0.071071,\n",
       "          0.072072,    0.073073,    0.074074,    0.075075,    0.076076,    0.077077,    0.078078,    0.079079,     0.08008,    0.081081,    0.082082,    0.083083,    0.084084,    0.085085,    0.086086,    0.087087,    0.088088,    0.089089,     0.09009,    0.091091,    0.092092,    0.093093,    0.094094,    0.095095,\n",
       "          0.096096,    0.097097,    0.098098,    0.099099,      0.1001,      0.1011,      0.1021,      0.1031,      0.1041,     0.10511,     0.10611,     0.10711,     0.10811,     0.10911,     0.11011,     0.11111,     0.11211,     0.11311,     0.11411,     0.11512,     0.11612,     0.11712,     0.11812,     0.11912,\n",
       "           0.12012,     0.12112,     0.12212,     0.12312,     0.12412,     0.12513,     0.12613,     0.12713,     0.12813,     0.12913,     0.13013,     0.13113,     0.13213,     0.13313,     0.13413,     0.13514,     0.13614,     0.13714,     0.13814,     0.13914,     0.14014,     0.14114,     0.14214,     0.14314,\n",
       "           0.14414,     0.14515,     0.14615,     0.14715,     0.14815,     0.14915,     0.15015,     0.15115,     0.15215,     0.15315,     0.15415,     0.15516,     0.15616,     0.15716,     0.15816,     0.15916,     0.16016,     0.16116,     0.16216,     0.16316,     0.16416,     0.16517,     0.16617,     0.16717,\n",
       "           0.16817,     0.16917,     0.17017,     0.17117,     0.17217,     0.17317,     0.17417,     0.17518,     0.17618,     0.17718,     0.17818,     0.17918,     0.18018,     0.18118,     0.18218,     0.18318,     0.18418,     0.18519,     0.18619,     0.18719,     0.18819,     0.18919,     0.19019,     0.19119,\n",
       "           0.19219,     0.19319,     0.19419,      0.1952,      0.1962,      0.1972,      0.1982,      0.1992,      0.2002,      0.2012,      0.2022,      0.2032,      0.2042,     0.20521,     0.20621,     0.20721,     0.20821,     0.20921,     0.21021,     0.21121,     0.21221,     0.21321,     0.21421,     0.21522,\n",
       "           0.21622,     0.21722,     0.21822,     0.21922,     0.22022,     0.22122,     0.22222,     0.22322,     0.22422,     0.22523,     0.22623,     0.22723,     0.22823,     0.22923,     0.23023,     0.23123,     0.23223,     0.23323,     0.23423,     0.23524,     0.23624,     0.23724,     0.23824,     0.23924,\n",
       "           0.24024,     0.24124,     0.24224,     0.24324,     0.24424,     0.24525,     0.24625,     0.24725,     0.24825,     0.24925,     0.25025,     0.25125,     0.25225,     0.25325,     0.25425,     0.25526,     0.25626,     0.25726,     0.25826,     0.25926,     0.26026,     0.26126,     0.26226,     0.26326,\n",
       "           0.26426,     0.26527,     0.26627,     0.26727,     0.26827,     0.26927,     0.27027,     0.27127,     0.27227,     0.27327,     0.27427,     0.27528,     0.27628,     0.27728,     0.27828,     0.27928,     0.28028,     0.28128,     0.28228,     0.28328,     0.28428,     0.28529,     0.28629,     0.28729,\n",
       "           0.28829,     0.28929,     0.29029,     0.29129,     0.29229,     0.29329,     0.29429,      0.2953,      0.2963,      0.2973,      0.2983,      0.2993,      0.3003,      0.3013,      0.3023,      0.3033,      0.3043,     0.30531,     0.30631,     0.30731,     0.30831,     0.30931,     0.31031,     0.31131,\n",
       "           0.31231,     0.31331,     0.31431,     0.31532,     0.31632,     0.31732,     0.31832,     0.31932,     0.32032,     0.32132,     0.32232,     0.32332,     0.32432,     0.32533,     0.32633,     0.32733,     0.32833,     0.32933,     0.33033,     0.33133,     0.33233,     0.33333,     0.33433,     0.33534,\n",
       "           0.33634,     0.33734,     0.33834,     0.33934,     0.34034,     0.34134,     0.34234,     0.34334,     0.34434,     0.34535,     0.34635,     0.34735,     0.34835,     0.34935,     0.35035,     0.35135,     0.35235,     0.35335,     0.35435,     0.35536,     0.35636,     0.35736,     0.35836,     0.35936,\n",
       "           0.36036,     0.36136,     0.36236,     0.36336,     0.36436,     0.36537,     0.36637,     0.36737,     0.36837,     0.36937,     0.37037,     0.37137,     0.37237,     0.37337,     0.37437,     0.37538,     0.37638,     0.37738,     0.37838,     0.37938,     0.38038,     0.38138,     0.38238,     0.38338,\n",
       "           0.38438,     0.38539,     0.38639,     0.38739,     0.38839,     0.38939,     0.39039,     0.39139,     0.39239,     0.39339,     0.39439,      0.3954,      0.3964,      0.3974,      0.3984,      0.3994,      0.4004,      0.4014,      0.4024,      0.4034,      0.4044,     0.40541,     0.40641,     0.40741,\n",
       "           0.40841,     0.40941,     0.41041,     0.41141,     0.41241,     0.41341,     0.41441,     0.41542,     0.41642,     0.41742,     0.41842,     0.41942,     0.42042,     0.42142,     0.42242,     0.42342,     0.42442,     0.42543,     0.42643,     0.42743,     0.42843,     0.42943,     0.43043,     0.43143,\n",
       "           0.43243,     0.43343,     0.43443,     0.43544,     0.43644,     0.43744,     0.43844,     0.43944,     0.44044,     0.44144,     0.44244,     0.44344,     0.44444,     0.44545,     0.44645,     0.44745,     0.44845,     0.44945,     0.45045,     0.45145,     0.45245,     0.45345,     0.45445,     0.45546,\n",
       "           0.45646,     0.45746,     0.45846,     0.45946,     0.46046,     0.46146,     0.46246,     0.46346,     0.46446,     0.46547,     0.46647,     0.46747,     0.46847,     0.46947,     0.47047,     0.47147,     0.47247,     0.47347,     0.47447,     0.47548,     0.47648,     0.47748,     0.47848,     0.47948,\n",
       "           0.48048,     0.48148,     0.48248,     0.48348,     0.48448,     0.48549,     0.48649,     0.48749,     0.48849,     0.48949,     0.49049,     0.49149,     0.49249,     0.49349,     0.49449,      0.4955,      0.4965,      0.4975,      0.4985,      0.4995,      0.5005,      0.5015,      0.5025,      0.5035,\n",
       "            0.5045,     0.50551,     0.50651,     0.50751,     0.50851,     0.50951,     0.51051,     0.51151,     0.51251,     0.51351,     0.51451,     0.51552,     0.51652,     0.51752,     0.51852,     0.51952,     0.52052,     0.52152,     0.52252,     0.52352,     0.52452,     0.52553,     0.52653,     0.52753,\n",
       "           0.52853,     0.52953,     0.53053,     0.53153,     0.53253,     0.53353,     0.53453,     0.53554,     0.53654,     0.53754,     0.53854,     0.53954,     0.54054,     0.54154,     0.54254,     0.54354,     0.54454,     0.54555,     0.54655,     0.54755,     0.54855,     0.54955,     0.55055,     0.55155,\n",
       "           0.55255,     0.55355,     0.55455,     0.55556,     0.55656,     0.55756,     0.55856,     0.55956,     0.56056,     0.56156,     0.56256,     0.56356,     0.56456,     0.56557,     0.56657,     0.56757,     0.56857,     0.56957,     0.57057,     0.57157,     0.57257,     0.57357,     0.57457,     0.57558,\n",
       "           0.57658,     0.57758,     0.57858,     0.57958,     0.58058,     0.58158,     0.58258,     0.58358,     0.58458,     0.58559,     0.58659,     0.58759,     0.58859,     0.58959,     0.59059,     0.59159,     0.59259,     0.59359,     0.59459,      0.5956,      0.5966,      0.5976,      0.5986,      0.5996,\n",
       "            0.6006,      0.6016,      0.6026,      0.6036,      0.6046,     0.60561,     0.60661,     0.60761,     0.60861,     0.60961,     0.61061,     0.61161,     0.61261,     0.61361,     0.61461,     0.61562,     0.61662,     0.61762,     0.61862,     0.61962,     0.62062,     0.62162,     0.62262,     0.62362,\n",
       "           0.62462,     0.62563,     0.62663,     0.62763,     0.62863,     0.62963,     0.63063,     0.63163,     0.63263,     0.63363,     0.63463,     0.63564,     0.63664,     0.63764,     0.63864,     0.63964,     0.64064,     0.64164,     0.64264,     0.64364,     0.64464,     0.64565,     0.64665,     0.64765,\n",
       "           0.64865,     0.64965,     0.65065,     0.65165,     0.65265,     0.65365,     0.65465,     0.65566,     0.65666,     0.65766,     0.65866,     0.65966,     0.66066,     0.66166,     0.66266,     0.66366,     0.66466,     0.66567,     0.66667,     0.66767,     0.66867,     0.66967,     0.67067,     0.67167,\n",
       "           0.67267,     0.67367,     0.67467,     0.67568,     0.67668,     0.67768,     0.67868,     0.67968,     0.68068,     0.68168,     0.68268,     0.68368,     0.68468,     0.68569,     0.68669,     0.68769,     0.68869,     0.68969,     0.69069,     0.69169,     0.69269,     0.69369,     0.69469,      0.6957,\n",
       "            0.6967,      0.6977,      0.6987,      0.6997,      0.7007,      0.7017,      0.7027,      0.7037,      0.7047,     0.70571,     0.70671,     0.70771,     0.70871,     0.70971,     0.71071,     0.71171,     0.71271,     0.71371,     0.71471,     0.71572,     0.71672,     0.71772,     0.71872,     0.71972,\n",
       "           0.72072,     0.72172,     0.72272,     0.72372,     0.72472,     0.72573,     0.72673,     0.72773,     0.72873,     0.72973,     0.73073,     0.73173,     0.73273,     0.73373,     0.73473,     0.73574,     0.73674,     0.73774,     0.73874,     0.73974,     0.74074,     0.74174,     0.74274,     0.74374,\n",
       "           0.74474,     0.74575,     0.74675,     0.74775,     0.74875,     0.74975,     0.75075,     0.75175,     0.75275,     0.75375,     0.75475,     0.75576,     0.75676,     0.75776,     0.75876,     0.75976,     0.76076,     0.76176,     0.76276,     0.76376,     0.76476,     0.76577,     0.76677,     0.76777,\n",
       "           0.76877,     0.76977,     0.77077,     0.77177,     0.77277,     0.77377,     0.77477,     0.77578,     0.77678,     0.77778,     0.77878,     0.77978,     0.78078,     0.78178,     0.78278,     0.78378,     0.78478,     0.78579,     0.78679,     0.78779,     0.78879,     0.78979,     0.79079,     0.79179,\n",
       "           0.79279,     0.79379,     0.79479,      0.7958,      0.7968,      0.7978,      0.7988,      0.7998,      0.8008,      0.8018,      0.8028,      0.8038,      0.8048,     0.80581,     0.80681,     0.80781,     0.80881,     0.80981,     0.81081,     0.81181,     0.81281,     0.81381,     0.81481,     0.81582,\n",
       "           0.81682,     0.81782,     0.81882,     0.81982,     0.82082,     0.82182,     0.82282,     0.82382,     0.82482,     0.82583,     0.82683,     0.82783,     0.82883,     0.82983,     0.83083,     0.83183,     0.83283,     0.83383,     0.83483,     0.83584,     0.83684,     0.83784,     0.83884,     0.83984,\n",
       "           0.84084,     0.84184,     0.84284,     0.84384,     0.84484,     0.84585,     0.84685,     0.84785,     0.84885,     0.84985,     0.85085,     0.85185,     0.85285,     0.85385,     0.85485,     0.85586,     0.85686,     0.85786,     0.85886,     0.85986,     0.86086,     0.86186,     0.86286,     0.86386,\n",
       "           0.86486,     0.86587,     0.86687,     0.86787,     0.86887,     0.86987,     0.87087,     0.87187,     0.87287,     0.87387,     0.87487,     0.87588,     0.87688,     0.87788,     0.87888,     0.87988,     0.88088,     0.88188,     0.88288,     0.88388,     0.88488,     0.88589,     0.88689,     0.88789,\n",
       "           0.88889,     0.88989,     0.89089,     0.89189,     0.89289,     0.89389,     0.89489,      0.8959,      0.8969,      0.8979,      0.8989,      0.8999,      0.9009,      0.9019,      0.9029,      0.9039,      0.9049,     0.90591,     0.90691,     0.90791,     0.90891,     0.90991,     0.91091,     0.91191,\n",
       "           0.91291,     0.91391,     0.91491,     0.91592,     0.91692,     0.91792,     0.91892,     0.91992,     0.92092,     0.92192,     0.92292,     0.92392,     0.92492,     0.92593,     0.92693,     0.92793,     0.92893,     0.92993,     0.93093,     0.93193,     0.93293,     0.93393,     0.93493,     0.93594,\n",
       "           0.93694,     0.93794,     0.93894,     0.93994,     0.94094,     0.94194,     0.94294,     0.94394,     0.94494,     0.94595,     0.94695,     0.94795,     0.94895,     0.94995,     0.95095,     0.95195,     0.95295,     0.95395,     0.95495,     0.95596,     0.95696,     0.95796,     0.95896,     0.95996,\n",
       "           0.96096,     0.96196,     0.96296,     0.96396,     0.96496,     0.96597,     0.96697,     0.96797,     0.96897,     0.96997,     0.97097,     0.97197,     0.97297,     0.97397,     0.97497,     0.97598,     0.97698,     0.97798,     0.97898,     0.97998,     0.98098,     0.98198,     0.98298,     0.98398,\n",
       "           0.98498,     0.98599,     0.98699,     0.98799,     0.98899,     0.98999,     0.99099,     0.99199,     0.99299,     0.99399,     0.99499,       0.996,       0.997,       0.998,       0.999,           1]), array([[    0.99535,     0.99535,     0.99368,       0.992,     0.99126,     0.98977,     0.98884,     0.98865,     0.98791,     0.98679,     0.98568,     0.98531,     0.98475,     0.98419,     0.98363,     0.98289,     0.98233,     0.98158,     0.98065,     0.98047,     0.97991,     0.97917,     0.97879,\n",
       "            0.97861,     0.97768,     0.97712,     0.97693,     0.97675,     0.97619,     0.97619,     0.97526,     0.97507,     0.97433,     0.97392,      0.9734,      0.9734,     0.97321,     0.97304,     0.97284,     0.97247,      0.9721,     0.97135,     0.97098,     0.97024,     0.97016,     0.96949,\n",
       "            0.96894,     0.96894,     0.96856,     0.96801,     0.96801,     0.96782,     0.96745,     0.96745,     0.96726,     0.96726,     0.96726,     0.96708,     0.96708,     0.96708,     0.96689,      0.9667,     0.96652,     0.96615,     0.96615,     0.96615,     0.96615,     0.96615,     0.96596,\n",
       "            0.96577,     0.96577,      0.9654,     0.96504,     0.96484,     0.96484,     0.96466,     0.96466,     0.96466,     0.96466,      0.9641,     0.96391,     0.96391,     0.96391,     0.96391,     0.96378,     0.96373,     0.96354,     0.96336,     0.96336,     0.96298,      0.9628,     0.96224,\n",
       "            0.96205,     0.96168,      0.9615,      0.9615,      0.9615,      0.9615,      0.9615,     0.96131,     0.96131,     0.96112,     0.96112,     0.96112,     0.96094,     0.96081,     0.96075,     0.96038,     0.96038,     0.96038,     0.96019,     0.96019,     0.96019,     0.96019,     0.96019,\n",
       "            0.96019,     0.96019,     0.96019,     0.96013,     0.96001,     0.96001,     0.96001,     0.95983,     0.95955,     0.95945,     0.95926,     0.95926,     0.95926,     0.95889,     0.95889,     0.95871,     0.95833,     0.95815,     0.95796,     0.95778,     0.95778,     0.95778,     0.95778,\n",
       "            0.95778,     0.95778,     0.95778,     0.95778,     0.95778,     0.95778,     0.95741,     0.95722,     0.95703,     0.95685,     0.95647,     0.95647,     0.95647,     0.95621,      0.9561,      0.9561,      0.9561,      0.9561,     0.95592,     0.95592,     0.95592,     0.95592,     0.95577,\n",
       "            0.95536,     0.95536,     0.95517,      0.9551,     0.95495,      0.9548,      0.9548,      0.9548,      0.9548,      0.9548,      0.9548,      0.9548,      0.9548,      0.9548,     0.95454,     0.95443,     0.95443,     0.95424,     0.95424,     0.95424,     0.95424,     0.95424,     0.95406,\n",
       "            0.95406,     0.95406,     0.95406,     0.95406,     0.95392,     0.95368,      0.9535,      0.9535,     0.95312,     0.95312,     0.95312,     0.95312,     0.95275,     0.95275,     0.95275,     0.95257,     0.95257,     0.95257,     0.95257,     0.95257,     0.95257,     0.95257,     0.95257,\n",
       "            0.95219,     0.95219,     0.95219,     0.95216,     0.95201,     0.95201,     0.95201,     0.95195,     0.95182,     0.95164,     0.95145,     0.95108,     0.95108,     0.95108,     0.95108,     0.95089,     0.95089,     0.95071,     0.95052,     0.95033,     0.95033,     0.95033,     0.95015,\n",
       "            0.94996,     0.94988,     0.94978,     0.94954,      0.9494,      0.9494,      0.9494,     0.94922,     0.94922,     0.94888,     0.94885,     0.94885,     0.94885,     0.94885,     0.94851,     0.94847,     0.94847,     0.94829,     0.94829,     0.94829,     0.94829,     0.94829,     0.94829,\n",
       "            0.94829,     0.94829,      0.9481,      0.9481,       0.948,     0.94774,     0.94773,     0.94773,     0.94736,     0.94736,     0.94728,     0.94717,     0.94717,     0.94717,     0.94717,     0.94699,     0.94699,     0.94699,     0.94699,     0.94699,     0.94699,     0.94699,     0.94661,\n",
       "             0.9462,     0.94609,     0.94606,     0.94568,     0.94568,     0.94568,     0.94568,      0.9455,      0.9455,      0.9455,      0.9455,      0.9455,     0.94539,     0.94513,     0.94475,     0.94475,     0.94475,     0.94438,     0.94438,     0.94438,     0.94382,     0.94366,     0.94364,\n",
       "            0.94345,     0.94345,     0.94345,     0.94345,     0.94345,     0.94345,     0.94327,     0.94308,     0.94308,     0.94289,     0.94289,     0.94289,     0.94271,     0.94252,     0.94252,     0.94252,     0.94215,     0.94196,     0.94159,     0.94141,     0.94136,     0.94122,     0.94122,\n",
       "            0.94122,     0.94122,     0.94103,     0.94082,     0.94048,     0.94048,     0.94034,      0.9401,     0.93973,     0.93973,     0.93966,     0.93925,     0.93902,     0.93899,     0.93899,     0.93895,     0.93856,     0.93843,     0.93815,     0.93793,     0.93772,     0.93749,      0.9374,\n",
       "            0.93728,     0.93694,     0.93694,     0.93662,     0.93638,      0.9362,      0.9362,      0.9362,      0.9362,      0.9362,      0.9362,     0.93608,     0.93601,     0.93583,     0.93546,     0.93527,      0.9349,      0.9349,      0.9349,     0.93478,     0.93471,     0.93471,     0.93454,\n",
       "            0.93452,     0.93452,     0.93434,     0.93434,     0.93415,     0.93407,     0.93397,     0.93397,     0.93397,     0.93397,      0.9336,     0.93359,     0.93304,     0.93304,     0.93304,     0.93297,     0.93278,     0.93229,     0.93211,     0.93211,     0.93211,     0.93211,     0.93192,\n",
       "            0.93191,     0.93172,     0.93153,     0.93133,     0.93118,      0.9311,     0.93099,      0.9309,      0.9308,     0.93068,     0.93043,     0.93017,     0.93007,     0.92998,     0.92988,     0.92987,     0.92984,     0.92946,      0.9289,     0.92876,     0.92857,     0.92833,      0.9282,\n",
       "             0.9282,     0.92808,      0.9277,     0.92714,     0.92695,     0.92653,     0.92638,     0.92601,     0.92578,     0.92558,     0.92541,     0.92541,     0.92522,     0.92467,     0.92467,     0.92425,     0.92411,     0.92411,     0.92411,     0.92404,     0.92392,     0.92364,     0.92324,\n",
       "            0.92281,     0.92243,     0.92206,     0.92206,     0.92191,     0.92188,     0.92188,     0.92171,     0.92134,     0.92113,     0.92113,     0.92113,     0.92113,     0.92094,     0.92094,     0.92088,     0.92082,     0.92055,     0.92039,     0.92039,      0.9202,     0.92001,     0.91974,\n",
       "            0.91946,     0.91899,      0.9189,     0.91879,      0.9186,     0.91834,     0.91797,     0.91784,     0.91746,      0.9169,     0.91671,     0.91652,     0.91633,     0.91614,     0.91595,     0.91576,     0.91574,     0.91574,     0.91537,     0.91536,     0.91481,     0.91462,     0.91442,\n",
       "            0.91406,     0.91369,     0.91313,     0.91313,     0.91313,     0.91309,     0.91295,     0.91276,     0.91239,      0.9122,     0.91214,     0.91202,     0.91176,     0.91157,     0.91142,     0.91132,      0.9109,     0.91043,     0.90987,     0.90949,      0.9093,     0.90904,     0.90867,\n",
       "             0.9083,     0.90798,     0.90774,     0.90741,     0.90704,     0.90666,     0.90591,     0.90554,     0.90516,     0.90476,     0.90422,     0.90347,     0.90346,     0.90328,     0.90253,      0.9016,      0.9016,     0.90158,     0.90139,     0.90086,     0.90048,      0.9003,     0.90011,\n",
       "            0.90011,     0.90006,     0.89969,     0.89937,      0.8993,     0.89878,     0.89868,      0.8984,      0.8983,     0.89802,     0.89793,     0.89746,     0.89736,     0.89732,     0.89732,     0.89732,     0.89732,     0.89639,     0.89626,     0.89595,     0.89586,     0.89558,     0.89548,\n",
       "             0.8952,      0.8951,     0.89464,     0.89454,     0.89418,     0.89315,     0.89296,     0.89225,     0.89216,     0.89108,       0.891,     0.88977,     0.88969,     0.88958,     0.88951,     0.88951,     0.88919,     0.88832,     0.88823,     0.88739,     0.88729,     0.88675,     0.88672,\n",
       "             0.8856,      0.8856,     0.88523,     0.88523,     0.88393,     0.88281,     0.88261,      0.8817,      0.8814,     0.88065,     0.88058,     0.88002,     0.88002,     0.87921,     0.87912,     0.87828,     0.87818,     0.87716,     0.87706,     0.87604,     0.87594,     0.87451,     0.87362,\n",
       "            0.87351,     0.87309,       0.873,     0.87123,     0.87113,     0.87085,     0.87076,     0.87029,     0.87019,     0.86905,     0.86735,     0.86726,     0.86698,     0.86688,     0.86567,     0.86557,     0.86477,     0.86477,     0.86379,     0.86366,     0.86263,     0.86254,     0.86198,\n",
       "            0.86124,     0.86085,     0.85993,     0.85993,      0.8595,     0.85941,     0.85857,     0.85847,     0.85763,     0.85754,     0.85704,     0.85544,     0.85534,     0.85428,     0.85409,     0.85268,     0.85268,     0.85138,     0.85119,     0.84979,     0.84914,     0.84905,      0.8484,\n",
       "             0.8484,     0.84661,     0.84642,     0.84517,     0.84508,     0.84403,     0.84298,     0.84289,     0.84165,     0.84139,     0.84032,     0.84023,     0.83883,     0.83873,     0.83656,     0.83515,     0.83505,      0.8324,     0.83072,     0.83063,     0.82848,      0.8281,     0.82699,\n",
       "            0.82686,     0.82608,     0.82608,     0.82394,     0.82268,      0.8223,     0.82008,     0.81996,     0.81744,     0.81734,     0.81632,     0.81357,     0.81348,     0.81132,     0.80914,      0.8084,     0.80598,     0.80585,     0.80388,     0.80379,     0.80125,     0.80075,     0.80063,\n",
       "            0.79785,     0.79766,     0.79473,     0.79291,     0.79234,     0.78999,     0.78982,     0.78746,     0.78437,     0.78427,     0.78267,      0.7805,     0.78037,     0.77723,     0.77686,     0.77471,     0.77248,     0.77225,     0.77014,     0.76995,     0.76683,      0.7639,     0.76346,\n",
       "            0.76127,     0.76117,     0.75874,     0.75478,     0.75466,     0.75187,     0.74865,     0.74856,     0.74497,     0.74291,       0.742,     0.73965,     0.73602,      0.7358,     0.73369,     0.72931,     0.72875,     0.72572,     0.72548,     0.72185,     0.71871,     0.71858,     0.71492,\n",
       "            0.71144,     0.71132,     0.70722,     0.70368,     0.69996,     0.69976,     0.69638,     0.69628,      0.6912,     0.68763,     0.68738,     0.68133,     0.67737,     0.67713,     0.67331,     0.66767,     0.66633,     0.66121,     0.65741,      0.6572,     0.65293,     0.64919,     0.64314,\n",
       "             0.6423,     0.63801,     0.63271,     0.62629,     0.62552,     0.62219,     0.61713,      0.6165,     0.61064,     0.60576,     0.60115,     0.60072,     0.59769,     0.59443,     0.59381,     0.59015,     0.58635,     0.58595,     0.58205,     0.57757,     0.57236,     0.56752,     0.56612,\n",
       "            0.56247,     0.55848,     0.55502,     0.55438,     0.55146,     0.54749,     0.54382,     0.54357,      0.5384,     0.53389,     0.53001,     0.52923,     0.52423,      0.5216,     0.51547,     0.51033,     0.50875,     0.50437,     0.49981,     0.49478,     0.49067,      0.4862,     0.48538,\n",
       "            0.47948,     0.47448,      0.4711,     0.46662,     0.46564,     0.45991,     0.45512,     0.45133,     0.44797,     0.44227,     0.44145,     0.43772,     0.43314,     0.42988,     0.42597,     0.41871,     0.41479,      0.4105,     0.40361,     0.40297,     0.39745,     0.39317,     0.38575,\n",
       "            0.38199,     0.37547,     0.37062,     0.36522,     0.36294,     0.35739,     0.35198,     0.34621,      0.3408,     0.33418,     0.33241,     0.32534,     0.31789,     0.31062,      0.3041,     0.30056,     0.29292,     0.28439,     0.28212,     0.27522,     0.26926,     0.26107,     0.25325,\n",
       "             0.2471,     0.24058,     0.23592,     0.23275,     0.22716,     0.22231,     0.21747,     0.21281,     0.20833,     0.19902,     0.19474,     0.19157,     0.18709,     0.18262,     0.17907,     0.17497,      0.1718,     0.16807,     0.16564,     0.16247,     0.15781,     0.15167,     0.14794,\n",
       "            0.14383,     0.14011,     0.13656,     0.13246,     0.12817,     0.12426,     0.12071,     0.11661,       0.114,     0.11139,     0.10654,     0.10355,    0.098708,    0.096095,    0.091807,    0.088078,     0.08286,      0.0782,    0.075587,    0.070741,    0.067942,    0.064956,    0.059925,\n",
       "           0.056381,    0.053954,    0.050782,    0.046495,    0.041835,    0.038291,     0.03512,    0.032878,    0.030451,    0.029326,    0.028014,    0.026145,    0.024135,    0.023336,    0.021095,    0.020155,    0.018472,    0.018067,    0.016035,     0.01491,    0.013784,    0.012845,    0.011812,\n",
       "           0.011152,    0.010213,   0.0096454,   0.0093754,   0.0087273,   0.0086002,   0.0079341,   0.0069947,   0.0058693,   0.0048831,   0.0036694,   0.0034233,   0.0026699,   0.0021025,   0.0018837,   0.0011539,  0.00089855,  0.00082229,  0.00074602,  0.00031896,  0.00026448,     0.00021,           0,\n",
       "                  0,           0,           0,           0,           0,           0,           0,           0,           0,           0,           0,           0,           0,           0,           0,           0,           0,           0,           0,           0,           0,           0,           0,\n",
       "                  0,           0,           0,           0,           0,           0,           0,           0,           0,           0,           0,           0,           0,           0,           0,           0,           0,           0,           0,           0,           0,           0,           0,\n",
       "                  0,           0,           0,           0,           0,           0,           0,           0,           0,           0,           0]]), 'Confidence', 'Recall']]\n",
       "fitness: np.float64(0.6864909864133512)\n",
       "keys: ['metrics/precision(B)', 'metrics/recall(B)', 'metrics/mAP50(B)', 'metrics/mAP50-95(B)']\n",
       "maps: array([    0.65474])\n",
       "names: {0: 'cow'}\n",
       "nt_per_class: array([5376])\n",
       "nt_per_image: array([504])\n",
       "results_dict: {'metrics/precision(B)': np.float64(0.9441687627231439), 'metrics/recall(B)': np.float64(0.9203869047619048), 'metrics/mAP50(B)': np.float64(0.9722268238166016), 'metrics/mAP50-95(B)': np.float64(0.6547425600352121), 'fitness': np.float64(0.6864909864133512)}\n",
       "save_dir: WindowsPath('runs/detect/yolov8_training')\n",
       "speed: {'preprocess': 0.18778650787897364, 'inference': 1.7334444445233592, 'loss': 0.00047936497601710023, 'postprocess': 2.0483571427734755}\n",
       "stats: {'tp': [], 'conf': [], 'pred_cls': [], 'target_cls': [], 'target_img': []}\n",
       "task: 'detect'"
      ]
     },
     "execution_count": 1,
     "metadata": {},
     "output_type": "execute_result"
    }
   ],
   "source": [
    "from ultralytics import YOLO\n",
    "\n",
    "model = YOLO(\"yolov8n.pt\")\n",
    "\n",
    "model.train(\n",
    "    data=\"data.yaml\",\n",
    "    imgsz=640,\n",
    "    epochs=200,\n",
    "    batch=16,\n",
    "    name=\"yolov8_training\",\n",
    "    device=0,\n",
    "    patience=20,\n",
    "    save_period=1   \n",
    ")\n"
   ]
  },
  {
   "cell_type": "code",
   "execution_count": null,
   "id": "784a246a-f244-4eb9-b006-fb57dbe423f1",
   "metadata": {},
   "outputs": [],
   "source": []
  }
 ],
 "metadata": {
  "kernelspec": {
   "display_name": "Python [conda env:yolov8]",
   "language": "python",
   "name": "conda-env-yolov8-py"
  },
  "language_info": {
   "codemirror_mode": {
    "name": "ipython",
    "version": 3
   },
   "file_extension": ".py",
   "mimetype": "text/x-python",
   "name": "python",
   "nbconvert_exporter": "python",
   "pygments_lexer": "ipython3",
   "version": "3.10.18"
  }
 },
 "nbformat": 4,
 "nbformat_minor": 5
}
