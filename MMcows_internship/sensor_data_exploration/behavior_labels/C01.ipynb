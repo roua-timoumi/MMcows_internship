{
 "cells": [
  {
   "cell_type": "markdown",
   "id": "62567bde-3ca3-415d-89c4-e79bf7934804",
   "metadata": {},
   "source": [
    "**Dataset columns**"
   ]
  },
  {
   "cell_type": "code",
   "execution_count": 1,
   "id": "b62b34ea-7a32-4318-ac0a-4a8f2a724336",
   "metadata": {},
   "outputs": [
    {
     "name": "stdout",
     "output_type": "stream",
     "text": [
      "Index(['timestamp', 'datetime', 'behavior'], dtype='object')\n"
     ]
    }
   ],
   "source": [
    "import pandas as pd \n",
    "import matplotlib.pyplot as plt\n",
    "df = pd.read_csv(\"C:/Users/rouat/Desktop/MMcows/Datasets/sensor_data/sensor_data/behavior_labels/individual/C01_0725.csv\")\n",
    "print (df.columns)"
   ]
  },
  {
   "cell_type": "markdown",
   "id": "04036d3a-12df-404d-a1bf-d5792bec97c4",
   "metadata": {},
   "source": [
    "**Display first rows**"
   ]
  },
  {
   "cell_type": "code",
   "execution_count": 4,
   "id": "1463c710-a96d-4634-8a67-fe725c0a2297",
   "metadata": {},
   "outputs": [
    {
     "name": "stdout",
     "output_type": "stream",
     "text": [
      "    timestamp datetime  behavior\n",
      "0  1690261200  0:00:00         0\n",
      "1  1690261201  0:00:01         0\n",
      "2  1690261202  0:00:02         0\n",
      "3  1690261203  0:00:03         0\n",
      "4  1690261204  0:00:04         0\n"
     ]
    }
   ],
   "source": [
    "print(df.head())"
   ]
  },
  {
   "cell_type": "markdown",
   "id": "fe1457cd-ed02-41e4-98e3-29ca35aa3b63",
   "metadata": {},
   "source": [
    "**Dataset shape**"
   ]
  },
  {
   "cell_type": "code",
   "execution_count": 7,
   "id": "07c2bee4-08e3-414f-ba45-7818372601b4",
   "metadata": {},
   "outputs": [
    {
     "name": "stdout",
     "output_type": "stream",
     "text": [
      "(86400, 3)\n"
     ]
    }
   ],
   "source": [
    "print(df.shape)"
   ]
  },
  {
   "cell_type": "markdown",
   "id": "df8a6086-654d-4e9a-8a52-ccdcba7a8b40",
   "metadata": {},
   "source": [
    "**Unique counts by column**"
   ]
  },
  {
   "cell_type": "code",
   "execution_count": 10,
   "id": "42a97553-4256-4ed3-ab69-e1511b9e4208",
   "metadata": {},
   "outputs": [
    {
     "name": "stdout",
     "output_type": "stream",
     "text": [
      "timestamp    86400\n",
      "datetime     86400\n",
      "behavior         7\n",
      "dtype: int64\n"
     ]
    }
   ],
   "source": [
    "print (df.nunique())"
   ]
  },
  {
   "cell_type": "markdown",
   "id": "d0db449c-9aa3-40c3-95b0-b8cbec46d502",
   "metadata": {},
   "source": [
    "**Columns types**"
   ]
  },
  {
   "cell_type": "code",
   "execution_count": 13,
   "id": "d41a4efe-08a9-4082-aec8-032baa0d90f3",
   "metadata": {},
   "outputs": [
    {
     "name": "stdout",
     "output_type": "stream",
     "text": [
      "timestamp     int64\n",
      "datetime     object\n",
      "behavior      int64\n",
      "dtype: object\n"
     ]
    }
   ],
   "source": [
    "print (df.dtypes)"
   ]
  },
  {
   "cell_type": "markdown",
   "id": "a6f57ecb-ac88-4988-8d72-8604117631f3",
   "metadata": {},
   "source": [
    "**Check for missing values**"
   ]
  },
  {
   "cell_type": "code",
   "execution_count": 16,
   "id": "28b33fc0-c1c8-4710-9807-f3a68e987e12",
   "metadata": {},
   "outputs": [
    {
     "name": "stdout",
     "output_type": "stream",
     "text": [
      "timestamp    0\n",
      "datetime     0\n",
      "behavior     0\n",
      "dtype: int64\n"
     ]
    }
   ],
   "source": [
    "print(df.isnull().sum())"
   ]
  },
  {
   "cell_type": "markdown",
   "id": "8187fba4-617f-4e30-a80d-81c989c217da",
   "metadata": {},
   "source": [
    "**Unique values in behavior column**"
   ]
  },
  {
   "cell_type": "code",
   "execution_count": 19,
   "id": "4e63425d-bf30-486b-8cab-1738a27b03e7",
   "metadata": {},
   "outputs": [
    {
     "name": "stdout",
     "output_type": "stream",
     "text": [
      "Unique values in the 'behavior' column:\n",
      "[0 4 3 1 2 6 7]\n"
     ]
    }
   ],
   "source": [
    "print ( \"Unique values in the 'behavior' column:\")\n",
    "print(df['behavior'].unique())\n"
   ]
  },
  {
   "cell_type": "markdown",
   "id": "ea51bee6-dd0b-4fc5-aed1-13f5debd4d11",
   "metadata": {},
   "source": [
    "**Meaning of each behavior**\n",
    " 0 - unknown\n",
    " 1 - Walking\n",
    " 2 - Standing\n",
    " 3 - Feeding head up\n",
    " 4 - Feeding head down\n",
    " 5 - Licking\n",
    " 6 - Drinking\n",
    " 7 - Lying\n"
   ]
  },
  {
   "cell_type": "markdown",
   "id": "afdc6c93-d249-4c1d-8e31-65a8324bfab0",
   "metadata": {},
   "source": [
    "**Frequency and percentage of behavior categories**"
   ]
  },
  {
   "cell_type": "code",
   "execution_count": 23,
   "id": "bd1b6f5f-ee10-4fcf-aeff-d97e2379887e",
   "metadata": {},
   "outputs": [
    {
     "name": "stdout",
     "output_type": "stream",
     "text": [
      "\n",
      "Number of occurrences:\n",
      "behavior\n",
      "7    44679\n",
      "2    15237\n",
      "0    15028\n",
      "4     6367\n",
      "3     3094\n",
      "1     1012\n",
      "6      983\n",
      "Name: count, dtype: int64\n",
      "\n",
      "Percentage of each value:\n",
      "behavior\n",
      "7    51.711806\n",
      "2    17.635417\n",
      "0    17.393519\n",
      "4     7.369213\n",
      "3     3.581019\n",
      "1     1.171296\n",
      "6     1.137731\n",
      "Name: proportion, dtype: float64\n"
     ]
    }
   ],
   "source": [
    "# Count the number of occurrences of each unique value\n",
    "counts = df['behavior'].value_counts()\n",
    "\n",
    "# Calculate the percentage of each unique value\n",
    "percentages = df['behavior'].value_counts(normalize=True) * 100\n",
    "\n",
    "# Display the counts\n",
    "print(\"\\nNumber of occurrences:\")\n",
    "print(counts)\n",
    "\n",
    "# Display the percentages\n",
    "print(\"\\nPercentage of each value:\")\n",
    "print(percentages)"
   ]
  },
  {
   "cell_type": "markdown",
   "id": "6b917bb0-f304-41c5-90ae-678f75095a0c",
   "metadata": {},
   "source": [
    "**Bar plot of behavior percentages**"
   ]
  },
  {
   "cell_type": "code",
   "execution_count": 20,
   "id": "eb3bda4f-4697-4008-b04d-0b3f13d8de95",
   "metadata": {},
   "outputs": [
    {
     "data": {
      "image/png": "[encoded data removed]",
      "text/plain": [
       "<Figure size 800x600 with 1 Axes>"
      ]
     },
     "metadata": {},
     "output_type": "display_data"
    }
   ],
   "source": [
    "plt.figure(figsize=(8,6))\n",
    "percentages.plot(kind='bar',color='pink')\n",
    "\n",
    "plt.xlabel('Behavior')\n",
    "plt.ylabel('Percentage (%)')\n",
    "plt.title('Distribution of Behaviors')\n",
    "\n",
    "for idx, value in enumerate(percentages):\n",
    "    plt.text(idx, value + 0.5, f\"{value:.1f}%\", ha='center')\n",
    "\n",
    "plt.tight_layout()  \n",
    "plt.show()"
   ]
  },
  {
   "cell_type": "markdown",
   "id": "bb2dcd25-6c69-498d-b724-e3608876ef45",
   "metadata": {},
   "source": [
    "**Number of duplicates**"
   ]
  },
  {
   "cell_type": "code",
   "execution_count": 26,
   "id": "92efc92f-77c9-4497-abf7-351ea50d81e1",
   "metadata": {},
   "outputs": [
    {
     "name": "stdout",
     "output_type": "stream",
     "text": [
      "Number of duplicates : 0\n"
     ]
    }
   ],
   "source": [
    "print (\"Number of duplicates :\",df.duplicated().sum())\n"
   ]
  },
  {
   "cell_type": "markdown",
   "id": "cd088825-1ae4-42e4-a807-43aad64b21ad",
   "metadata": {},
   "source": [
    "**Show timestamp and datetime range**"
   ]
  },
  {
   "cell_type": "code",
   "execution_count": null,
   "id": "f75647c9-fe21-4ca6-9823-959bc2fab12e",
   "metadata": {},
   "outputs": [
    {
     "name": "stdout",
     "output_type": "stream",
     "text": [
      "Timestamp range: 1690261200 to 1690347599\n",
      "2023-07-25 05:00:00 to 2023-07-26 04:59:59\n"
     ]
    }
   ],
   "source": [
    "\n",
    "print(\"Timestamp range:\", df['timestamp'].min(), \"to\", df['timestamp'].max())\n",
    "df['datetime_readable'] = pd.to_datetime(df['timestamp'], unit='s')\n",
    "\n",
    "print( df['datetime_readable'].min(), \"to\", df['datetime_readable'].max())"
   ]
  },
  {
   "cell_type": "code",
   "execution_count": 50,
   "id": "ab558295-5ca2-40ca-9f2a-48c5fc46c83e",
   "metadata": {},
   "outputs": [
    {
     "name": "stdout",
     "output_type": "stream",
     "text": [
      "Datetime range from 00:00:00 to 23:59:59\n"
     ]
    }
   ],
   "source": [
    "df['datetime_converted'] = pd.to_timedelta(df['datetime'])\n",
    "\n",
    "min_time = str(df['datetime_converted'].min()).split()[-1]\n",
    "max_time = str(df['datetime_converted'].max()).split()[-1]\n",
    "\n",
    "print(\"Datetime range from\", min_time, \"to\", max_time)\n"
   ]
  },
  {
   "cell_type": "code",
   "execution_count": null,
   "id": "2169635f-8295-44f5-8124-5a4bc95da3ab",
   "metadata": {},
   "outputs": [
    {
     "name": "stdout",
     "output_type": "stream",
     "text": [
      "    timestamp datetime  behavior   datetime_readable\n",
      "0  1690261200  0:00:00         0 2023-07-25 05:00:00\n",
      "1  1690261201  0:00:01         0 2023-07-25 05:00:01\n",
      "2  1690261202  0:00:02         0 2023-07-25 05:00:02\n",
      "3  1690261203  0:00:03         0 2023-07-25 05:00:03\n",
      "4  1690261204  0:00:04         0 2023-07-25 05:00:04\n"
     ]
    }
   ],
   "source": [
    "df['datetime_readable'] = pd.to_datetime(df['timestamp'], unit='s')\n",
    "\n",
    "print(df.head())"
   ]
  },
  {
   "cell_type": "markdown",
   "id": "365b3bf7-3494-4af8-81f4-3def7eedab60",
   "metadata": {},
   "source": [
    "**Detect gaps in timestamps**"
   ]
  },
  {
   "cell_type": "code",
   "execution_count": null,
   "id": "e3ca1ad6-2113-405a-84b5-c0a52fa44784",
   "metadata": {},
   "outputs": [
    {
     "name": "stdout",
     "output_type": "stream",
     "text": [
      "No gaps found, all timestamps are continuous.\n"
     ]
    }
   ],
   "source": [
    "df['datetime_readable'] = pd.to_datetime(df['timestamp'], unit='s')\n",
    "\n",
    "df['time_diff_next'] = df['timestamp'].shift(-1) - df['timestamp']\n",
    "\n",
    "# Find where the difference is > 1\n",
    "gaps = df[df['time_diff_next'] > 1]\n",
    "\n",
    "if not gaps.empty:\n",
    "    print(\"Found gaps between these rows:\\n\")\n",
    "    for idx, row in gaps.iterrows():\n",
    "        next_idx = idx + 1\n",
    "        if next_idx in df.index:\n",
    "            print(f\"- Gap of {int(row['time_diff_next'])} seconds\")\n",
    "            print(f\"  Current row: timestamp {row['timestamp']} ({row['datetime_readable']})\")\n",
    "            print(f\"  Next row:    timestamp {df.loc[next_idx, 'timestamp']} ({df.loc[next_idx, 'datetime_readable']})\\n\")\n",
    "else:\n",
    "    print(\"No gaps found, all timestamps are continuous.\")"
   ]
  },
  {
   "cell_type": "code",
   "execution_count": null,
   "id": "17eab2a3-92ca-47e8-a005-a5bc21e1e6da",
   "metadata": {},
   "outputs": [],
   "source": []
  }
 ],
 "metadata": {
  "kernelspec": {
   "display_name": "Python 3",
   "language": "python",
   "name": "python3"
  },
  "language_info": {
   "codemirror_mode": {
    "name": "ipython",
    "version": 3
   },
   "file_extension": ".py",
   "mimetype": "text/x-python",
   "name": "python",
   "nbconvert_exporter": "python",
   "pygments_lexer": "ipython3",
   "version": "3.8.0"
  }
 },
 "nbformat": 4,
 "nbformat_minor": 5
}
