{
 "cells": [
  {
   "cell_type": "code",
   "execution_count": 1,
   "id": "f6f93c50-9951-4b58-b2c0-38b6dc808dfe",
   "metadata": {},
   "outputs": [
    {
     "name": "stdout",
     "output_type": "stream",
     "text": [
      "\n",
      "=== Résultats d'évaluation du tracking ===\n",
      "MOTA            : 75.51%\n",
      "MOTP            : 79.66%\n",
      "IDF1            : 30.89%\n",
      "Précision       : 95.12%\n",
      "Rappel          : 81.94%\n",
      "ID Switches     : 257\n",
      "Faux positifs   : 487\n",
      "Misses          : 2091\n",
      "Fragmentations  : 327\n"
     ]
    }
   ],
   "source": [
    "import pandas as pd\n",
    "import motmetrics as mm\n",
    "\n",
    "gt_file = r\"C:\\Users\\rouat\\Desktop\\final\\mot\\test\\gt\\gt.txt\"\n",
    "res_file = r\"C:\\Users\\rouat\\Desktop\\final\\end_to_end_pipeline\\tracking_results\\tracking_results_yolo.txt\"\n",
    "\n",
    "def load_data_to_dict(file_path, is_gt=False):\n",
    "    df = pd.read_csv(file_path, header=None)\n",
    "    \n",
    "    if is_gt:\n",
    "        df.columns = ['frame','id','x','y','w','h','conf','cls','vis']\n",
    "        df = df[df['conf'] == 1]   \n",
    "    else:\n",
    "        df.columns = ['frame','id','x','y','w','h','conf','cls']\n",
    "    \n",
    "    data_dict = {}\n",
    "    for _, row in df.iterrows():\n",
    "        frame_id = int(row['frame'])\n",
    "        obj_id = int(row['id'])\n",
    "        bbox = (row['x'], row['y'], row['w'], row['h'])\n",
    "        data_dict.setdefault(frame_id, []).append((obj_id, bbox))\n",
    "    return data_dict\n",
    "\n",
    "gt_data = load_data_to_dict(gt_file, is_gt=True)\n",
    "res_data = load_data_to_dict(res_file, is_gt=False)\n",
    "\n",
    "acc = mm.MOTAccumulator(auto_id=True)\n",
    "\n",
    "all_frames = sorted(set(gt_data.keys()) | set(res_data.keys()))\n",
    "for frame in all_frames:\n",
    "    gt_objs = gt_data.get(frame, [])\n",
    "    res_objs = res_data.get(frame, [])\n",
    "\n",
    "    gt_ids, gt_boxes = zip(*gt_objs) if gt_objs else ([], [])\n",
    "    res_ids, res_boxes = zip(*res_objs) if res_objs else ([], [])\n",
    "\n",
    "    if gt_boxes and res_boxes:\n",
    "        iou_matrix = mm.distances.iou_matrix(gt_boxes, res_boxes, max_iou=0.5)\n",
    "        distances = 1 - iou_matrix\n",
    "    else:\n",
    "        distances = []\n",
    "\n",
    "    acc.update(gt_ids, res_ids, distances)\n",
    "\n",
    "mh = mm.metrics.create()\n",
    "metrics = ['mota', 'motp', 'idf1', 'precision', 'recall',\n",
    "           'num_switches', 'num_false_positives', 'num_misses', 'num_fragmentations']\n",
    "summary = mh.compute(acc, metrics=metrics, name='eval')\n",
    "results = summary.loc['eval']\n",
    "\n",
    "# Résultats lisibles\n",
    "print(\"\\n=== Résultats d'évaluation du tracking ===\")\n",
    "print(f\"MOTA            : {results['mota']:.2%}\")\n",
    "print(f\"MOTP            : {results['motp']:.2%}\")\n",
    "print(f\"IDF1            : {results['idf1']:.2%}\")\n",
    "print(f\"Précision       : {results['precision']:.2%}\")\n",
    "print(f\"Rappel          : {results['recall']:.2%}\")\n",
    "print(f\"ID Switches     : {int(results['num_switches'])}\")\n",
    "print(f\"Faux positifs   : {int(results['num_false_positives'])}\")\n",
    "print(f\"Misses          : {int(results['num_misses'])}\")\n",
    "print(f\"Fragmentations  : {int(results['num_fragmentations'])}\")\n"
   ]
  },
  {
   "cell_type": "code",
   "execution_count": null,
   "id": "c85ae060-c0a4-415b-9050-8d4dc75abbdb",
   "metadata": {},
   "outputs": [],
   "source": []
  }
 ],
 "metadata": {
  "kernelspec": {
   "display_name": "Python [conda env:base] *",
   "language": "python",
   "name": "conda-base-py"
  },
  "language_info": {
   "codemirror_mode": {
    "name": "ipython",
    "version": 3
   },
   "file_extension": ".py",
   "mimetype": "text/x-python",
   "name": "python",
   "nbconvert_exporter": "python",
   "pygments_lexer": "ipython3",
   "version": "3.12.7"
  }
 },
 "nbformat": 4,
 "nbformat_minor": 5
}
