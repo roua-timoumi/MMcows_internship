{
 "cells": [
  {
   "cell_type": "code",
   "execution_count": 7,
   "id": "a3466996-37f7-4b6f-ab6a-2f99b57dd745",
   "metadata": {},
   "outputs": [
    {
     "name": "stdout",
     "output_type": "stream",
     "text": [
      "   frame_id  object_id  behavior\n",
      "0         1         16       3.0\n",
      "1         1         11       3.0\n",
      "2         1          6       4.0\n",
      "3         1         13       4.0\n",
      "4         1          9       2.0\n"
     ]
    }
   ],
   "source": [
    "import pandas as pd\n",
    "\n",
    "annotations_file = r\"C:\\Users\\rouat\\Desktop\\final\\test\\annotations_test_with_behavior.txt\"\n",
    "annotations = pd.read_csv(annotations_file, sep=' ')\n",
    "\n",
    "# Créer le mapping timestamp → frame_id\n",
    "timestamps = sorted(annotations['timestamp'].unique())\n",
    "timestamp_to_frame = {ts: i+1 for i, ts in enumerate(timestamps)}  \n",
    "\n",
    "# Créer un nouveau DataFrame avec frame_id à la place de timestamp\n",
    "df_renamed = annotations.copy()\n",
    "df_renamed['frame_id'] = df_renamed['timestamp'].map(timestamp_to_frame)\n",
    "\n",
    "df_renamed = df_renamed[['frame_id', 'object_id', 'behavior']]\n",
    "\n",
    "print(df_renamed.head())\n"
   ]
  },
  {
   "cell_type": "code",
   "execution_count": 9,
   "id": "e343f797-ddfe-497d-8fd3-9f12b1bc10a4",
   "metadata": {},
   "outputs": [
    {
     "name": "stdout",
     "output_type": "stream",
     "text": [
      "Fichier GT avec behavior créé : C:\\Users\\rouat\\Desktop\\final\\mot\\test\\gt_with_behavior.txt\n"
     ]
    }
   ],
   "source": [
    "import pandas as pd\n",
    "\n",
    "gt_file = r\"C:\\Users\\rouat\\Desktop\\final\\mot\\test\\gt\\gt.txt\"\n",
    "\n",
    "output_file = r\"C:\\Users\\rouat\\Desktop\\final\\mot\\test\\gt_with_behavior.txt\"\n",
    "\n",
    "gt = pd.read_csv(gt_file, sep=\",\", header=None)\n",
    "gt.columns = [\"frame\", \"object_id\", \"x\", \"y\", \"w\", \"h\", \"conf\", \"class\", \"visibility\"]\n",
    "\n",
    "gt_with_behavior = gt.merge(df_renamed, left_on=['frame', 'object_id'],\n",
    "                            right_on=['frame_id', 'object_id'], how='left')\n",
    "\n",
    "gt_with_behavior['behavior'] = gt_with_behavior['behavior'].fillna(-1).astype(int)\n",
    "\n",
    "gt_with_behavior = gt_with_behavior.drop(columns=['frame_id'])\n",
    "\n",
    "gt_with_behavior.to_csv(output_file, index=False, header=False)\n",
    "print(f\"Fichier GT avec behavior créé : {output_file}\")\n"
   ]
  },
  {
   "cell_type": "code",
   "execution_count": 11,
   "id": "becdba18-a356-4438-be16-f252f5f7fabb",
   "metadata": {},
   "outputs": [
    {
     "name": "stdout",
     "output_type": "stream",
     "text": [
      "Nombre d'exemples avec behavior = -1 : 0\n"
     ]
    }
   ],
   "source": [
    "import pandas as pd\n",
    "\n",
    "output_file = r\"C:\\Users\\rouat\\Desktop\\final\\mot\\test\\gt_with_behavior.txt\"\n",
    "\n",
    "df = pd.read_csv(output_file, header=None)\n",
    "\n",
    "df.columns = [\"frame\", \"object_id\", \"x\", \"y\", \"w\", \"h\", \"conf\", \"class\", \"visibility\", \"behavior\"]\n",
    "\n",
    "num_missing_behavior = (df['behavior'] == -1).sum()\n",
    "\n",
    "print(f\"Nombre d'exemples avec behavior = -1 : {num_missing_behavior}\")\n"
   ]
  },
  {
   "cell_type": "code",
   "execution_count": null,
   "id": "048a7edc-64c2-4ebd-b057-896eb2d45c28",
   "metadata": {},
   "outputs": [],
   "source": []
  }
 ],
 "metadata": {
  "kernelspec": {
   "display_name": "Python [conda env:base] *",
   "language": "python",
   "name": "conda-base-py"
  },
  "language_info": {
   "codemirror_mode": {
    "name": "ipython",
    "version": 3
   },
   "file_extension": ".py",
   "mimetype": "text/x-python",
   "name": "python",
   "nbconvert_exporter": "python",
   "pygments_lexer": "ipython3",
   "version": "3.12.7"
  }
 },
 "nbformat": 4,
 "nbformat_minor": 5
}
