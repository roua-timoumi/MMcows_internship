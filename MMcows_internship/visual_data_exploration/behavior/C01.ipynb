{
 "cells": [
  {
   "cell_type": "code",
   "execution_count": 3,
   "id": "993a5e15-f9d4-42f2-856c-e6a5b1893690",
   "metadata": {},
   "outputs": [
    {
     "name": "stdout",
     "output_type": "stream",
     "text": [
      "Index(['timestamp', 'datetime', 'behavior'], dtype='object')\n"
     ]
    }
   ],
   "source": [
    "import pandas as pd \n",
    "import matplotlib.pyplot as plt\n",
    "df = pd.read_csv(\"C:/Users/rouat/Desktop/MMcows/Datasets/sensor_data/sensor_data/behavior_labels/individual/C01_0725.csv\")\n",
    "print (df.columns)"
   ]
  },
  {
   "cell_type": "code",
   "execution_count": 5,
   "id": "71c5e01b-4713-4e6b-9234-2e8698ac29c4",
   "metadata": {},
   "outputs": [
    {
     "name": "stdout",
     "output_type": "stream",
     "text": [
      "(86400, 3)\n"
     ]
    }
   ],
   "source": [
    "print(df.shape)"
   ]
  },
  {
   "cell_type": "code",
   "execution_count": 7,
   "id": "b67abae7-473b-4e72-80d4-38f51e417bd2",
   "metadata": {},
   "outputs": [
    {
     "name": "stdout",
     "output_type": "stream",
     "text": [
      "timestamp    86400\n",
      "datetime     86400\n",
      "behavior         7\n",
      "dtype: int64\n"
     ]
    }
   ],
   "source": [
    "print (df.nunique())"
   ]
  },
  {
   "cell_type": "code",
   "execution_count": 9,
   "id": "5d954890-adb9-493b-80c4-a5fa6f56ac22",
   "metadata": {},
   "outputs": [
    {
     "name": "stdout",
     "output_type": "stream",
     "text": [
      "timestamp    0\n",
      "datetime     0\n",
      "behavior     0\n",
      "dtype: int64\n"
     ]
    }
   ],
   "source": [
    "print(df.isnull().sum())"
   ]
  },
  {
   "cell_type": "code",
   "execution_count": 11,
   "id": "554964cc-3775-41e7-b7ed-0f170bc7da36",
   "metadata": {},
   "outputs": [
    {
     "name": "stdout",
     "output_type": "stream",
     "text": [
      "Unique values in the 'behavior' column:\n",
      "[0 4 3 1 2 6 7]\n"
     ]
    }
   ],
   "source": [
    "print ( \"Unique values in the 'behavior' column:\")\n",
    "print(df['behavior'].unique())\n"
   ]
  },
  {
   "cell_type": "code",
   "execution_count": 13,
   "id": "a607f600-dcda-432f-a2ff-a7d003846896",
   "metadata": {},
   "outputs": [
    {
     "name": "stdout",
     "output_type": "stream",
     "text": [
      "\n",
      "Number of occurrences:\n",
      "behavior\n",
      "7    44679\n",
      "2    15237\n",
      "0    15028\n",
      "4     6367\n",
      "3     3094\n",
      "1     1012\n",
      "6      983\n",
      "Name: count, dtype: int64\n",
      "\n",
      "Percentage of each value:\n",
      "behavior\n",
      "7    51.711806\n",
      "2    17.635417\n",
      "0    17.393519\n",
      "4     7.369213\n",
      "3     3.581019\n",
      "1     1.171296\n",
      "6     1.137731\n",
      "Name: proportion, dtype: float64\n"
     ]
    }
   ],
   "source": [
    "# Count the number of occurrences of each unique value\n",
    "counts = df['behavior'].value_counts()\n",
    "\n",
    "# Calculate the percentage of each unique value\n",
    "percentages = df['behavior'].value_counts(normalize=True) * 100\n",
    "\n",
    "# Display the counts\n",
    "print(\"\\nNumber of occurrences:\")\n",
    "print(counts)\n",
    "\n",
    "# Display the percentages\n",
    "print(\"\\nPercentage of each value:\")\n",
    "print(percentages)"
   ]
  },
  {
   "cell_type": "code",
   "execution_count": 15,
   "id": "52136a6e-7b64-4149-895d-d3bd24ae1610",
   "metadata": {},
   "outputs": [
    {
     "name": "stdout",
     "output_type": "stream",
     "text": [
      "Timestamp range: 1690261200 to 1690347599\n",
      "2023-07-25 05:00:00 to 2023-07-26 04:59:59\n"
     ]
    }
   ],
   "source": [
    "# Pour le timestamp\n",
    "print(\"Timestamp range:\", df['timestamp'].min(), \"to\", df['timestamp'].max())\n",
    "# Conversion du timestamp en datetime lisible\n",
    "df['datetime_readable'] = pd.to_datetime(df['timestamp'], unit='s')\n",
    "\n",
    "# Affichage du temps min et max\n",
    "print( df['datetime_readable'].min(), \"to\", df['datetime_readable'].max())"
   ]
  },
  {
   "cell_type": "code",
   "execution_count": 17,
   "id": "8b49985e-20c5-4bee-b917-20e0f4ab15a2",
   "metadata": {},
   "outputs": [
    {
     "name": "stdout",
     "output_type": "stream",
     "text": [
      "No gaps found, all timestamps are continuous.\n"
     ]
    }
   ],
   "source": [
    "df['datetime_readable'] = pd.to_datetime(df['timestamp'], unit='s')\n",
    "\n",
    "# Calculate difference with next row\n",
    "df['time_diff_next'] = df['timestamp'].shift(-1) - df['timestamp']\n",
    "\n",
    "# Find where the difference is > 1\n",
    "gaps = df[df['time_diff_next'] > 1]\n",
    "\n",
    "if not gaps.empty:\n",
    "    print(\"Found gaps between these rows:\\n\")\n",
    "    for idx, row in gaps.iterrows():\n",
    "        next_idx = idx + 1\n",
    "        if next_idx in df.index:\n",
    "            print(f\"- Gap of {int(row['time_diff_next'])} seconds\")\n",
    "            print(f\"  Current row: timestamp {row['timestamp']} ({row['datetime_readable']})\")\n",
    "            print(f\"  Next row:    timestamp {df.loc[next_idx, 'timestamp']} ({df.loc[next_idx, 'datetime_readable']})\\n\")\n",
    "else:\n",
    "    print(\"No gaps found, all timestamps are continuous.\")"
   ]
  },
  {
   "cell_type": "code",
   "execution_count": null,
   "id": "791e96f8-1dab-48fc-b6aa-1c8048cb3154",
   "metadata": {},
   "outputs": [],
   "source": []
  }
 ],
 "metadata": {
  "kernelspec": {
   "display_name": "Python [conda env:base] *",
   "language": "python",
   "name": "conda-base-py"
  },
  "language_info": {
   "codemirror_mode": {
    "name": "ipython",
    "version": 3
   },
   "file_extension": ".py",
   "mimetype": "text/x-python",
   "name": "python",
   "nbconvert_exporter": "python",
   "pygments_lexer": "ipython3",
   "version": "3.12.7"
  }
 },
 "nbformat": 4,
 "nbformat_minor": 5
}
