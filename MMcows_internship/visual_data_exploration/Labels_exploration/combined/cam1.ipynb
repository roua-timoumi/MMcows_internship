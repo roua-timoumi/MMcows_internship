{
 "cells": [
  {
   "cell_type": "code",
   "execution_count": null,
   "id": "ca7ac008-998d-49d5-93a7-042f3eef7f63",
   "metadata": {},
   "outputs": [
    {
     "name": "stdout",
     "output_type": "stream",
     "text": [
      "Nombre de fichiers trouvés : 5040\n",
      "Exemples de fichiers : ['1690271846_02-57-26.txt', '1690271861_02-57-41.txt', '1690271876_02-57-56.txt', '1690271891_02-58-11.txt', '1690271906_02-58-26.txt']\n",
      "\n",
      "--- Contenu de 1690271846_02-57-26.txt ---\n",
      "9 0.35691964285714284 0.30660714285714286 0.16919642857142858 0.18321428571428572\n",
      "16 0.5859375 0.21821428571428572 0.08973214285714286 0.11\n",
      "5 0.68125 0.2675 0.10267857142857142 0.13285714285714287\n"
     ]
    }
   ],
   "source": [
    "import os\n",
    "\n",
    "folder = r\"C:\\Users\\rouat\\Desktop\\MMcows\\Datasets\\visual_data\\visual_data\\labels\\combined\\0725\\cam_1\"\n",
    "\n",
    "files = os.listdir(folder)\n",
    "print(\"Nombre de fichiers trouvés :\", len(files))\n",
    "print(\"Exemples de fichiers :\", files[:5])\n",
    "\n",
    "file_name = files[0]\n",
    "file_path = os.path.join(folder, file_name)\n",
    "\n",
    "print(f\"\\n--- Contenu de {file_name} ---\")\n",
    "\n",
    "with open(file_path, 'r', encoding='utf-8') as f:\n",
    "    lines = f.readlines()\n",
    "\n",
    "for line in lines[:3]:\n",
    "    print(line.strip())\n"
   ]
  },
  {
   "cell_type": "code",
   "execution_count": null,
   "id": "5be7490d-11ff-46be-9925-ac5eaf1e3f52",
   "metadata": {},
   "outputs": [],
   "source": []
  }
 ],
 "metadata": {
  "kernelspec": {
   "display_name": "Python [conda env:base] *",
   "language": "python",
   "name": "conda-base-py"
  },
  "language_info": {
   "codemirror_mode": {
    "name": "ipython",
    "version": 3
   },
   "file_extension": ".py",
   "mimetype": "text/x-python",
   "name": "python",
   "nbconvert_exporter": "python",
   "pygments_lexer": "ipython3",
   "version": "3.12.7"
  }
 },
 "nbformat": 4,
 "nbformat_minor": 5
}
