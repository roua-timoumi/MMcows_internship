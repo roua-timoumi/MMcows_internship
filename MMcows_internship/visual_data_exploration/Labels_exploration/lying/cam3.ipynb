{
 "cells": [
  {
   "cell_type": "code",
   "execution_count": null,
   "id": "fe683849-19ea-4fd4-a50e-ecd5efdb262f",
   "metadata": {},
   "outputs": [
    {
     "name": "stdout",
     "output_type": "stream",
     "text": [
      "Nombre de fichiers trouvés : 5036\n",
      "Exemples de fichiers : ['1690271846_02-57-26.txt', '1690271861_02-57-41.txt', '1690271876_02-57-56.txt', '1690271891_02-58-11.txt', '1690271906_02-58-26.txt']\n",
      "\n",
      "--- Contenu de 1690271846_02-57-26.txt ---\n",
      "5 0.14084821428571428 0.19017857142857142 0.12053571428571429 0.09464285714285714\n",
      "12 0.4627232142857143 0.10660714285714286 0.08482142857142858 0.07107142857142858\n",
      "16 0.16830357142857144 0.24 0.11696428571428572 0.11857142857142858\n"
     ]
    }
   ],
   "source": [
    "import os\n",
    "\n",
    "folder = r\"C:\\Users\\rouat\\Desktop\\MMcows\\Datasets\\visual_data\\visual_data\\labels\\combined\\0725\\cam_3\"\n",
    "\n",
    "files = os.listdir(folder)\n",
    "print(\"Nombre de fichiers trouvés :\", len(files))\n",
    "print(\"Exemples de fichiers :\", files[:5])\n",
    "\n",
    "file_name = files[0]\n",
    "file_path = os.path.join(folder, file_name)\n",
    "\n",
    "print(f\"\\n--- Contenu de {file_name} ---\")\n",
    "\n",
    "with open(file_path, 'r', encoding='utf-8') as f:\n",
    "    lines = f.readlines()\n",
    "\n",
    "for line in lines[:3]:\n",
    "    print(line.strip())\n"
   ]
  },
  {
   "cell_type": "code",
   "execution_count": null,
   "id": "df1e26ab-f618-4db7-9091-84ef520bd79f",
   "metadata": {},
   "outputs": [],
   "source": []
  }
 ],
 "metadata": {
  "kernelspec": {
   "display_name": "Python [conda env:base] *",
   "language": "python",
   "name": "conda-base-py"
  },
  "language_info": {
   "codemirror_mode": {
    "name": "ipython",
    "version": 3
   },
   "file_extension": ".py",
   "mimetype": "text/x-python",
   "name": "python",
   "nbconvert_exporter": "python",
   "pygments_lexer": "ipython3",
   "version": "3.12.7"
  }
 },
 "nbformat": 4,
 "nbformat_minor": 5
}
