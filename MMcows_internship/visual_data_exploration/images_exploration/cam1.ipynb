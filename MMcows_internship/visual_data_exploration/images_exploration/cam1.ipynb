{
 "cells": [
  {
   "cell_type": "code",
   "execution_count": null,
   "id": "a265bda4-9614-4973-ae5b-ac2839bc3fb8",
   "metadata": {},
   "outputs": [
    {
     "name": "stdout",
     "output_type": "stream",
     "text": [
      "Nombre total de fichiers dans le dossier : 5040\n",
      "Nombre total d'images JPG : 5040\n",
      "Exemple de noms de fichiers : ['1690271846_02-57-26.jpg', '1690271861_02-57-41.jpg', '1690271876_02-57-56.jpg', '1690271891_02-58-11.jpg', '1690271906_02-58-26.jpg']\n"
     ]
    }
   ],
   "source": [
    "import os\n",
    "import datetime \n",
    "\n",
    "folder = r\"C:\\Users\\rouat\\Desktop\\MMcows\\Datasets\\visual_data\\visual_data\\images\\0725\\cam_1\"\n",
    "\n",
    "\n",
    "files = os.listdir(folder)\n",
    "\n",
    "image_files = [f for f in files if f.lower().endswith('.jpg')]\n",
    "\n",
    "print(f\"Nombre total de fichiers dans le dossier : {len(files)}\")\n",
    "print(f\"Nombre total d'images JPG : {len(image_files)}\")\n",
    "\n",
    "print(\"Exemple de noms de fichiers :\", image_files[:5])\n"
   ]
  },
  {
   "cell_type": "code",
   "execution_count": 25,
   "id": "eba78b19-b4df-4b6a-95e8-4d91e376c24b",
   "metadata": {},
   "outputs": [
    {
     "name": "stdout",
     "output_type": "stream",
     "text": [
      "Timestamp minimal : 1690271846 → 2023-07-25 08:57:26\n",
      "Timestamp maximal : 1690347431 → 2023-07-26 05:57:11\n",
      "Valeurs uniques des intervalles (en secondes) : [15]\n"
     ]
    }
   ],
   "source": [
    "# Extraire les timestamps\n",
    "timestamps = []\n",
    "for filename in image_files:\n",
    "    ts_part = filename.split('_')[0]\n",
    "    try:\n",
    "        ts = int(ts_part)\n",
    "        timestamps.append(ts)\n",
    "    except:\n",
    "        print(f\"Nom inattendu : {filename}\")\n",
    "\n",
    "# Trier les timestamps\n",
    "timestamps.sort()\n",
    "\n",
    "# Timestamp minimal et maximal\n",
    "min_ts = timestamps[0]\n",
    "max_ts = timestamps[-1]\n",
    "\n",
    "# Conversion en date lisible\n",
    "min_dt = datetime.datetime.fromtimestamp(min_ts)\n",
    "max_dt = datetime.datetime.fromtimestamp(max_ts)\n",
    "\n",
    "print(f\"Timestamp minimal : {min_ts} → {min_dt}\")\n",
    "print(f\"Timestamp maximal : {max_ts} → {max_dt}\")\n",
    "\n",
    "# Calculer les différences entre timestamps consécutifs\n",
    "intervals = []\n",
    "for i in range(1, len(timestamps)):\n",
    "    delta = timestamps[i] - timestamps[i-1]\n",
    "    intervals.append(delta)\n",
    "\n",
    "# Valeurs uniques triées des différences\n",
    "unique_intervals = sorted(set(intervals))\n",
    "\n",
    "# Afficher le résultat\n",
    "print(f\"Valeurs uniques des intervalles (en secondes) : {unique_intervals}\")"
   ]
  },
  {
   "cell_type": "code",
   "execution_count": null,
   "id": "75d8bd1a-414e-433e-8e68-799a8ad5be3c",
   "metadata": {},
   "outputs": [],
   "source": []
  }
 ],
 "metadata": {
  "kernelspec": {
   "display_name": "Python [conda env:base] *",
   "language": "python",
   "name": "conda-base-py"
  },
  "language_info": {
   "codemirror_mode": {
    "name": "ipython",
    "version": 3
   },
   "file_extension": ".py",
   "mimetype": "text/x-python",
   "name": "python",
   "nbconvert_exporter": "python",
   "pygments_lexer": "ipython3",
   "version": "3.12.7"
  }
 },
 "nbformat": 4,
 "nbformat_minor": 5
}
