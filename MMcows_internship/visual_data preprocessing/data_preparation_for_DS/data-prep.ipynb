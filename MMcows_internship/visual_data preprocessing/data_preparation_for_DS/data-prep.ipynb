{
 "cells": [
  {
   "cell_type": "markdown",
   "id": "c22752db-45ab-4a1a-957a-f4b45a89a80c",
   "metadata": {},
   "source": [
    "**transformation de yolo en mot**"
   ]
  },
  {
   "cell_type": "code",
   "execution_count": null,
   "id": "09d94e17-fb05-4755-92a1-ada988045d96",
   "metadata": {},
   "outputs": [
    {
     "name": "stdout",
     "output_type": "stream",
     "text": [
      "✅ Données générées pour 'train' ➜ C:\\Users\\rouat\\Desktop\\DS_dataset\\train\\sequence_01\n",
      "✅ Données générées pour 'test' ➜ C:\\Users\\rouat\\Desktop\\DS_dataset\\test\\sequence_01\n"
     ]
    }
   ],
   "source": [
    "import os\n",
    "import shutil\n",
    "from pathlib import Path\n",
    "from PIL import Image\n",
    "from sklearn.model_selection import train_test_split\n",
    "import re\n",
    "\n",
    "images_folder = r\"C:\\Users\\rouat\\Desktop\\MMcows\\Datasets\\visual_data\\visual_data\\images\\0725\\cam_1\"\n",
    "labels_folder = r\"C:\\Users\\rouat\\Desktop\\MMcows\\Datasets\\visual_data\\visual_data\\labels\\combined\\0725\\cam_1\"\n",
    "\n",
    "output_root = os.path.join(os.path.expanduser(\"~\"), \"Desktop\", \"DS_dataset\")\n",
    "\n",
    "# Fonction pour trier par timestamp\n",
    "def sort_by_timestamp(filename):\n",
    "    match = re.match(r\"(\\d+)_\", filename)\n",
    "    return int(match.group(1)) if match else float('inf')\n",
    "\n",
    "# Fonction de conversion YOLO → bbox\n",
    "def yolo_to_bbox(yolo_line, img_w, img_h):\n",
    "    parts = yolo_line.strip().split()\n",
    "    object_id = int(parts[0])  \n",
    "    x_center = float(parts[1]) * img_w\n",
    "    y_center = float(parts[2]) * img_h\n",
    "    width = float(parts[3]) * img_w\n",
    "    height = float(parts[4]) * img_h\n",
    "    bb_left = x_center - width / 2\n",
    "    bb_top = y_center - height / 2\n",
    "    return object_id, bb_left, bb_top, width, height\n",
    "\n",
    "# Fonction principale pour préparer les séquences train/test\n",
    "def prepare_sequence(images_list, split_name):\n",
    "    sequence_path = os.path.join(output_root, split_name, \"sequence_01\")\n",
    "    img1_folder = os.path.join(sequence_path, \"img1\")\n",
    "    det_folder = os.path.join(sequence_path, \"det\")\n",
    "    gt_folder = os.path.join(sequence_path, \"gt\")\n",
    "\n",
    "    os.makedirs(img1_folder, exist_ok=True)\n",
    "    os.makedirs(det_folder, exist_ok=True)\n",
    "    os.makedirs(gt_folder, exist_ok=True)\n",
    "\n",
    "    det_txt_path = os.path.join(det_folder, \"det.txt\")\n",
    "    gt_txt_path = os.path.join(gt_folder, \"gt.txt\")  \n",
    "\n",
    "    with open(det_txt_path, \"w\") as det_file, open(gt_txt_path, \"w\") as gt_file:\n",
    "        for frame_id, image_name in enumerate(images_list, start=1):\n",
    "            img_path = os.path.join(images_folder, image_name)\n",
    "            label_name = os.path.splitext(image_name)[0] + \".txt\"\n",
    "            label_path = os.path.join(labels_folder, label_name)\n",
    "\n",
    "            new_image_name = f\"{frame_id:06d}.jpg\"\n",
    "            shutil.copy2(img_path, os.path.join(img1_folder, new_image_name))\n",
    "\n",
    "            with Image.open(img_path) as img:\n",
    "                img_w, img_h = img.size\n",
    "\n",
    "            if not os.path.exists(label_path):\n",
    "                continue\n",
    "\n",
    "            with open(label_path, \"r\") as f:\n",
    "                lines = f.readlines()\n",
    "\n",
    "            for line in lines:\n",
    "                object_id, x, y, w, h = yolo_to_bbox(line, img_w, img_h)\n",
    "\n",
    "                class_id = 0\n",
    "\n",
    "                det_line = f\"{frame_id},-1,{x:.2f},{y:.2f},{w:.2f},{h:.2f},1.0,-1,-1,-1\\n\"\n",
    "                det_file.write(det_line)\n",
    "\n",
    "                gt_line = f\"{frame_id},{object_id},{x:.2f},{y:.2f},{w:.2f},{h:.2f},1,0,1.0\\n\"\n",
    "                gt_file.write(gt_line)\n",
    "\n",
    "    print(f\" Données générées pour '{split_name}' ➜ {sequence_path}\")\n",
    "\n",
    "image_files = sorted(os.listdir(images_folder), key=sort_by_timestamp)\n",
    "\n",
    "train_images, test_images = train_test_split(\n",
    "    image_files, test_size=0.2, random_state=42, shuffle=False\n",
    ")\n",
    "\n",
    "prepare_sequence(train_images, \"train\")\n",
    "prepare_sequence(test_images, \"test\")\n"
   ]
  },
  {
   "cell_type": "markdown",
   "id": "8645b8ed-72c4-4492-bcd6-2d168b81a888",
   "metadata": {},
   "source": [
    "**evaluation**"
   ]
  },
  {
   "cell_type": "code",
   "execution_count": null,
   "id": "6e12c59b-1f4e-4fd8-806f-735d5fca9a2e",
   "metadata": {},
   "outputs": [],
   "source": []
  }
 ],
 "metadata": {
  "kernelspec": {
   "display_name": "Python [conda env:deep_sort_env]",
   "language": "python",
   "name": "conda-env-deep_sort_env-py"
  },
  "language_info": {
   "codemirror_mode": {
    "name": "ipython",
    "version": 3
   },
   "file_extension": ".py",
   "mimetype": "text/x-python",
   "name": "python",
   "nbconvert_exporter": "python",
   "pygments_lexer": "ipython3",
   "version": "3.9.23"
  }
 },
 "nbformat": 4,
 "nbformat_minor": 5
}
