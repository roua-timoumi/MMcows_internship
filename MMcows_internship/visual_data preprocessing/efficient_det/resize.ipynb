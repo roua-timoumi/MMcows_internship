{
 "cells": [
  {
   "cell_type": "code",
   "execution_count": 3,
   "id": "c1760814-e5ba-4642-970d-8400c0d3fc7c",
   "metadata": {},
   "outputs": [
    {
     "name": "stdout",
     "output_type": "stream",
     "text": [
      "Redimensionnement des images dans C:/Users/rouat/Yet-Another-EfficientDet-Pytorch/datasets/efficientdet\\train...\n",
      "Redimensionnement des images dans C:/Users/rouat/Yet-Another-EfficientDet-Pytorch/datasets/efficientdet\\val...\n",
      "Redimensionnement des images dans C:/Users/rouat/Yet-Another-EfficientDet-Pytorch/datasets/efficientdet\\test...\n",
      "Redimensionnement terminé.\n"
     ]
    }
   ],
   "source": [
    "import cv2\n",
    "import os\n",
    "\n",
    "base_folder = \"C:/Users/rouat/Yet-Another-EfficientDet-Pytorch/datasets/efficientdet\"\n",
    "subfolders = ['train', 'val', 'test']\n",
    "target_size = (640, 640)  \n",
    "\n",
    "for subfolder in subfolders:\n",
    "    folder_path = os.path.join(base_folder, subfolder)\n",
    "    if not os.path.exists(folder_path):\n",
    "        print(f\"Le dossier {folder_path} n'existe pas, skip.\")\n",
    "        continue\n",
    "\n",
    "    print(f\"Redimensionnement des images dans {folder_path}...\")\n",
    "    for filename in os.listdir(folder_path):\n",
    "        if filename.lower().endswith(('.jpg', '.jpeg', '.png')):\n",
    "            img_path = os.path.join(folder_path, filename)\n",
    "            img = cv2.imread(img_path)\n",
    "            if img is None:\n",
    "                print(f\"Impossible de lire {img_path}, skip.\")\n",
    "                continue\n",
    "            resized_img = cv2.resize(img, target_size)\n",
    "            cv2.imwrite(img_path, resized_img)\n",
    "\n",
    "print(\"Redimensionnement terminé.\")\n"
   ]
  },
  {
   "cell_type": "code",
   "execution_count": null,
   "id": "1a2a6df0-4002-499b-92bd-229d351b54b0",
   "metadata": {},
   "outputs": [],
   "source": []
  }
 ],
 "metadata": {
  "kernelspec": {
   "display_name": "Python [conda env:yolov8]",
   "language": "python",
   "name": "conda-env-yolov8-py"
  },
  "language_info": {
   "codemirror_mode": {
    "name": "ipython",
    "version": 3
   },
   "file_extension": ".py",
   "mimetype": "text/x-python",
   "name": "python",
   "nbconvert_exporter": "python",
   "pygments_lexer": "ipython3",
   "version": "3.10.18"
  }
 },
 "nbformat": 4,
 "nbformat_minor": 5
}
