{
 "cells": [
  {
   "cell_type": "markdown",
   "id": "d772c3bc-3f31-4a55-aa1b-99b78b99bcde",
   "metadata": {},
   "source": [
    "**split for yolo :train,val,test**"
   ]
  },
  {
   "cell_type": "code",
   "execution_count": null,
   "id": "5eadb89d-bdf4-499b-9d57-87214e80c2b8",
   "metadata": {},
   "outputs": [
    {
     "name": "stdout",
     "output_type": "stream",
     "text": [
      "Organisation terminée avec succès \n"
     ]
    }
   ],
   "source": [
    "import os \n",
    "import shutil\n",
    "import random \n",
    "\n",
    "image_dir = \"C:/Users/rouat/Desktop/MMcows/Datasets/visual_data/visual_data/images/0725/cam_1\"\n",
    "label_dir = \"C:/Users/rouat/Desktop/MMcows/Datasets/visual_data/visual_data/labels/combined/0725/cam_1\"\n",
    "\n",
    "output = \"C:/Users/rouat/Desktop/MMcows/Datasets/yolo\"\n",
    "\n",
    "splits = [\"train\", \"val\", \"test\"]\n",
    "ratios = [0.7, 0.2, 0.1]\n",
    "\n",
    "for split in splits:\n",
    "    os.makedirs(os.path.join(output, \"images\", split), exist_ok=True)\n",
    "    os.makedirs(os.path.join(output, \"labels\", split), exist_ok=True)\n",
    "\n",
    "image_files = [f for f in os.listdir(image_dir) if f.endswith((\".jpg\", \".png\"))]\n",
    "paired_files = []\n",
    "for img_file in image_files:\n",
    "    label_file = os.path.splitext(img_file)[0] + \".txt\"\n",
    "    if os.path.exists(os.path.join(label_dir, label_file)):\n",
    "        paired_files.append((img_file, label_file))\n",
    "\n",
    "random.shuffle(paired_files)\n",
    "\n",
    "n = len(paired_files)\n",
    "train_end = int(ratios[0] * n)\n",
    "val_end = train_end + int(ratios[1] * n)\n",
    "\n",
    "splits_data = {\n",
    "    \"train\": paired_files[:train_end],\n",
    "    \"val\": paired_files[train_end:val_end],\n",
    "    \"test\": paired_files[val_end:]\n",
    "}\n",
    "\n",
    "for split, files in splits_data.items():\n",
    "    for img_file, label_file in files:\n",
    "        shutil.copy(os.path.join(image_dir, img_file), os.path.join(output, \"images\", split, img_file))\n",
    "        shutil.copy(os.path.join(label_dir, label_file), os.path.join(output, \"labels\", split, label_file))\n",
    "\n",
    "print(\"Organisation terminée avec succès \")\n"
   ]
  },
  {
   "cell_type": "markdown",
   "id": "5324f536-adf2-4c8e-bcb8-7026469e7f8a",
   "metadata": {},
   "source": [
    "**Subtract 1 from the ID**"
   ]
  },
  {
   "cell_type": "code",
   "execution_count": 31,
   "id": "2d5fc128-c8cb-4cbf-a434-027b7f00b820",
   "metadata": {},
   "outputs": [],
   "source": [
    "import os\n",
    "\n",
    "base_label_folder = r\"C:\\Users\\rouat\\Desktop\\MMcows\\Datasets\\yolo\\labels\"\n",
    "subfolders = [\"train\", \"val\", \"test\"]\n",
    "\n",
    "for subfolder in subfolders:\n",
    "    folder_path = os.path.join(base_label_folder, subfolder)\n",
    "    if os.path.exists(folder_path):\n",
    "        for filename in os.listdir(folder_path):\n",
    "            if filename.endswith(\".txt\"):\n",
    "                file_path = os.path.join(folder_path, filename)\n",
    "                new_lines = []\n",
    "                with open(file_path, \"r\") as f:\n",
    "                    lines = f.readlines()\n",
    "                    for line in lines:\n",
    "                        parts = line.strip().split()\n",
    "                        if len(parts) >= 5:\n",
    "                            class_id = int(parts[0]) - 1  \n",
    "                            rest = parts[1:]\n",
    "                            new_line = f\"{class_id} \" + \" \".join(rest)\n",
    "                            new_lines.append(new_line)\n",
    "\n",
    "                with open(file_path, \"w\") as f:\n",
    "                    f.write(\"\\n\".join(new_lines))\n",
    "    else:\n",
    "        print(f\"Le dossier {folder_path} n'existe pas.\")\n"
   ]
  }
 ],
 "metadata": {
  "kernelspec": {
   "display_name": "Python [conda env:base] *",
   "language": "python",
   "name": "conda-base-py"
  },
  "language_info": {
   "codemirror_mode": {
    "name": "ipython",
    "version": 3
   },
   "file_extension": ".py",
   "mimetype": "text/x-python",
   "name": "python",
   "nbconvert_exporter": "python",
   "pygments_lexer": "ipython3",
   "version": "3.12.7"
  }
 },
 "nbformat": 4,
 "nbformat_minor": 5
}
